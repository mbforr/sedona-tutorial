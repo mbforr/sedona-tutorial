{
 "cells": [
  {
   "cell_type": "code",
   "execution_count": 1,
   "id": "843a9e01-c046-4725-b9f4-b2925ca0c75c",
   "metadata": {
    "scrolled": true
   },
   "outputs": [
    {
     "name": "stderr",
     "output_type": "stream",
     "text": [
      "https://artifacts.unidata.ucar.edu/repository/unidata-all added as a remote repository with the name: repo-1\n",
      "Ivy Default Cache set to: /Users/mattforrest/.ivy2/cache\n",
      "The jars for the packages stored in: /Users/mattforrest/.ivy2/jars\n",
      "org.apache.sedona#sedona-spark-shaded-3.5_2.12 added as a dependency\n",
      "org.datasyslab#geotools-wrapper added as a dependency\n",
      "org.apache.hadoop#hadoop-aws added as a dependency\n",
      ":: resolving dependencies :: org.apache.spark#spark-submit-parent-cc0a348d-af6a-4720-96cd-ccfd0e29c9ac;1.0\n",
      "\tconfs: [default]\n",
      "\tfound org.apache.sedona#sedona-spark-shaded-3.5_2.12;1.7.1 in central\n",
      "\tfound org.datasyslab#geotools-wrapper;1.7.0-28.5 in central\n",
      "\tfound org.apache.hadoop#hadoop-aws;3.3.2 in central\n",
      "\tfound com.amazonaws#aws-java-sdk-bundle;1.11.1026 in central\n",
      "\tfound org.wildfly.openssl#wildfly-openssl;1.0.7.Final in central\n",
      ":: resolution report :: resolve 104ms :: artifacts dl 5ms\n",
      "\t:: modules in use:\n",
      "\tcom.amazonaws#aws-java-sdk-bundle;1.11.1026 from central in [default]\n",
      "\torg.apache.hadoop#hadoop-aws;3.3.2 from central in [default]\n",
      "\torg.apache.sedona#sedona-spark-shaded-3.5_2.12;1.7.1 from central in [default]\n",
      "\torg.datasyslab#geotools-wrapper;1.7.0-28.5 from central in [default]\n",
      "\torg.wildfly.openssl#wildfly-openssl;1.0.7.Final from central in [default]\n",
      "\t---------------------------------------------------------------------\n",
      "\t|                  |            modules            ||   artifacts   |\n",
      "\t|       conf       | number| search|dwnlded|evicted|| number|dwnlded|\n",
      "\t---------------------------------------------------------------------\n",
      "\t|      default     |   5   |   0   |   0   |   0   ||   5   |   0   |\n",
      "\t---------------------------------------------------------------------\n",
      ":: retrieving :: org.apache.spark#spark-submit-parent-cc0a348d-af6a-4720-96cd-ccfd0e29c9ac\n",
      "\tconfs: [default]\n",
      "\t0 artifacts copied, 5 already retrieved (0kB/3ms)\n"
     ]
    },
    {
     "name": "stdout",
     "output_type": "stream",
     "text": [
      ":: loading settings :: url = jar:file:/Users/mattforrest/Documents/sedona-tutorial/.venv/lib/python3.13/site-packages/pyspark/jars/ivy-2.5.1.jar!/org/apache/ivy/core/settings/ivysettings.xml\n"
     ]
    },
    {
     "name": "stderr",
     "output_type": "stream",
     "text": [
      "25/05/22 12:27:38 WARN NativeCodeLoader: Unable to load native-hadoop library for your platform... using builtin-java classes where applicable\n",
      "Setting default log level to \"WARN\".\n",
      "To adjust logging level use sc.setLogLevel(newLevel). For SparkR, use setLogLevel(newLevel).\n"
     ]
    }
   ],
   "source": [
    "from sedona.spark import SedonaContext\n",
    "\n",
    "config = (\n",
    "    SedonaContext.builder()\n",
    "    .config(\n",
    "        \"spark.jars.packages\",\n",
    "        \",\".join([\n",
    "            \"org.apache.sedona:sedona-spark-shaded-3.5_2.12:1.7.1\",\n",
    "            \"org.datasyslab:geotools-wrapper:1.7.0-28.5\",\n",
    "            \"org.apache.hadoop:hadoop-aws:3.3.2\"\n",
    "        ])\n",
    "    )\n",
    "    .config(\"spark.jars.repositories\", \"https://artifacts.unidata.ucar.edu/repository/unidata-all\")        \n",
    "    .config(\"spark.hadoop.fs.s3a.connection.ssl.enabled\", \"true\") \\\n",
    "    .config(\"spark.hadoop.fs.s3a.path.style.access\", \"true\") \\\n",
    "    .config(\"spark.hadoop.fs.s3a.impl\", \"org.apache.hadoop.fs.s3a.S3AFileSystem\") \\\n",
    "    .config(\"spark.hadoop.fs.s3a.impl\", \"org.apache.hadoop.fs.s3a.S3AFileSystem\")\n",
    "    .config(\"spark.hadoop.fs.s3a.path.style.access\", \"true\")\n",
    "    .config(\"spark.hadoop.fs.s3a.aws.credentials.provider\", \n",
    "        \"org.apache.hadoop.fs.s3a.AnonymousAWSCredentialsProvider\") \\\n",
    "    .config(\"spark.executor.memory\", \"12G\")\n",
    "    .config(\"spark.driver.memory\", \"12G\")\n",
    "    .config(\"spark.sql.shuffle.partitions\", \"2\")\n",
    "    .getOrCreate()\n",
    ")\n",
    "\n",
    "sedona = SedonaContext.create(config)\n",
    "sedona.sparkContext.setLogLevel(\"ERROR\")\n",
    "\n",
    "sedona.conf.set(\"fs.https.impl\", \"org.apache.hadoop.fs.http.HttpsFileSystem\")"
   ]
  },
  {
   "cell_type": "markdown",
   "id": "be5197b4-0336-4445-b840-31a584122eed",
   "metadata": {
    "jp-MarkdownHeadingCollapsed": true
   },
   "source": [
    "# Part 1: Simple Example"
   ]
  },
  {
   "cell_type": "markdown",
   "id": "75110e5a-5f72-4d54-91e0-7f31f40fd42b",
   "metadata": {},
   "source": [
    "## Create a Dataframe"
   ]
  },
  {
   "cell_type": "code",
   "execution_count": null,
   "id": "85a08f7a-a716-45b5-8466-1722fabdbaa8",
   "metadata": {},
   "outputs": [
    {
     "ename": "",
     "evalue": "",
     "output_type": "error",
     "traceback": [
      "\u001b[1;31mFailed to connect to the remote Jupyter Server 'http://127.0.0.1:8888/'. Verify the server is running and reachable. (Failed to connect to the remote Jupyter Server 'http://127.0.0.1:8888/'. Verify the server is running and reachable. (Forbidden).)."
     ]
    }
   ],
   "source": [
    "from pyspark.sql import Row"
   ]
  },
  {
   "cell_type": "code",
   "execution_count": null,
   "id": "5a38e2a2-4bf9-4015-b821-c4c6b7c8bdfd",
   "metadata": {},
   "outputs": [],
   "source": [
    "data = [\n",
    "    Row(id=1, name=\"Point A\", lat=40.7128, lon=-74.0060),\n",
    "    Row(id=2, name=\"Point B\", lat=34.0522, lon=-118.2437),\n",
    "    Row(id=3, name=\"Point C\", lat=37.7749, lon=-122.4194)\n",
    "]"
   ]
  },
  {
   "cell_type": "code",
   "execution_count": null,
   "id": "8a7792cd-d41e-4b2e-8125-e1fe7d6cbbd9",
   "metadata": {},
   "outputs": [],
   "source": [
    "df = sedona.createDataFrame(data)\n",
    "df.show()"
   ]
  },
  {
   "cell_type": "code",
   "execution_count": null,
   "id": "19b1739b-8832-4713-be86-84b976822bf1",
   "metadata": {},
   "outputs": [],
   "source": [
    "from pyspark.sql.functions import expr"
   ]
  },
  {
   "cell_type": "code",
   "execution_count": null,
   "id": "f51da86e-65c4-4140-ac2e-e9a2d1f408b3",
   "metadata": {},
   "outputs": [],
   "source": [
    "df_geom = df.withColumn(\"geom\", \n",
    "                        expr(\"ST_Point(cast(lon as Decimal(24, 20)), cast(lat as Decimal(24, 20)))\"))"
   ]
  },
  {
   "cell_type": "code",
   "execution_count": null,
   "id": "ec52eabc-9eb3-48a3-b259-7f15df2102c5",
   "metadata": {},
   "outputs": [],
   "source": [
    "df_geom.show(truncate=False)"
   ]
  },
  {
   "cell_type": "markdown",
   "id": "c17705f5-ce57-4487-8c00-494ac1c6688b",
   "metadata": {},
   "source": [
    "## Simple Query"
   ]
  },
  {
   "cell_type": "code",
   "execution_count": null,
   "id": "06f9ceda-442f-4afb-94a6-bf2d01540c82",
   "metadata": {},
   "outputs": [],
   "source": [
    "sql = \"\"\"\n",
    "SELECT ST_AreaSpheroid(\n",
    "    ST_GeomFromWKT('Polygon ((34 35, 28 30, 25 34, 34 35))')\n",
    ") as result\n",
    "\"\"\""
   ]
  },
  {
   "cell_type": "code",
   "execution_count": null,
   "id": "d60a8b46-bbba-42bd-875a-81d91d6562ff",
   "metadata": {},
   "outputs": [],
   "source": [
    "sedona.sql(sql).show(truncate=False)"
   ]
  },
  {
   "cell_type": "markdown",
   "id": "b54931cd-9244-4c8b-bcaf-4d91caa0c2d8",
   "metadata": {},
   "source": [
    "## Spatial Filter"
   ]
  },
  {
   "cell_type": "code",
   "execution_count": null,
   "id": "b78d9078-93d0-4cde-8f48-fc6fbb5079bf",
   "metadata": {},
   "outputs": [],
   "source": [
    "from pyspark.sql import Row"
   ]
  },
  {
   "cell_type": "code",
   "execution_count": null,
   "id": "152ec662-dbfa-490c-8ba7-49331157786f",
   "metadata": {},
   "outputs": [],
   "source": [
    "data = [\n",
    "    Row(id=1, name=\"Point A\", lat=40.7128, lon=-74.0060),\n",
    "    Row(id=2, name=\"Point B\", lat=34.0522, lon=-118.2437),\n",
    "    Row(id=3, name=\"Point C\", lat=37.7749, lon=-122.4194)\n",
    "]"
   ]
  },
  {
   "cell_type": "code",
   "execution_count": null,
   "id": "ca435585-06aa-49a3-b5b6-4f6e9d5acd4f",
   "metadata": {},
   "outputs": [],
   "source": [
    "df = sedona.createDataFrame(data)\n",
    "df.show()"
   ]
  },
  {
   "cell_type": "code",
   "execution_count": null,
   "id": "6bbb4d53-9eca-470e-b7be-04672a73e346",
   "metadata": {},
   "outputs": [],
   "source": [
    "from pyspark.sql.functions import expr"
   ]
  },
  {
   "cell_type": "code",
   "execution_count": null,
   "id": "8d3a2408-c0a5-4ae7-9310-a4cd9a81e477",
   "metadata": {},
   "outputs": [],
   "source": [
    "df_geom = df.withColumn(\"geom\", expr(\"ST_Point(cast(lon as Decimal(24, 20)), cast(lat as Decimal(24, 20)))\"))\n",
    "df_geom.show(truncate=False)"
   ]
  },
  {
   "cell_type": "code",
   "execution_count": null,
   "id": "24f5d343-7b79-45aa-a5c6-a9f71adb1334",
   "metadata": {},
   "outputs": [],
   "source": [
    "df_geom.createOrReplaceTempView(\"points\")"
   ]
  },
  {
   "cell_type": "code",
   "execution_count": null,
   "id": "aafd82bd-95c7-437e-a2b0-aeaaab6be11b",
   "metadata": {},
   "outputs": [],
   "source": [
    "sedona.sql(\"\"\"\n",
    "SELECT id, name, ST_AsText(geom) AS wkt\n",
    "FROM points\n",
    "WHERE ST_Within(geom, ST_GeomFromText('POLYGON((-120 20, -60 20, -60 50, -120 50, -120 20))'))\n",
    "\"\"\").show(truncate=False)"
   ]
  },
  {
   "cell_type": "markdown",
   "id": "d77cd226-9f67-421a-9af4-4bf42cf6dc32",
   "metadata": {},
   "source": [
    "## Same as above, but Pythonic"
   ]
  },
  {
   "cell_type": "code",
   "execution_count": null,
   "id": "b8f99dd0-b9e7-4047-a6fc-3344aa1330e1",
   "metadata": {},
   "outputs": [],
   "source": [
    "from sedona.sql.st_constructors import ST_GeomFromText\n",
    "from sedona.sql.st_functions import ST_AsText\n",
    "from sedona.sql.st_predicates import ST_Within\n",
    "from pyspark.sql.functions import lit"
   ]
  },
  {
   "cell_type": "code",
   "execution_count": null,
   "id": "83d9018e-636c-4494-86cf-4973ed094bc2",
   "metadata": {},
   "outputs": [],
   "source": [
    "polygon_wkt = 'POLYGON((-120 20, -60 20, -60 50, -120 50, -120 20))'\n",
    "polygon_geom = ST_GeomFromText(lit(polygon_wkt))"
   ]
  },
  {
   "cell_type": "code",
   "execution_count": null,
   "id": "08b98ab6-76de-4ab4-a96e-c2c0ae8ca92e",
   "metadata": {},
   "outputs": [],
   "source": [
    "df_filtered = df_geom.filter(\n",
    "    ST_Within(df_geom[\"geom\"], polygon_geom)). \\\n",
    "    select(\n",
    "        \"id\", \"name\", ST_AsText(\"geom\").alias(\"wkt\")\n",
    "    )\n",
    "\n",
    "df_filtered.show(truncate=False)"
   ]
  },
  {
   "cell_type": "markdown",
   "id": "e6a409b1-a446-4466-8b15-d0e9c29ab94c",
   "metadata": {
    "jp-MarkdownHeadingCollapsed": true
   },
   "source": [
    "# Part 2: Reading Vector Data"
   ]
  },
  {
   "cell_type": "code",
   "execution_count": 2,
   "id": "ed01e2c1-11e8-419c-b193-18aa4a36ea3c",
   "metadata": {},
   "outputs": [],
   "source": [
    "geojson_path = 'data/Neighborhood_Map_Atlas_Neighborhoods.geojson'\n",
    "geojson_df = sedona.read.format(\"geojson\").load(geojson_path)"
   ]
  },
  {
   "cell_type": "code",
   "execution_count": 3,
   "id": "2976b73b-28e0-4a4c-8445-ec447c4465b9",
   "metadata": {},
   "outputs": [
    {
     "name": "stdout",
     "output_type": "stream",
     "text": [
      "root\n",
      " |-- _corrupt_record: string (nullable = true)\n",
      " |-- geometry: geometry (nullable = true)\n",
      " |-- properties: struct (nullable = true)\n",
      " |    |-- L_HOOD: string (nullable = true)\n",
      " |    |-- OBJECTID: long (nullable = true)\n",
      " |    |-- S_HOOD: string (nullable = true)\n",
      " |    |-- S_HOOD_ALT_NAMES: string (nullable = true)\n",
      " |    |-- Shape__Area: double (nullable = true)\n",
      " |    |-- Shape__Length: double (nullable = true)\n",
      " |-- type: string (nullable = true)\n",
      "\n"
     ]
    }
   ],
   "source": [
    "geojson_df.printSchema()"
   ]
  },
  {
   "cell_type": "code",
   "execution_count": 4,
   "id": "ed14f17c-1b0f-4e0f-803d-7f36a9c28027",
   "metadata": {},
   "outputs": [],
   "source": [
    "from pyspark.sql.functions import expr"
   ]
  },
  {
   "cell_type": "code",
   "execution_count": 5,
   "id": "d2afc400-efd2-4515-9771-5b32b4f31d5e",
   "metadata": {},
   "outputs": [],
   "source": [
    "geojson_df = (\n",
    "    sedona.read.format(\"geojson\").option(\"multiLine\", \"true\").load(geojson_path)\n",
    "    .selectExpr(\"explode(features) as features\")\n",
    "    .select(\"features.*\")\n",
    "    .withColumn(\"L_HOOD\", expr(\"properties['L_HOOD']\"))\n",
    "    .withColumn(\"OBJECTID\", expr(\"properties['OBJECTID']\"))\n",
    "    .withColumn(\"S_HOOD\", expr(\"properties['S_HOOD']\"))\n",
    "    .withColumn(\"S_HOOD_ALT_NAMES\", expr(\"properties['S_HOOD_ALT_NAMES']\"))\n",
    "    .drop(\"properties\").drop(\"type\")\n",
    ")"
   ]
  },
  {
   "cell_type": "code",
   "execution_count": 6,
   "id": "9bc5f191-d938-4d1b-be6b-ada722ddf2e4",
   "metadata": {},
   "outputs": [
    {
     "name": "stdout",
     "output_type": "stream",
     "text": [
      "root\n",
      " |-- geometry: geometry (nullable = true)\n",
      " |-- L_HOOD: string (nullable = true)\n",
      " |-- OBJECTID: long (nullable = true)\n",
      " |-- S_HOOD: string (nullable = true)\n",
      " |-- S_HOOD_ALT_NAMES: string (nullable = true)\n",
      "\n"
     ]
    }
   ],
   "source": [
    "geojson_df.printSchema()"
   ]
  },
  {
   "cell_type": "code",
   "execution_count": 7,
   "id": "ff5dabaa-6124-40da-b9be-759584f611f8",
   "metadata": {},
   "outputs": [
    {
     "data": {
      "text/plain": [
       "94"
      ]
     },
     "execution_count": 7,
     "metadata": {},
     "output_type": "execute_result"
    }
   ],
   "source": [
    "geojson_df.count()"
   ]
  },
  {
   "cell_type": "code",
   "execution_count": 8,
   "id": "36b9a74e-93a2-4a1c-99d7-0bfa5bafb134",
   "metadata": {},
   "outputs": [
    {
     "name": "stdout",
     "output_type": "stream",
     "text": [
      "+----------+---------+----------+--------------------+--------------------+---------------+-----------------+-----------------+-----------------+------+\n",
      "|table_name|data_type|identifier|         description|         last_change|          min_x|            min_y|            max_x|            max_y|srs_id|\n",
      "+----------+---------+----------+--------------------+--------------------+---------------+-----------------+-----------------+-----------------+------+\n",
      "|     parks| features| DPR.Parks|Locations of Seat...|2025-05-07 16:37:...|1244524.2382299|185216.9820538014|1292596.322203636|271529.3333788812|100000|\n",
      "+----------+---------+----------+--------------------+--------------------+---------------+-----------------+-----------------+-----------------+------+\n",
      "\n"
     ]
    }
   ],
   "source": [
    "df = (\n",
    "    sedona.read.format(\"geopackage\")\n",
    "    .option(\"showMetadata\", \"true\")\n",
    "    .load(\"data/parks.gpkg\")\n",
    ")\n",
    "df.show()"
   ]
  },
  {
   "cell_type": "code",
   "execution_count": 9,
   "id": "398079ec-a234-4821-be1e-f38b420b2b92",
   "metadata": {},
   "outputs": [
    {
     "name": "stdout",
     "output_type": "stream",
     "text": [
      "+---+--------------------+--------------------+--------------------+-----------------+----------+---------+----+-----+-----+-----+----+----------+--------+----------+-----------------+-----+----------+----------+----------+--------------------+\n",
      "|fid|                geom|                NAME|            PMA_NAME|          ADDRESS|       PIN|SUBPARCEL| PMA|OWNER|LEASE|MAINT|USE_|  ACQ_DATE|NAMEFLAG|REVIEW_DAT|           AMWOID| SDQL|SE_ANNO_CA|GIS_CRT_DT|GIS_EDT_DT|            GlobalID|\n",
      "+---+--------------------+--------------------+--------------------+-----------------+----------+---------+----+-----+-----+-----+----+----------+--------+----------+-----------------+-----+----------+----------+----------+--------------------+\n",
      "|  1|MULTIPOLYGON (((1...|                NULL|                NULL|             NULL|2489200285|    16822|4463|  SPU|    N|  SPU|NULL|1899-12-30|       0|2011-03-09|   PROPERTY-MYRES|QL-D3|      NULL|2025-05-07|2025-05-07|dc828a5f-e037-4a5...|\n",
      "|  2|MULTIPOLYGON (((1...|        OTHELLO PARK|        Othello Park|             NULL|0717000010|      182| 403|  DPR|    N|  DPR|  PG|2099-01-01|       9|2012-07-03|   PROPERTY-OTHPG|QL-D1|      NULL|2025-05-07|2025-05-07|54bd2a67-e162-41d...|\n",
      "|  3|MULTIPOLYGON (((1...|WEST DUWAMISH GRE...|West Duwamish Gre...|             NULL|7547300385|    16122| 282|  DPR|    N|  DPR|  GB|2001-10-19|       9|2002-06-18|PROPERTY-WDUWANDR|QL-D1|      NULL|2025-05-07|2025-05-07|5acc87aa-2c3f-46b...|\n",
      "|  4|MULTIPOLYGON (((1...|EAST DUWAMISH GRE...|East Duwamish GS:...|             NULL|3850900395|     1141| 283|  DPR|    N|  DPR|  GB|1994-12-19|       9|2004-03-31|   PROPERTY-EDUWI|QL-D1|      NULL|2025-05-07|2025-05-07|96c94a6e-c2fd-45e...|\n",
      "|  5|MULTIPOLYGON (((1...|  CASCADE PLAYGROUND|  Cascade Playground|333 PONTIUS AVE N|2467400335|     9853| 350|  DPR|    N|  DPR|  PK|1997-01-10|       9|1998-04-22|   PROPERTY-CASPG|QL-D1|      NULL|2025-05-07|2025-05-07|7052b63b-4fbf-48e...|\n",
      "|  6|MULTIPOLYGON (((1...|TWELFTH WEST AND ...|12th West & West ...|  1927 12th Ave W|2771602285|     3710| 281|  DPR|    N|  DPR|  GB|1995-09-05|       2|2004-03-30|  PROPERTY-12HOWE|QL-D1|      NULL|2025-05-07|2025-05-07|5cdef431-a0af-477...|\n",
      "|  7|MULTIPOLYGON (((1...|LAKE WASHINGTON B...|Lake Washington B...|             NULL|      NULL|     1506| 412|  DPR|    N|  SSD|  BV|1996-01-01|       9|2004-03-30|  PROPERTY-LKWBLN|QL-D1|      NULL|2025-05-07|2025-05-07|bdf780ca-f18e-4cd...|\n",
      "|  8|MULTIPOLYGON (((1...|WASHINGTON PARK A...|Washington Park a...|             NULL|2125049044|        0| 393|  DPR|    N|  DPR|  PK|1899-12-30|       9|2004-04-09|     PROPERTY-ARB|QL-D1|      NULL|2025-05-07|2025-05-07|4de9677f-5f73-4d6...|\n",
      "|  9|MULTIPOLYGON (((1...|DISCOVERY PARK TI...|Discovery Park Ti...|             NULL|7666200311|    20225|2952|  DNR|    Y|  DPR|  SP|1975-11-19|       9|1999-04-29|  PROPERTY-DPTIDE|QL-D1|      NULL|2025-05-07|2025-05-07|19fdb493-1bd1-4b1...|\n",
      "| 10|MULTIPOLYGON (((1...|        CARKEEK PARK|        Carkeek Park|             NULL|7474900065|    20578| 240|  DPR|    N|  DPR|  PK|1954-01-22|       9|2004-04-09|    PROPERTY-CKPK|QL-D1|      NULL|2025-05-07|2025-05-07|efd52512-d34e-4c4...|\n",
      "| 11|MULTIPOLYGON (((1...|        PIGEON POINT|        Pigeon Point| 4418 21st Ave SW|1324039078|     9818| 282|  DPR|    N|  DPR|  GB|1998-05-18|       2|1998-06-03|PROPERTY-WDUWANDR|QL-D1|      NULL|2025-05-07|2025-05-07|cd4fede4-978f-4d3...|\n",
      "| 12|MULTIPOLYGON (((1...|       ANDOVER PLACE|       Andover Place|             NULL|1563100015|      402|2927|  DPR|    N|  DPR|  PK|1949-08-20|       2|1998-05-28|  PROPERTY-ANDOPL|QL-D1|      NULL|2025-05-07|2025-05-07|14a39f1f-34d0-426...|\n",
      "| 13|MULTIPOLYGON (((1...|DUWAMISH HEAD GRE...|Duwamish Head Gre...|             NULL|9275701720|     9445| 451|  DPR|    N|  DPR|  GB|1993-12-06|       9|2004-04-01|   PROPERTY-DUWFM|QL-D1|      NULL|2025-05-07|2025-05-07|4b2fb6b8-5a07-473...|\n",
      "| 14|MULTIPOLYGON (((1...|MARTIN LUTHER KIN...|Martin Luther Kin...|             NULL|5393601540|    15520|3923|  DPR|    N|  DPR|  PK|1976-06-11|       9|2004-04-07|   PROPERTY-MLKPK|QL-D1|      NULL|2025-05-07|2025-05-07|a1fc82b5-7a35-4c3...|\n",
      "| 15|MULTIPOLYGON (((1...|     LANDING PARKWAY|     Landing Parkway| 4099 S Horton St|      NULL|     3858|3929|  DPR|    N|  DPR|  CS|2099-01-01|       2|2004-04-08|   PROPERTY-LNDPW|QL-D1|      NULL|2025-05-07|2025-05-07|cabc97cb-9c80-4c7...|\n",
      "| 16|MULTIPOLYGON (((1...| POWELL BARNETT PARK| Powell Barnett Park|             NULL|6840700825|     1516| 345|  DPR|    N|  DPR|  PK|2099-01-01|       2|1899-12-30|  PROPERTY-PBARPK|QL-D1|      NULL|2025-05-07|2025-05-07|28d407bd-b858-45f...|\n",
      "| 17|MULTIPOLYGON (((1...|WASHINGTON PARK -...|Washington Park -...|             NULL|2125049044|      657|4487|  DPR|    N|  DPR|  PK|2099-01-01|       9|2012-12-18|  PROPERTY-WAJGRD|QL-D1|      NULL|2025-05-07|2025-05-07|03bd108c-7024-41c...|\n",
      "| 18|MULTIPOLYGON (((1...|SW QUEEN ANNE GRE...|SW Queen Anne Gre...|             NULL|7705100055|     1728| 234|  DPR|    N|  DPR|  GB|1992-12-03|       9|2004-03-30| PROPERTY-SWQAGRB|QL-D1|      NULL|2025-05-07|2025-05-07|ecde76fe-4c5c-44f...|\n",
      "| 19|MULTIPOLYGON (((1...|DISCOVERY PARK TI...|Discovery Park Ti...|             NULL|7666200311|    20225|2952|  DNR|    Y|  DPR|  SP|1975-11-19|       9|1999-04-29|  PROPERTY-DPTIDE|QL-D1|      NULL|2025-05-07|2025-05-07|4e10ef34-1466-40e...|\n",
      "| 20|MULTIPOLYGON (((1...|  BURKE-GILMAN TRAIL|  Burke-Gilman Trail|             NULL|      NULL|        0| 476| SDOT|    N|  DPR|  TR|1899-12-30|       9|2007-07-31|    PROPERTY-BGTR|QL-D1|      NULL|2025-05-07|2025-05-07|60a7cd23-c4d3-4e4...|\n",
      "+---+--------------------+--------------------+--------------------+-----------------+----------+---------+----+-----+-----+-----+----+----------+--------+----------+-----------------+-----+----------+----------+----------+--------------------+\n",
      "only showing top 20 rows\n",
      "\n"
     ]
    }
   ],
   "source": [
    "df = (\n",
    "    sedona.read.format(\"geopackage\")\n",
    "    .option(\"tableName\", \"parks\")\n",
    "    .load(\"data/parks.gpkg\")\n",
    ")\n",
    "df.show()"
   ]
  },
  {
   "cell_type": "code",
   "execution_count": 10,
   "id": "8951375e-c35a-4a62-9ed2-2a7c5c1c2b33",
   "metadata": {},
   "outputs": [],
   "source": [
    "shapefile_path = 'data/parks/'\n",
    "shapefile_df = sedona.read.format(\"shapefile\").load(shapefile_path)"
   ]
  },
  {
   "cell_type": "code",
   "execution_count": 11,
   "id": "acf7dcd4-4665-454f-acd4-ee6f3bf94aa9",
   "metadata": {
    "scrolled": true
   },
   "outputs": [
    {
     "name": "stdout",
     "output_type": "stream",
     "text": [
      "+----+---------+------------+----------+----------+--------+------------+-----------+---------+----------------+-----------------+----+-----------+-------+--------------------+-----------+--------+-------+----------+---------+--------+----+------+----------+-----+-----------+---------+-------+----+---------+---------+---------+---------+---------+----+----+---------+-------------+------------+-------------+-------------+----------------+------------+----------+-------------+-------------+---------------+----------+---------+\n",
      "| _c0|      _c1|         _c2|       _c3|       _c4|     _c5|         _c6|        _c7|      _c8|             _c9|             _c10|_c11|       _c12|   _c13|                _c14|       _c15|    _c16|   _c17|      _c18|     _c19|    _c20|_c21|  _c22|      _c23| _c24|       _c25|     _c26|   _c27|_c28|     _c29|     _c30|     _c31|     _c32|     _c33|_c34|_c35|     _c36|         _c37|        _c38|         _c39|         _c40|            _c41|        _c42|      _c43|         _c44|         _c45|           _c46|      _c47|     _c48|\n",
      "+----+---------+------------+----------+----------+--------+------------+-----------+---------+----------------+-----------------+----+-----------+-------+--------------------+-----------+--------+-------+----------+---------+--------+----+------+----------+-----+-----------+---------+-------+----+---------+---------+---------+---------+---------+----+----+---------+-------------+------------+-------------+-------------+----------------+------------+----------+-------------+-------------+---------------+----------+---------+\n",
      "|NULL|  sale_id|        pinx| sale_date|sale_price|sale_nbr|sale_warning|join_status|join_year|        latitude|        longitude|area|       city| zoning|         subdivision|present_use|land_val|imp_val|year_built|year_reno|sqft_lot|sqft|sqft_1|sqft_fbsmt|grade|fbsmt_grade|condition|stories|beds|bath_full|bath_3qtr|bath_half|garb_sqft|gara_sqft|wfnt|golf|greenbelt|noise_traffic|view_rainier|view_olympics|view_cascades|view_territorial|view_skyline|view_sound|view_lakewash|view_lakesamm|view_otherwater|view_other|submarket|\n",
      "|   1|1999..144|..2734100475|1999-01-05|    150000|       1|            |       demo|     1999|47.5443593727551|-122.320786201295|  78|    SEATTLE|SF 5000|          GEORGETOWN|          2|   21000|  66000|      1900|        0|    4000|1410|   760|         0|    7|          0|        3|    1.5|   3|        1|        0|        0|        0|        0|   0|   0|        0|            2|           0|            0|            0|               0|           0|         0|            0|            0|              0|         0|        E|\n",
      "|   2|1999..258|..1535200725|1999-01-05|    235000|       1|            |       demo|     1999|47.4212473891173|-122.438138927639| 100|KING COUNTY| RA2.5P|CHAUTAUQUA BEACH ADD|          2|   46000| 132000|      1916|        0|    6695| 990|   990|         0|    6|          0|        4|      1|   2|        1|        0|        0|        0|        0|   0|   0|        0|            0|           0|            0|            0|               2|           0|         0|            0|            0|              0|         0|        H|\n",
      "+----+---------+------------+----------+----------+--------+------------+-----------+---------+----------------+-----------------+----+-----------+-------+--------------------+-----------+--------+-------+----------+---------+--------+----+------+----------+-----+-----------+---------+-------+----+---------+---------+---------+---------+---------+----+----+---------+-------------+------------+-------------+-------------+----------------+------------+----------+-------------+-------------+---------------+----------+---------+\n",
      "only showing top 3 rows\n",
      "\n"
     ]
    }
   ],
   "source": [
    "# CSV - https://www.kaggle.com/datasets/andykrause/kingcountysales\n",
    "csv_path = 'data/kingco_sales.csv'\n",
    "csv_df = sedona.read.format(\"csv\").load(csv_path)\n",
    "csv_df.show(3)"
   ]
  },
  {
   "cell_type": "code",
   "execution_count": 12,
   "id": "34666378-7b1a-4544-898d-3b57dd06fb04",
   "metadata": {
    "scrolled": true
   },
   "outputs": [
    {
     "name": "stderr",
     "output_type": "stream",
     "text": [
      "[Stage 14:>                                                       (0 + 11) / 11]\r"
     ]
    },
    {
     "name": "stdout",
     "output_type": "stream",
     "text": [
      "+---+---------+------------+----------+----------+--------+------------+-----------+---------+----------------+-----------------+----+-----------+-------+--------------------+-----------+--------+-------+----------+---------+--------+----+------+----------+-----+-----------+---------+-------+----+---------+---------+---------+---------+---------+----+----+---------+-------------+------------+-------------+-------------+----------------+------------+----------+-------------+-------------+---------------+----------+---------+\n",
      "|_c0|  sale_id|        pinx| sale_date|sale_price|sale_nbr|sale_warning|join_status|join_year|        latitude|        longitude|area|       city| zoning|         subdivision|present_use|land_val|imp_val|year_built|year_reno|sqft_lot|sqft|sqft_1|sqft_fbsmt|grade|fbsmt_grade|condition|stories|beds|bath_full|bath_3qtr|bath_half|garb_sqft|gara_sqft|wfnt|golf|greenbelt|noise_traffic|view_rainier|view_olympics|view_cascades|view_territorial|view_skyline|view_sound|view_lakewash|view_lakesamm|view_otherwater|view_other|submarket|\n",
      "+---+---------+------------+----------+----------+--------+------------+-----------+---------+----------------+-----------------+----+-----------+-------+--------------------+-----------+--------+-------+----------+---------+--------+----+------+----------+-----+-----------+---------+-------+----+---------+---------+---------+---------+---------+----+----+---------+-------------+------------+-------------+-------------+----------------+------------+----------+-------------+-------------+---------------+----------+---------+\n",
      "|  1|1999..144|..2734100475|1999-01-05|    150000|       1|            |       demo|     1999|47.5443593727551|-122.320786201295|  78|    SEATTLE|SF 5000|          GEORGETOWN|          2|   21000|  66000|      1900|        0|    4000|1410|   760|         0|    7|          0|        3|    1.5|   3|        1|        0|        0|        0|        0|   0|   0|        0|            2|           0|            0|            0|               0|           0|         0|            0|            0|              0|         0|        E|\n",
      "|  2|1999..258|..1535200725|1999-01-05|    235000|       1|            |       demo|     1999|47.4212473891173|-122.438138927639| 100|KING COUNTY| RA2.5P|CHAUTAUQUA BEACH ADD|          2|   46000| 132000|      1916|        0|    6695| 990|   990|         0|    6|          0|        4|    1.0|   2|        1|        0|        0|        0|        0|   0|   0|        0|            0|           0|            0|            0|               2|           0|         0|            0|            0|              0|         0|        H|\n",
      "|  3|1999..775|..1939800005|1999-01-07|    270000|       1|            |       demo|     1999|47.7644820229566|-122.208068734951|  38|    BOTHELL| R15 OP|DEGNEAUS HALF-ACR...|          2|   73000| 119000|      1924|        0|   13600|2050|  1300|         0|    7|          0|        5|    1.5|   5|        1|        0|        1|        0|        0|   0|   0|        0|            2|           0|            0|            0|               0|           0|         0|            0|            0|              0|         0|        Q|\n",
      "+---+---------+------------+----------+----------+--------+------------+-----------+---------+----------------+-----------------+----+-----------+-------+--------------------+-----------+--------+-------+----------+---------+--------+----+------+----------+-----+-----------+---------+-------+----+---------+---------+---------+---------+---------+----+----+---------+-------------+------------+-------------+-------------+----------------+------------+----------+-------------+-------------+---------------+----------+---------+\n",
      "only showing top 3 rows\n",
      "\n"
     ]
    },
    {
     "name": "stderr",
     "output_type": "stream",
     "text": [
      "                                                                                \r"
     ]
    }
   ],
   "source": [
    "# Read CSV with header and inferSchema\n",
    "csv_df = sedona.read.format(\"csv\") \\\n",
    "    .option(\"header\", \"true\") \\\n",
    "    .option(\"inferSchema\", \"true\") \\\n",
    "    .load(csv_path)\n",
    "\n",
    "csv_df.show(3)"
   ]
  },
  {
   "cell_type": "code",
   "execution_count": 13,
   "id": "e2136d07-3c56-4cd4-add7-333d659b5ca0",
   "metadata": {},
   "outputs": [],
   "source": [
    "from pyspark.sql.functions import col"
   ]
  },
  {
   "cell_type": "code",
   "execution_count": 14,
   "id": "67295e56-10df-46d7-977d-aff577632a72",
   "metadata": {},
   "outputs": [],
   "source": [
    "csv_df = csv_df.selectExpr(\n",
    "    \"*\", \"ST_Point(longitude, latitude) as geometry\")"
   ]
  },
  {
   "cell_type": "code",
   "execution_count": 15,
   "id": "6fa1e057-9c30-4a1e-b63c-41f8eff8c7f9",
   "metadata": {},
   "outputs": [
    {
     "name": "stdout",
     "output_type": "stream",
     "text": [
      "+---+---------+------------+----------+----------+--------+------------+-----------+---------+----------------+-----------------+----+-----------+-------+--------------------+-----------+--------+-------+----------+---------+--------+----+------+----------+-----+-----------+---------+-------+----+---------+---------+---------+---------+---------+----+----+---------+-------------+------------+-------------+-------------+----------------+------------+----------+-------------+-------------+---------------+----------+---------+--------------------+\n",
      "|_c0|  sale_id|        pinx| sale_date|sale_price|sale_nbr|sale_warning|join_status|join_year|        latitude|        longitude|area|       city| zoning|         subdivision|present_use|land_val|imp_val|year_built|year_reno|sqft_lot|sqft|sqft_1|sqft_fbsmt|grade|fbsmt_grade|condition|stories|beds|bath_full|bath_3qtr|bath_half|garb_sqft|gara_sqft|wfnt|golf|greenbelt|noise_traffic|view_rainier|view_olympics|view_cascades|view_territorial|view_skyline|view_sound|view_lakewash|view_lakesamm|view_otherwater|view_other|submarket|            geometry|\n",
      "+---+---------+------------+----------+----------+--------+------------+-----------+---------+----------------+-----------------+----+-----------+-------+--------------------+-----------+--------+-------+----------+---------+--------+----+------+----------+-----+-----------+---------+-------+----+---------+---------+---------+---------+---------+----+----+---------+-------------+------------+-------------+-------------+----------------+------------+----------+-------------+-------------+---------------+----------+---------+--------------------+\n",
      "|  1|1999..144|..2734100475|1999-01-05|    150000|       1|            |       demo|     1999|47.5443593727551|-122.320786201295|  78|    SEATTLE|SF 5000|          GEORGETOWN|          2|   21000|  66000|      1900|        0|    4000|1410|   760|         0|    7|          0|        3|    1.5|   3|        1|        0|        0|        0|        0|   0|   0|        0|            2|           0|            0|            0|               0|           0|         0|            0|            0|              0|         0|        E|POINT (-122.32078...|\n",
      "|  2|1999..258|..1535200725|1999-01-05|    235000|       1|            |       demo|     1999|47.4212473891173|-122.438138927639| 100|KING COUNTY| RA2.5P|CHAUTAUQUA BEACH ADD|          2|   46000| 132000|      1916|        0|    6695| 990|   990|         0|    6|          0|        4|    1.0|   2|        1|        0|        0|        0|        0|   0|   0|        0|            0|           0|            0|            0|               2|           0|         0|            0|            0|              0|         0|        H|POINT (-122.43813...|\n",
      "|  3|1999..775|..1939800005|1999-01-07|    270000|       1|            |       demo|     1999|47.7644820229566|-122.208068734951|  38|    BOTHELL| R15 OP|DEGNEAUS HALF-ACR...|          2|   73000| 119000|      1924|        0|   13600|2050|  1300|         0|    7|          0|        5|    1.5|   5|        1|        0|        1|        0|        0|   0|   0|        0|            2|           0|            0|            0|               0|           0|         0|            0|            0|              0|         0|        Q|POINT (-122.20806...|\n",
      "+---+---------+------------+----------+----------+--------+------------+-----------+---------+----------------+-----------------+----+-----------+-------+--------------------+-----------+--------+-------+----------+---------+--------+----+------+----------+-----+-----------+---------+-------+----+---------+---------+---------+---------+---------+----+----+---------+-------------+------------+-------------+-------------+----------------+------------+----------+-------------+-------------+---------------+----------+---------+--------------------+\n",
      "only showing top 3 rows\n",
      "\n"
     ]
    }
   ],
   "source": [
    "csv_df.show(3)"
   ]
  },
  {
   "cell_type": "code",
   "execution_count": 16,
   "id": "41cda82d-9062-4916-be62-505461a8b0b5",
   "metadata": {},
   "outputs": [
    {
     "data": {
      "text/plain": [
       "591513"
      ]
     },
     "execution_count": 16,
     "metadata": {},
     "output_type": "execute_result"
    }
   ],
   "source": [
    "csv_df.count()"
   ]
  },
  {
   "cell_type": "code",
   "execution_count": 17,
   "id": "f157b2cc-2ccb-4073-8ac6-399f0e236907",
   "metadata": {},
   "outputs": [
    {
     "name": "stdout",
     "output_type": "stream",
     "text": [
      "+--------+--------------+---------------------+--------------------+-------+-----------+\n",
      "|OBJECTID| artclass_desc|bike_network_category|            geometry|     id| stname_ord|\n",
      "+--------+--------------+---------------------+--------------------+-------+-----------+\n",
      "|     1.0|Not Designated| Proposed Bike+ - ...|LINESTRING (-122....|23677.0| E ALDER ST|\n",
      "|     2.0|Not Designated| Proposed Bike+ - ...|LINESTRING (-122....|20052.0| NE 55TH ST|\n",
      "|     3.0|Not Designated| Proposed Bike+ - ...|LINESTRING (-122....| 5667.0|23RD AVE NW|\n",
      "+--------+--------------+---------------------+--------------------+-------+-----------+\n",
      "only showing top 3 rows\n",
      "\n"
     ]
    }
   ],
   "source": [
    "# GeoParquet\n",
    "geoparquet_path = 'data/Seattle_Transportation_Plan_Bicycle_Element_829016546957421557.parquet'\n",
    "geoparquet_df = sedona.read.format(\"geoparquet\").load(geoparquet_path)\n",
    "geoparquet_df.show(3)"
   ]
  },
  {
   "cell_type": "code",
   "execution_count": 18,
   "id": "929343a0-507b-48ca-9be7-21d01766e3ee",
   "metadata": {},
   "outputs": [
    {
     "name": "stdout",
     "output_type": "stream",
     "text": [
      "+-----------------+\n",
      "|st_srid(geometry)|\n",
      "+-----------------+\n",
      "|                0|\n",
      "+-----------------+\n",
      "only showing top 1 row\n",
      "\n"
     ]
    }
   ],
   "source": [
    "geoparquet_df.selectExpr('ST_SRID(geometry)').show(1)"
   ]
  },
  {
   "cell_type": "code",
   "execution_count": 19,
   "id": "fa7bca40-a174-41cf-8e5c-cb1f8ba35f3b",
   "metadata": {},
   "outputs": [
    {
     "name": "stdout",
     "output_type": "stream",
     "text": [
      "+--------------------------------------------+\n",
      "|st_transform(geometry, EPSG:2926, EPSG:4326)|\n",
      "+--------------------------------------------+\n",
      "|                        LINESTRING (-127....|\n",
      "+--------------------------------------------+\n",
      "only showing top 1 row\n",
      "\n"
     ]
    }
   ],
   "source": [
    "geoparquet_df.selectExpr('''ST_Transform(geometry, 'EPSG:2926', 'EPSG:4326')''').show(1)"
   ]
  },
  {
   "cell_type": "code",
   "execution_count": 20,
   "id": "9d1030f6-fd2a-40f1-a2fe-f080b9568fa6",
   "metadata": {
    "scrolled": true
   },
   "outputs": [
    {
     "name": "stdout",
     "output_type": "stream",
     "text": [
      "+----------------+-----------------+--------+-------------------+------+--------------------+------+--------------+---------+--------------+------+-----------+-------+\n",
      "|        Latitude|        Longitude|OBJECTID|            address|esmshs|            geometry|grades|      mapLabel|school_ID|   school_name|siteID|     status|    zip|\n",
      "+----------------+-----------------+--------+-------------------+------+--------------------+------+--------------+---------+--------------+------+-----------+-------+\n",
      "| 47.709950686514|-122.293023646655|     1.0| 11051 34th Ave. NE|    MS|POINT (-122.29300...|   6-8|   Jane Addams|    106.0|Jane Addams MS| 106.0|         MS|98125.0|\n",
      "|47.7134360540258|-122.314672965205|     2.0| 11530 12th Ave. NE|    ES|POINT (-122.31465...|   K-8|Hazel Wolf K-8|    292.0|Hazel Wolf K-8| 263.0|Option ELEM|98125.0|\n",
      "|47.4988691374883|-122.263186633228|     3.0|11650 Beacon Ave. S|    ES|POINT (-122.26317...|   K-5|  Rainier View|    264.0|  Rainier View| 264.0|       ELEM|98178.0|\n",
      "+----------------+-----------------+--------+-------------------+------+--------------------+------+--------------+---------+--------------+------+-----------+-------+\n",
      "only showing top 3 rows\n",
      "\n"
     ]
    }
   ],
   "source": [
    "# GeoParquet\n",
    "geoparquet_schools_path = 'data/Seattle_Public_Schools_Sites_2023-2024.parquet'\n",
    "geoparquet_schools_df = sedona.read.format(\"geoparquet\").load(geoparquet_schools_path)\n",
    "geoparquet_schools_df.show(3)"
   ]
  },
  {
   "cell_type": "markdown",
   "id": "fe4aff0e-2d1e-4664-8680-c3d814316e41",
   "metadata": {
    "jp-MarkdownHeadingCollapsed": true
   },
   "source": [
    "# Part 3: Loading Raster Data"
   ]
  },
  {
   "cell_type": "code",
   "execution_count": 21,
   "id": "49da7f6a-b3b6-45f5-856f-f75d9359a957",
   "metadata": {},
   "outputs": [
    {
     "name": "stderr",
     "output_type": "stream",
     "text": [
      "[Stage 26:>                                                         (0 + 1) / 1]\r"
     ]
    },
    {
     "name": "stdout",
     "output_type": "stream",
     "text": [
      "+--------------------+--------------------+-------+--------------------+\n",
      "|                path|    modificationTime| length|             content|\n",
      "+--------------------+--------------------+-------+--------------------+\n",
      "|file:/Users/mattf...|2025-05-22 11:10:...|3499588|[43 44 46 01 00 0...|\n",
      "+--------------------+--------------------+-------+--------------------+\n",
      "\n"
     ]
    },
    {
     "name": "stderr",
     "output_type": "stream",
     "text": [
      "                                                                                \r"
     ]
    }
   ],
   "source": [
    "netcdf_file = \"data/pdsi_current_PRISM.nc\"\n",
    "netcdf_df = sedona.read.format(\"binaryFile\").load(netcdf_file)\n",
    "netcdf_df.show()"
   ]
  },
  {
   "cell_type": "code",
   "execution_count": 22,
   "id": "4745bd8c-db41-4575-9c2a-da2eb5510ad6",
   "metadata": {},
   "outputs": [],
   "source": [
    "import pyspark.sql.functions as f"
   ]
  },
  {
   "cell_type": "code",
   "execution_count": 23,
   "id": "7a1fc773-25d2-45aa-bc3c-38f9961f240f",
   "metadata": {},
   "outputs": [
    {
     "data": {
      "text/plain": [
       "DataFrame[path: string, modificationTime: timestamp, length: bigint, content: binary]"
      ]
     },
     "execution_count": 23,
     "metadata": {},
     "output_type": "execute_result"
    }
   ],
   "source": [
    "netcdf_df.repartition(8)"
   ]
  },
  {
   "cell_type": "code",
   "execution_count": 24,
   "id": "9ebab680-8b87-48db-a44a-b1b09f2901e3",
   "metadata": {},
   "outputs": [],
   "source": [
    "netcdf_df = netcdf_df.withColumn(\"raster\", f.expr(\"RS_FromNetCDF(content, 'data', 'longitude', 'latitude')\"))"
   ]
  },
  {
   "cell_type": "code",
   "execution_count": 25,
   "id": "0cfdc718-921f-45a6-b8bc-c52f24b2af2c",
   "metadata": {
    "scrolled": true
   },
   "outputs": [
    {
     "name": "stderr",
     "output_type": "stream",
     "text": [
      "[Stage 27:>                                                         (0 + 1) / 1]\r"
     ]
    },
    {
     "name": "stdout",
     "output_type": "stream",
     "text": [
      "+--------------------+--------------------+-------+--------------------+--------------------+\n",
      "|                path|    modificationTime| length|             content|              raster|\n",
      "+--------------------+--------------------+-------+--------------------+--------------------+\n",
      "|file:/Users/mattf...|2025-05-22 11:10:...|3499588|[43 44 46 01 00 0...|GridCoverage2D[\"g...|\n",
      "+--------------------+--------------------+-------+--------------------+--------------------+\n",
      "\n"
     ]
    },
    {
     "name": "stderr",
     "output_type": "stream",
     "text": [
      "                                                                                \r"
     ]
    }
   ],
   "source": [
    "netcdf_df.show()"
   ]
  },
  {
   "cell_type": "code",
   "execution_count": 26,
   "id": "d6c08f9f-d0e6-4e96-a31f-566273c534f6",
   "metadata": {},
   "outputs": [],
   "source": [
    "# https://radiantearth.github.io/stac-browser/#/external/earth-search.aws.element84.com/v1/collections/sentinel-2-l2a/items/S2A_10TET_20250423_0_L2A?.asset=asset-nir"
   ]
  },
  {
   "cell_type": "markdown",
   "id": "2f471ac4-32c8-4281-97e9-f9fee64ddec9",
   "metadata": {},
   "source": [
    "## GeoTIFF"
   ]
  },
  {
   "cell_type": "code",
   "execution_count": 27,
   "id": "5ac942d5-80eb-4dac-8ea2-ffdacf2f78bd",
   "metadata": {},
   "outputs": [],
   "source": [
    "# https://browser.apex.esa.int/external/eoresults.esa.int/stac/collections/ESA_WORLDCOVER_10M_2021_V2/items/ESA_WorldCover_10m_2021_v200_N45W123?.asset=asset-esa_worldcover_10m_map"
   ]
  },
  {
   "cell_type": "code",
   "execution_count": 28,
   "id": "a8b313fa-1699-41f6-9152-2aa9a1407754",
   "metadata": {},
   "outputs": [],
   "source": [
    "raster_df = sedona.read.format(\"binaryFile\") \\\n",
    "    .load(\"data/ESA_WorldCover_10m_2021_v200_N45W123_Map.tif\")"
   ]
  },
  {
   "cell_type": "code",
   "execution_count": 29,
   "id": "5ce702f9-18cc-480e-aada-e98338c14b52",
   "metadata": {},
   "outputs": [],
   "source": [
    "raster_df = raster_df.withColumn(\"raster\", f.expr(\"RS_FromGeoTiff(content)\"))"
   ]
  },
  {
   "cell_type": "code",
   "execution_count": 30,
   "id": "8a94b43a-4c16-4135-8f47-bba5a575a197",
   "metadata": {},
   "outputs": [],
   "source": [
    "# raster_df.show()"
   ]
  },
  {
   "cell_type": "code",
   "execution_count": 31,
   "id": "01859ec4-c29f-46f7-bd96-67d3cafc2019",
   "metadata": {},
   "outputs": [
    {
     "data": {
      "text/plain": [
       "DataFrame[path: string, modificationTime: timestamp, length: bigint, content: binary, raster: udt]"
      ]
     },
     "execution_count": 31,
     "metadata": {},
     "output_type": "execute_result"
    }
   ],
   "source": [
    "raster_df.repartition(8)"
   ]
  },
  {
   "cell_type": "code",
   "execution_count": 32,
   "id": "7d7ec5d3-6a9c-4326-b6e4-3d0583be798b",
   "metadata": {
    "scrolled": true
   },
   "outputs": [
    {
     "name": "stderr",
     "output_type": "stream",
     "text": [
      "[Stage 28:>                                                         (0 + 1) / 1]\r"
     ]
    },
    {
     "name": "stdout",
     "output_type": "stream",
     "text": [
      "+---+---+--------------------+\n",
      "|  x|  y|              raster|\n",
      "+---+---+--------------------+\n",
      "|  0|  0|GridCoverage2D[\"g...|\n",
      "|  1|  0|GridCoverage2D[\"g...|\n",
      "|  2|  0|GridCoverage2D[\"g...|\n",
      "|  3|  0|GridCoverage2D[\"g...|\n",
      "|  4|  0|GridCoverage2D[\"g...|\n",
      "|  5|  0|GridCoverage2D[\"g...|\n",
      "|  6|  0|GridCoverage2D[\"g...|\n",
      "|  7|  0|GridCoverage2D[\"g...|\n",
      "|  8|  0|GridCoverage2D[\"g...|\n",
      "|  9|  0|GridCoverage2D[\"g...|\n",
      "| 10|  0|GridCoverage2D[\"g...|\n",
      "| 11|  0|GridCoverage2D[\"g...|\n",
      "| 12|  0|GridCoverage2D[\"g...|\n",
      "| 13|  0|GridCoverage2D[\"g...|\n",
      "| 14|  0|GridCoverage2D[\"g...|\n",
      "| 15|  0|GridCoverage2D[\"g...|\n",
      "| 16|  0|GridCoverage2D[\"g...|\n",
      "| 17|  0|GridCoverage2D[\"g...|\n",
      "| 18|  0|GridCoverage2D[\"g...|\n",
      "| 19|  0|GridCoverage2D[\"g...|\n",
      "+---+---+--------------------+\n",
      "only showing top 20 rows\n",
      "\n"
     ]
    },
    {
     "name": "stderr",
     "output_type": "stream",
     "text": [
      "                                                                                \r"
     ]
    }
   ],
   "source": [
    "raster_df.selectExpr(\"RS_TileExplode(raster, 256, 256) as (x, y, raster)\").show()"
   ]
  },
  {
   "cell_type": "markdown",
   "id": "0839e1e4-ee7b-4b4a-be7d-68ecd48b8167",
   "metadata": {
    "jp-MarkdownHeadingCollapsed": true
   },
   "source": [
    "# Part 4: PySpark and SparkSQL"
   ]
  },
  {
   "cell_type": "code",
   "execution_count": null,
   "id": "800c3d76-79cc-4c28-85db-ef9b2b20867d",
   "metadata": {},
   "outputs": [],
   "source": [
    "shapefile_df.printSchema()"
   ]
  },
  {
   "cell_type": "code",
   "execution_count": null,
   "id": "e27354b3-0478-4b6c-ad35-4c70fc3231a4",
   "metadata": {},
   "outputs": [],
   "source": [
    "csv_df.printSchema()"
   ]
  },
  {
   "cell_type": "code",
   "execution_count": null,
   "id": "3784ef73-7df9-483f-97a4-2f055517df5e",
   "metadata": {},
   "outputs": [],
   "source": [
    "shapefile_df.selectExpr('ST_SRID(geometry)').first()"
   ]
  },
  {
   "cell_type": "code",
   "execution_count": null,
   "id": "933e1d50-3b00-4da3-b237-a2cd300c7d27",
   "metadata": {},
   "outputs": [],
   "source": [
    "csv_df.selectExpr('ST_SRID(geometry)').first()"
   ]
  },
  {
   "cell_type": "code",
   "execution_count": null,
   "id": "6fe84b64-7cd0-4753-a6b4-1bb0aa9b6300",
   "metadata": {},
   "outputs": [],
   "source": [
    "shapefile_df.createOrReplaceTempView(\"polygons\")\n",
    "csv_df.createOrReplaceTempView(\"points\")"
   ]
  },
  {
   "cell_type": "code",
   "execution_count": null,
   "id": "103d7dc5-04f3-47bc-bd0b-8d2695621788",
   "metadata": {},
   "outputs": [],
   "source": [
    "%%time\n",
    "sedona.sql(\"\"\"\n",
    "    SELECT p.sale_id AS point_id, poly.NAME AS park_name\n",
    "    FROM points p\n",
    "    JOIN polygons poly\n",
    "    ON ST_DWithin(\n",
    "        ST_Transform(poly.geometry, 'EPSG:2926', 'EPSG:26910'), \n",
    "        ST_Transform(p.geometry, 'EPSG:4326', 'EPSG:26910'), \n",
    "    30)\n",
    "\"\"\").count()"
   ]
  },
  {
   "cell_type": "code",
   "execution_count": null,
   "id": "7dccb2cd-1736-4aa7-88be-e6027f8427c9",
   "metadata": {},
   "outputs": [],
   "source": [
    "from pyspark.sql.functions import expr\n",
    "\n",
    "# Transform geometries to EPSG:26910 (UTM zone), then apply ST_DWithin\n",
    "transformed_points = csv_df.withColumn(\n",
    "    \"geom_utm\", expr(\"ST_Transform(geometry, 'EPSG:4326', 'EPSG:26910')\")\n",
    ")\n",
    "\n",
    "transformed_polygons = shapefile_df.withColumn(\n",
    "    \"geom_utm\", expr(\"ST_Transform(geometry, 'EPSG:2926', 'EPSG:26910')\")\n",
    ")\n",
    "\n",
    "# Perform spatial join using ST_DWithin\n",
    "joined_df = transformed_points.alias(\"p\").join(\n",
    "    transformed_polygons.alias(\"poly\"),\n",
    "    expr(\"ST_DWithin(poly.geom_utm, p.geom_utm, 30)\")\n",
    ")\n",
    "\n",
    "# Count matching pairs\n",
    "joined_df.count()"
   ]
  },
  {
   "cell_type": "markdown",
   "id": "7b1dc16a-a9e8-431e-8016-8534e082218c",
   "metadata": {
    "jp-MarkdownHeadingCollapsed": true
   },
   "source": [
    "# Part 5: DataFrame Operations"
   ]
  },
  {
   "cell_type": "code",
   "execution_count": null,
   "id": "3c7f267d-72cf-4db0-b135-f1a2ea005224",
   "metadata": {},
   "outputs": [],
   "source": [
    "csv_df.show(5, truncate=False)"
   ]
  },
  {
   "cell_type": "code",
   "execution_count": null,
   "id": "8b769222-9e96-48fa-aba9-ad851e262acd",
   "metadata": {},
   "outputs": [],
   "source": [
    "csv_df.printSchema()"
   ]
  },
  {
   "cell_type": "code",
   "execution_count": null,
   "id": "df0d804a-2b70-472c-82d8-0b142c723964",
   "metadata": {},
   "outputs": [],
   "source": [
    "csv_df.select(\"sale_id\", \"sale_price\").show()"
   ]
  },
  {
   "cell_type": "code",
   "execution_count": null,
   "id": "3a82efe0-3494-4137-b635-1c57d96dab6b",
   "metadata": {},
   "outputs": [],
   "source": [
    "csv_df.count()"
   ]
  },
  {
   "cell_type": "code",
   "execution_count": null,
   "id": "7905a273-a817-457c-9905-abafc3496656",
   "metadata": {},
   "outputs": [],
   "source": [
    "points_df = csv_df.select(\"sale_id\", \"sale_price\")"
   ]
  },
  {
   "cell_type": "code",
   "execution_count": null,
   "id": "5142dcfb-c090-435c-8e07-221aa3d55de8",
   "metadata": {},
   "outputs": [],
   "source": [
    "points_df.first()"
   ]
  },
  {
   "cell_type": "code",
   "execution_count": null,
   "id": "cd583343-88bf-473b-8b69-918450fc8a48",
   "metadata": {},
   "outputs": [],
   "source": [
    "points_df = csv_df.select(\"sale_id\", \"sale_price\")"
   ]
  },
  {
   "cell_type": "code",
   "execution_count": null,
   "id": "1037e70a-ec73-4ae2-9b25-462e1199d61a",
   "metadata": {},
   "outputs": [],
   "source": [
    "points_df.orderBy(\"sale_price\").show()"
   ]
  },
  {
   "cell_type": "code",
   "execution_count": null,
   "id": "bfc82c48-6e88-4214-bd0e-ac9f23be80d2",
   "metadata": {},
   "outputs": [],
   "source": [
    "points_df.filter(\"sale_price > 500000\").show()"
   ]
  },
  {
   "cell_type": "markdown",
   "id": "6c2ab87f-7dbc-43c5-8c75-66f055a5db43",
   "metadata": {
    "jp-MarkdownHeadingCollapsed": true
   },
   "source": [
    "# Part 6: Vector and Raster Viz"
   ]
  },
  {
   "cell_type": "code",
   "execution_count": 33,
   "id": "f5df75a9-0f44-46d0-9942-bf86ccbaf38a",
   "metadata": {},
   "outputs": [
    {
     "name": "stderr",
     "output_type": "stream",
     "text": [
      "                                                                                \r"
     ]
    },
    {
     "data": {
      "text/html": [
       "<table border=\"1\" class=\"dataframe\">\n",
       "  <thead>\n",
       "    <tr style=\"text-align: right;\">\n",
       "      <th></th>\n",
       "      <th>raster_image</th>\n",
       "    </tr>\n",
       "  </thead>\n",
       "  <tbody>\n",
       "    <tr>\n",
       "      <th>0</th>\n",
       "      <td><img src=\"data:image/png;base64,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\" width=\"500\" /></td>\n",
       "    </tr>\n",
       "  </tbody>\n",
       "</table>"
      ],
      "text/plain": [
       "<IPython.core.display.HTML object>"
      ]
     },
     "metadata": {},
     "output_type": "display_data"
    }
   ],
   "source": [
    "from sedona.spark import SedonaUtils\n",
    "\n",
    "# Convert raster to base64 image for inline visualization\n",
    "htmlDF = raster_df.selectExpr(\"RS_AsImage(raster, 500) as raster_image\")\n",
    "\n",
    "# Display in notebook (Jupyter or Databricks)\n",
    "SedonaUtils.display_image(htmlDF)"
   ]
  },
  {
   "cell_type": "code",
   "execution_count": 34,
   "id": "7fa8f141-224e-4dea-bf20-e036074a35d6",
   "metadata": {},
   "outputs": [
    {
     "ename": "",
     "evalue": "",
     "output_type": "error",
     "traceback": [
      "\u001b[1;31mFailed to connect to the remote Jupyter Server 'http://127.0.0.1:8888/'. Verify the server is running and reachable. (Failed to connect to the remote Jupyter Server 'http://127.0.0.1:8888/'. Verify the server is running and reachable. (Forbidden).)."
     ]
    }
   ],
   "source": [
    "from sedona.spark import SedonaKepler\n",
    "\n",
    "map = SedonaKepler.create_map()\n",
    "SedonaKepler.add_df(map, geoparquet_schools_df, name=\"Seattle Schools\")\n",
    "map"
   ]
  },
  {
   "cell_type": "markdown",
   "id": "676a62de-2b1f-4d73-b023-92e7919c2aad",
   "metadata": {
    "jp-MarkdownHeadingCollapsed": true
   },
   "source": [
    "# Part 7: Vector Functions"
   ]
  },
  {
   "cell_type": "code",
   "execution_count": 35,
   "id": "cbe0ea10-af5a-42b9-9e6e-165c96be17cc",
   "metadata": {},
   "outputs": [
    {
     "ename": "",
     "evalue": "",
     "output_type": "error",
     "traceback": [
      "\u001b[1;31mFailed to connect to the remote Jupyter Server 'http://127.0.0.1:8888/'. Verify the server is running and reachable. (Failed to connect to the remote Jupyter Server 'http://127.0.0.1:8888/'. Verify the server is running and reachable. (Forbidden).)."
     ]
    }
   ],
   "source": [
    "from sedona.sql.st_functions import ST_Buffer, ST_Transform, ST_ConvexHull"
   ]
  },
  {
   "cell_type": "code",
   "execution_count": 36,
   "id": "5d2b218d-804e-4dd9-bb8f-f91d89d95bc0",
   "metadata": {},
   "outputs": [],
   "source": [
    "from pyspark.sql.functions import col, lit\n",
    "\n",
    "buffered_df = geoparquet_schools_df.select(\n",
    "    ST_Buffer(\n",
    "        ST_Transform(col(\"geometry\"), lit(\"EPSG:4326\"), lit(\"EPSG:26910\")),\n",
    "        100\n",
    "    ).alias(\"buffer\")\n",
    ")\n",
    "\n",
    "buffered_df.show(3)"
   ]
  },
  {
   "cell_type": "code",
   "execution_count": 37,
   "id": "69316e54-83c7-4354-a999-0d84d89f4ebe",
   "metadata": {},
   "outputs": [],
   "source": [
    "map = SedonaKepler.create_map()\n",
    "SedonaKepler.add_df(map, buffered_df, name=\"Seattle Schools Buffer\")\n",
    "map"
   ]
  },
  {
   "cell_type": "code",
   "execution_count": 38,
   "id": "2fbdd4b9-6f7f-42d1-b44b-5bfc207accc0",
   "metadata": {},
   "outputs": [],
   "source": [
    "schools_df = geoparquet_schools_df.selectExpr(\"*\", \"ST_Transform(geometry, 'EPSG:4326', 'EPSG:26910') as geom\") \\\n",
    "    .drop(\"geometry\") \\\n",
    "    .withColumnRenamed(\"geom\", \"geometry\")"
   ]
  },
  {
   "cell_type": "code",
   "execution_count": 39,
   "id": "11f4c558-b7a1-4aa8-a3fc-6b96c9dc5478",
   "metadata": {},
   "outputs": [],
   "source": [
    "shapefile_df.createOrReplaceTempView('parks')"
   ]
  },
  {
   "cell_type": "code",
   "execution_count": 40,
   "id": "9942f2a6-f41b-42cb-9dbd-a9a69c77b05d",
   "metadata": {},
   "outputs": [],
   "source": [
    "centroid = sedona.sql('''select st_centroid(geometry) from parks''')\n",
    "centroid.show(3)"
   ]
  },
  {
   "cell_type": "code",
   "execution_count": 41,
   "id": "4bcdc5fe-ec14-4efc-8039-2ec196971207",
   "metadata": {},
   "outputs": [],
   "source": [
    "area = sedona.sql('''select st_area(geometry) from parks''')\n",
    "area.show(3)"
   ]
  },
  {
   "cell_type": "code",
   "execution_count": 42,
   "id": "b67018ef-32bf-4443-bfa2-2dd27a126dd8",
   "metadata": {},
   "outputs": [],
   "source": [
    "geoparquet_df.createOrReplaceTempView('bikes')"
   ]
  },
  {
   "cell_type": "code",
   "execution_count": 43,
   "id": "9481f376-0b23-4eb9-828f-9073b112f98b",
   "metadata": {},
   "outputs": [],
   "source": [
    "length = sedona.sql('''select st_length(geometry) from bikes''')\n",
    "length.show(3)"
   ]
  },
  {
   "cell_type": "code",
   "execution_count": 44,
   "id": "cb77dfab-22ea-4ef2-b828-daf6d39f2643",
   "metadata": {},
   "outputs": [],
   "source": [
    "hull_df = shapefile_df.select(\n",
    "    \"geometry\",\n",
    "    ST_ConvexHull(\"geometry\").alias(\"convex_hull\")\n",
    ")\n",
    "hull_df.show(3)"
   ]
  },
  {
   "cell_type": "code",
   "execution_count": 45,
   "id": "93565cc9-3c66-4185-ac8f-4369d59c335e",
   "metadata": {},
   "outputs": [],
   "source": [
    "# Space Needle - -122.3494692, 47.6205426"
   ]
  },
  {
   "cell_type": "code",
   "execution_count": 46,
   "id": "5ac973a5-0ee7-4710-8693-74fbb7ff9fa6",
   "metadata": {},
   "outputs": [],
   "source": [
    "from pyspark.sql.functions import lit\n",
    "\n",
    "dist_df = sedona.sql('''\n",
    "select ST_Distance(geometry, ST_Transform(ST_SetSRID(ST_Point(-122.3494692, 47.6205426), 4326), 'EPSG:26910')) as distance\n",
    "from parks\n",
    "''')\n",
    "\n",
    "dist_df.show(3)"
   ]
  },
  {
   "cell_type": "code",
   "execution_count": 47,
   "id": "a8bcf450-799c-425b-a2c5-22df9a0633ec",
   "metadata": {},
   "outputs": [],
   "source": [
    "h3_df = sedona.sql('''\n",
    "select ST_H3CellIDs(geometry, 8, true) as h3\n",
    "from parks\n",
    "limit 3\n",
    "''')\n",
    "\n",
    "h3_df.show()"
   ]
  },
  {
   "cell_type": "code",
   "execution_count": 48,
   "id": "4bd99913-97f4-412d-a8d3-ca183af745e3",
   "metadata": {},
   "outputs": [],
   "source": [
    "sedona.sql(\"\"\"\n",
    "SELECT ST_3DDistance(\n",
    "    ST_GeomFromText('POINT Z (0 0 0)'),\n",
    "    ST_GeomFromText('POINT Z (3 4 12)')\n",
    ") AS dist_3d\n",
    "\"\"\").show()"
   ]
  },
  {
   "cell_type": "markdown",
   "id": "432dde9a-6b00-4e7f-9a17-b26de00482aa",
   "metadata": {
    "jp-MarkdownHeadingCollapsed": true
   },
   "source": [
    "# Part 8: Spatial Predicates"
   ]
  },
  {
   "cell_type": "code",
   "execution_count": null,
   "id": "3fa0ab2d-df85-492d-bf14-d0db2683ace6",
   "metadata": {},
   "outputs": [],
   "source": [
    "csv_df.createOrReplaceTempView('homes')\n",
    "geojson_df.createOrReplaceTempView('neighborhoods')"
   ]
  },
  {
   "cell_type": "code",
   "execution_count": null,
   "id": "540aeb45-11df-4f82-ab54-9c7280a0e2de",
   "metadata": {},
   "outputs": [],
   "source": [
    "geojson_df.show(3)"
   ]
  },
  {
   "cell_type": "code",
   "execution_count": null,
   "id": "2804e797-8bcd-46d7-984e-56465e6cadd3",
   "metadata": {},
   "outputs": [],
   "source": [
    "sedona.sql('''\n",
    "select h.sale_id, st_contains(n.geometry, h.geometry) in_ballard\n",
    "from homes h\n",
    "join neighborhoods n on st_contains(n.geometry, h.geometry)\n",
    "where n.S_HOOD = 'Ballard'\n",
    "''').show(3)"
   ]
  },
  {
   "cell_type": "code",
   "execution_count": null,
   "id": "22803eea-f31c-4409-b2b1-037f499a25a8",
   "metadata": {},
   "outputs": [],
   "source": [
    "sedona.sql('''\n",
    "select h.sale_id\n",
    "from homes h\n",
    "join neighborhoods n on st_dwithin(\n",
    "    st_transform(n.geometry, 'EPSG:4326', 'EPSG:26910'), \n",
    "    st_transform(h.geometry, 'EPSG:4326', 'EPSG:26910'),\n",
    "    500)\n",
    "where n.S_HOOD = 'Ballard'\n",
    "''').count()"
   ]
  },
  {
   "cell_type": "code",
   "execution_count": null,
   "id": "f13652ab-6b0d-4620-acdd-fed205d8a965",
   "metadata": {},
   "outputs": [],
   "source": [
    "sedona.sql('''SELECT ST_Contains(\n",
    "  ST_GeomFromText('POLYGON((0 0, 0 10, 10 10, 10 0, 0 0))'),\n",
    "  ST_GeomFromText('POINT(5 5)')\n",
    ") AS contains\n",
    "''').show()"
   ]
  },
  {
   "cell_type": "code",
   "execution_count": null,
   "id": "dd041f82-e061-425c-b5c1-18ab6796d384",
   "metadata": {},
   "outputs": [],
   "source": [
    "sedona.sql('''SELECT ST_Contains(\n",
    "  ST_GeomFromText('POLYGON((0 0, 0 10, 10 10, 10 0, 0 0))'),\n",
    "  ST_GeomFromText('POINT(0 0)')\n",
    ") AS contains\n",
    "''').show()"
   ]
  },
  {
   "cell_type": "code",
   "execution_count": null,
   "id": "109d1aab-6512-4cb7-88b6-35d170967cef",
   "metadata": {},
   "outputs": [],
   "source": [
    "sedona.sql('''SELECT ST_Intersects(\n",
    "  ST_GeomFromText('POLYGON((0 0, 0 10, 10 10, 10 0, 0 0))'),\n",
    "  ST_GeomFromText('LINESTRING(5 5, 15 5)')\n",
    ") AS intersects''').show()"
   ]
  },
  {
   "cell_type": "code",
   "execution_count": null,
   "id": "a4bb0aa7-419b-4b6a-aa2c-82e448dab3d4",
   "metadata": {},
   "outputs": [],
   "source": [
    "sedona.sql('''SELECT ST_Intersects(\n",
    "  ST_GeomFromText('POLYGON((0 0, 0 10, 10 10, 10 0, 0 0))'),\n",
    "  ST_GeomFromText('POINT(0 0)')\n",
    ") AS intersects\n",
    "''').show()"
   ]
  },
  {
   "cell_type": "code",
   "execution_count": null,
   "id": "9c66c590-5d9b-492c-8c4a-64caa0d2e963",
   "metadata": {},
   "outputs": [],
   "source": [
    "sedona.sql('''SELECT ST_Touches(\n",
    "  ST_GeomFromText('POLYGON((0 0, 0 10, 10 10, 10 0, 0 0))'),\n",
    "  ST_GeomFromText('POINT(0 0)')\n",
    ") AS intersects\n",
    "''').show()"
   ]
  },
  {
   "cell_type": "code",
   "execution_count": null,
   "id": "0e5b7638-af20-4b3d-8658-0bc50d81918d",
   "metadata": {},
   "outputs": [],
   "source": [
    "sedona.sql('''SELECT ST_Touches(\n",
    "  ST_GeomFromText('POLYGON((0 0, 0 10, 10 10, 10 0, 0 0))'),\n",
    "  ST_GeomFromText('POINT(5 5)')\n",
    ") AS intersects\n",
    "''').show()"
   ]
  },
  {
   "cell_type": "markdown",
   "id": "79eb39b6-a819-498d-87b4-ba1a91457818",
   "metadata": {
    "jp-MarkdownHeadingCollapsed": true
   },
   "source": [
    "# Part 9: Write Data"
   ]
  },
  {
   "cell_type": "code",
   "execution_count": null,
   "id": "53ffa72c-de7a-4bf2-be29-0bc16da76913",
   "metadata": {},
   "outputs": [],
   "source": [
    "# Write a single GeoJSON file (e.g., for download or web map use)\n",
    "geojson_output_path = \"parks.geojson\"\n",
    "\n",
    "shapefile_df.coalesce(1).write \\\n",
    "    .mode(\"overwrite\") \\\n",
    "    .format(\"geojson\") \\\n",
    "    .save(geojson_output_path)"
   ]
  },
  {
   "cell_type": "code",
   "execution_count": null,
   "id": "99394244-dd12-46fe-88d5-ded2adf910ec",
   "metadata": {},
   "outputs": [],
   "source": [
    "# Repartition to 10 files for parallel writes\n",
    "csv_df.repartition(10).write \\\n",
    "    .mode(\"overwrite\") \\\n",
    "    .format(\"geoparquet\") \\\n",
    "    .save(\"data/output_geoparquet_10_parts\")"
   ]
  },
  {
   "cell_type": "code",
   "execution_count": null,
   "id": "2d0de6db-d6f5-4d91-ae58-5f769fe64d6c",
   "metadata": {},
   "outputs": [],
   "source": [
    "csv_df.write \\\n",
    "    .mode(\"overwrite\") \\\n",
    "    .format(\"geoparquet\") \\\n",
    "    .partitionBy(\"city\") \\\n",
    "    .save(\"data/output_geoparquet_partitioned\")"
   ]
  },
  {
   "cell_type": "code",
   "execution_count": null,
   "id": "fdb3a047-50ba-4462-aca2-ff8a812a1446",
   "metadata": {},
   "outputs": [],
   "source": [
    "# output_df.write \\\n",
    "#     .mode(\"overwrite\") \\\n",
    "#     .format(\"geoparquet\") \\\n",
    "#     .save(\"s3a://your-bucket-name/path/to/output/\")"
   ]
  },
  {
   "cell_type": "markdown",
   "id": "9da4b2b9-8721-4e94-a757-4d5c53744366",
   "metadata": {
    "jp-MarkdownHeadingCollapsed": true
   },
   "source": [
    "# Part 10: Nearest Neighbor Join"
   ]
  },
  {
   "cell_type": "code",
   "execution_count": null,
   "id": "5194d9ef-5fff-4f38-91d7-2c86ea1dfe21",
   "metadata": {},
   "outputs": [
    {
     "ename": "",
     "evalue": "",
     "output_type": "error",
     "traceback": [
      "\u001b[1;31mFailed to connect to the remote Jupyter Server 'http://127.0.0.1:8888/'. Verify the server is running and reachable. (Failed to connect to the remote Jupyter Server 'http://127.0.0.1:8888/'. Verify the server is running and reachable. (Forbidden).)."
     ]
    }
   ],
   "source": [
    "geoparquet_schools_df.repartition(8)"
   ]
  },
  {
   "cell_type": "code",
   "execution_count": null,
   "id": "9cbcde0d-6e2c-4ff4-ab8d-4415dcd8189d",
   "metadata": {},
   "outputs": [],
   "source": [
    "geoparquet_schools_df.createOrReplaceTempView('schools')"
   ]
  },
  {
   "cell_type": "code",
   "execution_count": null,
   "id": "94bc3eec-ea45-4398-a32c-21331465a534",
   "metadata": {},
   "outputs": [],
   "source": [
    "nearest = sedona.sql('''\n",
    "select schools.school_name, parks.NAME\n",
    "from schools\n",
    "join parks on ST_KNN(\n",
    "    schools.geometry,\n",
    "    parks.geometry,\n",
    "    3,\n",
    "    true\n",
    ")\n",
    "''')"
   ]
  },
  {
   "cell_type": "code",
   "execution_count": null,
   "id": "93596928-2f0b-43d9-b6f8-4ac6a7c1ad02",
   "metadata": {},
   "outputs": [],
   "source": [
    "nearest.show(9)"
   ]
  },
  {
   "cell_type": "markdown",
   "id": "d89a5f8b-f745-44e1-bc0b-1f21f796ef35",
   "metadata": {
    "jp-MarkdownHeadingCollapsed": true
   },
   "source": [
    "# Part 11: Raster Functions"
   ]
  },
  {
   "cell_type": "code",
   "execution_count": null,
   "id": "2b939ce8-20a1-4347-ac18-a4900caa537c",
   "metadata": {},
   "outputs": [],
   "source": [
    "sample_area = 'POLYGON((-122.367948 47.642361, -122.361745 47.642361, -122.361745 47.638922, -122.367948 47.638922, -122.367948 47.642361))'"
   ]
  },
  {
   "cell_type": "code",
   "execution_count": null,
   "id": "d9fa38c1-1b3d-48c9-97fb-08766c013704",
   "metadata": {},
   "outputs": [],
   "source": [
    "raster_df.createOrReplaceTempView('landcover')"
   ]
  },
  {
   "cell_type": "code",
   "execution_count": null,
   "id": "ed97dcb4-daa2-4473-9837-c07ffb559784",
   "metadata": {},
   "outputs": [],
   "source": [
    "centroids = sedona.sql(f'''\n",
    "select RS_PixelAsCentroids(raster, 1)\n",
    "from landcover\n",
    "where rs_intersects(raster, st_geomfromtext('{sample_area}'))\n",
    "''')"
   ]
  },
  {
   "cell_type": "code",
   "execution_count": null,
   "id": "f5eda6a6-0d14-45e7-b28c-a7e7c9aead40",
   "metadata": {},
   "outputs": [],
   "source": [
    "centroids.show(3)"
   ]
  },
  {
   "cell_type": "code",
   "execution_count": null,
   "id": "f3f1a3cb-3333-4c88-b17d-7cede7e1198b",
   "metadata": {},
   "outputs": [],
   "source": [
    "raster_df.createOrReplaceTempView('landcover')"
   ]
  },
  {
   "cell_type": "code",
   "execution_count": null,
   "id": "0f417e28-cd29-42d0-ae91-1ae45aac0f62",
   "metadata": {},
   "outputs": [],
   "source": [
    "values = sedona.sql(f'''\n",
    "select RS_Value(raster, ST_Point(-122.373894, 47.634587))\n",
    "from landcover\n",
    "where rs_intersects(raster, st_geomfromtext('{sample_area}'))\n",
    "''')"
   ]
  },
  {
   "cell_type": "code",
   "execution_count": null,
   "id": "8979559f-959e-4425-915c-6bdad0420556",
   "metadata": {},
   "outputs": [],
   "source": [
    "%%time\n",
    "values.show()"
   ]
  },
  {
   "cell_type": "code",
   "execution_count": null,
   "id": "28ec0070-603f-4ba9-a7b7-d66c41e498ce",
   "metadata": {},
   "outputs": [],
   "source": [
    "raster_tiles = raster_df.selectExpr(\"RS_TileExplode(raster, 256, 256) as (x, y, raster)\")"
   ]
  },
  {
   "cell_type": "code",
   "execution_count": null,
   "id": "087d3c0b-8092-4fc4-9a5f-d977951107f4",
   "metadata": {},
   "outputs": [],
   "source": [
    "raster_tiles.createOrReplaceTempView('landcover_tiles')"
   ]
  },
  {
   "cell_type": "code",
   "execution_count": null,
   "id": "39397e43-5d7e-484d-845c-59a5d78db8aa",
   "metadata": {},
   "outputs": [],
   "source": [
    "raster_tiles.show()"
   ]
  },
  {
   "cell_type": "code",
   "execution_count": null,
   "id": "f1356c12-4e04-4d92-9b55-4c8e896a554d",
   "metadata": {},
   "outputs": [],
   "source": [
    "stats = sedona.sql('''SELECT RS_SummaryStatsAll(raster) AS stats\n",
    "FROM landcover_tiles\n",
    "where x = 0 and y = 0''')\n",
    "stats.show(truncate=False)"
   ]
  },
  {
   "cell_type": "code",
   "execution_count": null,
   "id": "6a433ce9-9b25-4eca-ad7e-d398e6a29f31",
   "metadata": {},
   "outputs": [],
   "source": [
    "metadata = sedona.sql('''SELECT RS_MetaData(raster) AS stats\n",
    "FROM landcover_tiles\n",
    "where x = 0 and y = 0''')\n",
    "metadata.show(truncate=False)"
   ]
  },
  {
   "cell_type": "markdown",
   "id": "b8384d8b-7aba-40ab-a680-16c7ad25e3ec",
   "metadata": {},
   "source": [
    "# Part 12: Raster Map Algerbra (NDVI)"
   ]
  },
  {
   "cell_type": "code",
   "execution_count": null,
   "id": "1fdad7ad-42f4-4dab-a211-a2e29ebf44f8",
   "metadata": {},
   "outputs": [],
   "source": [
    "# # https://radiantearth.github.io/stac-browser/#/external/earth-search.aws.element84.com/v1/collections/sentinel-2-l2a/items/S2A_10TET_20250423_0_L2A?.asset=asset-nir"
   ]
  },
  {
   "cell_type": "code",
   "execution_count": null,
   "id": "12f22723-2baf-481d-b920-089670dfc116",
   "metadata": {},
   "outputs": [],
   "source": [
    "SELECT RS_MapAlgebra(rast, 'D', 'out = (rast[3] - rast[0]) / (rast[3] + rast[0]);') as ndvi FROM raster_table"
   ]
  }
 ],
 "metadata": {
  "kernelspec": {
   "display_name": "SedonaDemo",
   "language": "python",
   "name": "sedonademo"
  }
 },
 "nbformat": 4,
 "nbformat_minor": 5
}
