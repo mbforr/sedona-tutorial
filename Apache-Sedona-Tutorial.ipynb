{
 "cells": [
  {
   "cell_type": "code",
   "execution_count": null,
   "id": "843a9e01-c046-4725-b9f4-b2925ca0c75c",
   "metadata": {
    "scrolled": true
   },
   "outputs": [],
   "source": [
    "from sedona.spark import SedonaContext\n",
    "\n",
    "config = (\n",
    "    SedonaContext.builder()\n",
    "    .config(\n",
    "        \"spark.jars.packages\",\n",
    "        \",\".join([\n",
    "            \"org.apache.sedona:sedona-spark-shaded-3.5_2.12:1.7.1\",\n",
    "            \"org.datasyslab:geotools-wrapper:1.7.0-28.5\",\n",
    "            \"org.apache.hadoop:hadoop-aws:3.3.2\"\n",
    "        ])\n",
    "    )\n",
    "    .config(\"spark.jars.repositories\", \"https://artifacts.unidata.ucar.edu/repository/unidata-all\")        \n",
    "    .config(\"spark.hadoop.fs.s3a.connection.ssl.enabled\", \"true\") \\\n",
    "    .config(\"spark.hadoop.fs.s3a.path.style.access\", \"true\") \\\n",
    "    .config(\"spark.hadoop.fs.s3a.impl\", \"org.apache.hadoop.fs.s3a.S3AFileSystem\") \\\n",
    "    .config(\"spark.hadoop.fs.s3a.impl\", \"org.apache.hadoop.fs.s3a.S3AFileSystem\")\n",
    "    .config(\"spark.hadoop.fs.s3a.path.style.access\", \"true\")\n",
    "    .config(\"spark.hadoop.fs.s3a.aws.credentials.provider\", \n",
    "        \"org.apache.hadoop.fs.s3a.AnonymousAWSCredentialsProvider\") \\\n",
    "    .config(\"spark.executor.memory\", \"12G\")\n",
    "    .config(\"spark.driver.memory\", \"12G\")\n",
    "    .config(\"spark.sql.shuffle.partitions\", \"2\")\n",
    "    .getOrCreate()\n",
    ")\n",
    "\n",
    "sedona = SedonaContext.create(config)\n",
    "sedona.sparkContext.setLogLevel(\"ERROR\")\n",
    "\n",
    "sedona.conf.set(\"fs.https.impl\", \"org.apache.hadoop.fs.http.HttpsFileSystem\")"
   ]
  },
  {
   "cell_type": "markdown",
   "id": "be5197b4-0336-4445-b840-31a584122eed",
   "metadata": {
    "jp-MarkdownHeadingCollapsed": true
   },
   "source": [
    "# Part 1: Simple Example"
   ]
  },
  {
   "cell_type": "markdown",
   "id": "75110e5a-5f72-4d54-91e0-7f31f40fd42b",
   "metadata": {},
   "source": [
    "## Create a Dataframe"
   ]
  },
  {
   "cell_type": "code",
   "execution_count": null,
   "id": "85a08f7a-a716-45b5-8466-1722fabdbaa8",
   "metadata": {},
   "outputs": [],
   "source": [
    "from pyspark.sql import Row"
   ]
  },
  {
   "cell_type": "code",
   "execution_count": null,
   "id": "5a38e2a2-4bf9-4015-b821-c4c6b7c8bdfd",
   "metadata": {},
   "outputs": [],
   "source": [
    "data = [\n",
    "    Row(id=1, name=\"Point A\", lat=40.7128, lon=-74.0060),\n",
    "    Row(id=2, name=\"Point B\", lat=34.0522, lon=-118.2437),\n",
    "    Row(id=3, name=\"Point C\", lat=37.7749, lon=-122.4194)\n",
    "]"
   ]
  },
  {
   "cell_type": "code",
   "execution_count": null,
   "id": "8a7792cd-d41e-4b2e-8125-e1fe7d6cbbd9",
   "metadata": {},
   "outputs": [],
   "source": [
    "df = sedona.createDataFrame(data)\n",
    "df.show()"
   ]
  },
  {
   "cell_type": "code",
   "execution_count": null,
   "id": "19b1739b-8832-4713-be86-84b976822bf1",
   "metadata": {},
   "outputs": [],
   "source": [
    "from pyspark.sql.functions import expr"
   ]
  },
  {
   "cell_type": "code",
   "execution_count": null,
   "id": "f51da86e-65c4-4140-ac2e-e9a2d1f408b3",
   "metadata": {},
   "outputs": [],
   "source": [
    "df_geom = df.withColumn(\"geom\", \n",
    "                        expr(\"ST_Point(cast(lon as Decimal(24, 20)), cast(lat as Decimal(24, 20)))\"))"
   ]
  },
  {
   "cell_type": "code",
   "execution_count": null,
   "id": "ec52eabc-9eb3-48a3-b259-7f15df2102c5",
   "metadata": {},
   "outputs": [],
   "source": [
    "df_geom.show(truncate=False)"
   ]
  },
  {
   "cell_type": "markdown",
   "id": "c17705f5-ce57-4487-8c00-494ac1c6688b",
   "metadata": {},
   "source": [
    "## Simple Query"
   ]
  },
  {
   "cell_type": "code",
   "execution_count": null,
   "id": "06f9ceda-442f-4afb-94a6-bf2d01540c82",
   "metadata": {},
   "outputs": [],
   "source": [
    "sql = \"\"\"\n",
    "SELECT ST_AreaSpheroid(\n",
    "    ST_GeomFromWKT('Polygon ((34 35, 28 30, 25 34, 34 35))')\n",
    ") as result\n",
    "\"\"\""
   ]
  },
  {
   "cell_type": "code",
   "execution_count": null,
   "id": "d60a8b46-bbba-42bd-875a-81d91d6562ff",
   "metadata": {},
   "outputs": [],
   "source": [
    "sedona.sql(sql).show(truncate=False)"
   ]
  },
  {
   "cell_type": "markdown",
   "id": "b54931cd-9244-4c8b-bcaf-4d91caa0c2d8",
   "metadata": {},
   "source": [
    "## Spatial Filter"
   ]
  },
  {
   "cell_type": "code",
   "execution_count": null,
   "id": "b78d9078-93d0-4cde-8f48-fc6fbb5079bf",
   "metadata": {},
   "outputs": [],
   "source": [
    "from pyspark.sql import Row"
   ]
  },
  {
   "cell_type": "code",
   "execution_count": null,
   "id": "152ec662-dbfa-490c-8ba7-49331157786f",
   "metadata": {},
   "outputs": [],
   "source": [
    "data = [\n",
    "    Row(id=1, name=\"Point A\", lat=40.7128, lon=-74.0060),\n",
    "    Row(id=2, name=\"Point B\", lat=34.0522, lon=-118.2437),\n",
    "    Row(id=3, name=\"Point C\", lat=37.7749, lon=-122.4194)\n",
    "]"
   ]
  },
  {
   "cell_type": "code",
   "execution_count": null,
   "id": "ca435585-06aa-49a3-b5b6-4f6e9d5acd4f",
   "metadata": {},
   "outputs": [],
   "source": [
    "df = sedona.createDataFrame(data)\n",
    "df.show()"
   ]
  },
  {
   "cell_type": "code",
   "execution_count": null,
   "id": "6bbb4d53-9eca-470e-b7be-04672a73e346",
   "metadata": {},
   "outputs": [],
   "source": [
    "from pyspark.sql.functions import expr"
   ]
  },
  {
   "cell_type": "code",
   "execution_count": null,
   "id": "8d3a2408-c0a5-4ae7-9310-a4cd9a81e477",
   "metadata": {},
   "outputs": [],
   "source": [
    "df_geom = df.withColumn(\"geom\", expr(\"ST_Point(cast(lon as Decimal(24, 20)), cast(lat as Decimal(24, 20)))\"))\n",
    "df_geom.show(truncate=False)"
   ]
  },
  {
   "cell_type": "code",
   "execution_count": null,
   "id": "24f5d343-7b79-45aa-a5c6-a9f71adb1334",
   "metadata": {},
   "outputs": [],
   "source": [
    "df_geom.createOrReplaceTempView(\"points\")"
   ]
  },
  {
   "cell_type": "code",
   "execution_count": null,
   "id": "aafd82bd-95c7-437e-a2b0-aeaaab6be11b",
   "metadata": {},
   "outputs": [],
   "source": [
    "sedona.sql(\"\"\"\n",
    "SELECT id, name, ST_AsText(geom) AS wkt\n",
    "FROM points\n",
    "WHERE ST_Within(geom, ST_GeomFromText('POLYGON((-120 20, -60 20, -60 50, -120 50, -120 20))'))\n",
    "\"\"\").show(truncate=False)"
   ]
  },
  {
   "cell_type": "markdown",
   "id": "d77cd226-9f67-421a-9af4-4bf42cf6dc32",
   "metadata": {},
   "source": [
    "## Same as above, but Pythonic"
   ]
  },
  {
   "cell_type": "code",
   "execution_count": null,
   "id": "b8f99dd0-b9e7-4047-a6fc-3344aa1330e1",
   "metadata": {},
   "outputs": [],
   "source": [
    "from sedona.sql.st_constructors import ST_GeomFromText\n",
    "from sedona.sql.st_functions import ST_AsText\n",
    "from sedona.sql.st_predicates import ST_Within\n",
    "from pyspark.sql.functions import lit"
   ]
  },
  {
   "cell_type": "code",
   "execution_count": null,
   "id": "83d9018e-636c-4494-86cf-4973ed094bc2",
   "metadata": {},
   "outputs": [],
   "source": [
    "polygon_wkt = 'POLYGON((-120 20, -60 20, -60 50, -120 50, -120 20))'\n",
    "polygon_geom = ST_GeomFromText(lit(polygon_wkt))"
   ]
  },
  {
   "cell_type": "code",
   "execution_count": null,
   "id": "08b98ab6-76de-4ab4-a96e-c2c0ae8ca92e",
   "metadata": {},
   "outputs": [],
   "source": [
    "df_filtered = df_geom.filter(\n",
    "    ST_Within(df_geom[\"geom\"], polygon_geom)). \\\n",
    "    select(\n",
    "        \"id\", \"name\", ST_AsText(\"geom\").alias(\"wkt\")\n",
    "    )\n",
    "\n",
    "df_filtered.show(truncate=False)"
   ]
  },
  {
   "cell_type": "markdown",
   "id": "e6a409b1-a446-4466-8b15-d0e9c29ab94c",
   "metadata": {
    "jp-MarkdownHeadingCollapsed": true
   },
   "source": [
    "# Part 2: Reading Vector Data"
   ]
  },
  {
   "cell_type": "code",
   "execution_count": null,
   "id": "ed01e2c1-11e8-419c-b193-18aa4a36ea3c",
   "metadata": {},
   "outputs": [],
   "source": [
    "geojson_path = 'data/Neighborhood_Map_Atlas_Neighborhoods.geojson'\n",
    "geojson_df = sedona.read.format(\"geojson\").load(geojson_path)"
   ]
  },
  {
   "cell_type": "code",
   "execution_count": null,
   "id": "2976b73b-28e0-4a4c-8445-ec447c4465b9",
   "metadata": {},
   "outputs": [],
   "source": [
    "geojson_df.printSchema()"
   ]
  },
  {
   "cell_type": "code",
   "execution_count": null,
   "id": "ed14f17c-1b0f-4e0f-803d-7f36a9c28027",
   "metadata": {},
   "outputs": [],
   "source": [
    "from pyspark.sql.functions import expr"
   ]
  },
  {
   "cell_type": "code",
   "execution_count": null,
   "id": "d2afc400-efd2-4515-9771-5b32b4f31d5e",
   "metadata": {},
   "outputs": [],
   "source": [
    "geojson_df = (\n",
    "    sedona.read.format(\"geojson\").option(\"multiLine\", \"true\").load(geojson_path)\n",
    "    .selectExpr(\"explode(features) as features\")\n",
    "    .select(\"features.*\")\n",
    "    .withColumn(\"L_HOOD\", expr(\"properties['L_HOOD']\"))\n",
    "    .withColumn(\"OBJECTID\", expr(\"properties['OBJECTID']\"))\n",
    "    .withColumn(\"S_HOOD\", expr(\"properties['S_HOOD']\"))\n",
    "    .withColumn(\"S_HOOD_ALT_NAMES\", expr(\"properties['S_HOOD_ALT_NAMES']\"))\n",
    "    .drop(\"properties\").drop(\"type\")\n",
    ")"
   ]
  },
  {
   "cell_type": "code",
   "execution_count": null,
   "id": "9bc5f191-d938-4d1b-be6b-ada722ddf2e4",
   "metadata": {},
   "outputs": [],
   "source": [
    "geojson_df.printSchema()"
   ]
  },
  {
   "cell_type": "code",
   "execution_count": null,
   "id": "ff5dabaa-6124-40da-b9be-759584f611f8",
   "metadata": {},
   "outputs": [],
   "source": [
    "geojson_df.count()"
   ]
  },
  {
   "cell_type": "code",
   "execution_count": null,
   "id": "36b9a74e-93a2-4a1c-99d7-0bfa5bafb134",
   "metadata": {},
   "outputs": [],
   "source": [
    "df = (\n",
    "    sedona.read.format(\"geopackage\")\n",
    "    .option(\"showMetadata\", \"true\")\n",
    "    .load(\"data/parks.gpkg\")\n",
    ")\n",
    "df.show()"
   ]
  },
  {
   "cell_type": "code",
   "execution_count": null,
   "id": "398079ec-a234-4821-be1e-f38b420b2b92",
   "metadata": {},
   "outputs": [],
   "source": [
    "df = (\n",
    "    sedona.read.format(\"geopackage\")\n",
    "    .option(\"tableName\", \"parks\")\n",
    "    .load(\"data/parks.gpkg\")\n",
    ")\n",
    "df.show()"
   ]
  },
  {
   "cell_type": "code",
   "execution_count": null,
   "id": "8951375e-c35a-4a62-9ed2-2a7c5c1c2b33",
   "metadata": {},
   "outputs": [],
   "source": [
    "shapefile_path = 'data/parks/'\n",
    "shapefile_df = sedona.read.format(\"shapefile\").load(shapefile_path)"
   ]
  },
  {
   "cell_type": "code",
   "execution_count": null,
   "id": "acf7dcd4-4665-454f-acd4-ee6f3bf94aa9",
   "metadata": {
    "scrolled": true
   },
   "outputs": [],
   "source": [
    "# CSV - https://www.kaggle.com/datasets/andykrause/kingcountysales\n",
    "csv_path = 'data/kingco_sales.csv'\n",
    "csv_df = sedona.read.format(\"csv\").load(csv_path)\n",
    "csv_df.show(3)"
   ]
  },
  {
   "cell_type": "code",
   "execution_count": null,
   "id": "34666378-7b1a-4544-898d-3b57dd06fb04",
   "metadata": {
    "scrolled": true
   },
   "outputs": [],
   "source": [
    "# Read CSV with header and inferSchema\n",
    "csv_df = sedona.read.format(\"csv\") \\\n",
    "    .option(\"header\", \"true\") \\\n",
    "    .option(\"inferSchema\", \"true\") \\\n",
    "    .load(csv_path)\n",
    "\n",
    "csv_df.show(3)"
   ]
  },
  {
   "cell_type": "code",
   "execution_count": null,
   "id": "e2136d07-3c56-4cd4-add7-333d659b5ca0",
   "metadata": {},
   "outputs": [],
   "source": [
    "from pyspark.sql.functions import col"
   ]
  },
  {
   "cell_type": "code",
   "execution_count": null,
   "id": "67295e56-10df-46d7-977d-aff577632a72",
   "metadata": {},
   "outputs": [],
   "source": [
    "csv_df = csv_df.selectExpr(\n",
    "    \"*\", \"ST_Point(longitude, latitude) as geometry\")"
   ]
  },
  {
   "cell_type": "code",
   "execution_count": null,
   "id": "6fa1e057-9c30-4a1e-b63c-41f8eff8c7f9",
   "metadata": {},
   "outputs": [],
   "source": [
    "csv_df.show(3)"
   ]
  },
  {
   "cell_type": "code",
   "execution_count": null,
   "id": "41cda82d-9062-4916-be62-505461a8b0b5",
   "metadata": {},
   "outputs": [],
   "source": [
    "csv_df.count()"
   ]
  },
  {
   "cell_type": "code",
   "execution_count": null,
   "id": "f157b2cc-2ccb-4073-8ac6-399f0e236907",
   "metadata": {},
   "outputs": [],
   "source": [
    "# GeoParquet\n",
    "geoparquet_path = 'data/Seattle_Transportation_Plan_Bicycle_Element_829016546957421557.parquet'\n",
    "geoparquet_df = sedona.read.format(\"geoparquet\").load(geoparquet_path)\n",
    "geoparquet_df.show(3)"
   ]
  },
  {
   "cell_type": "code",
   "execution_count": null,
   "id": "929343a0-507b-48ca-9be7-21d01766e3ee",
   "metadata": {},
   "outputs": [],
   "source": [
    "geoparquet_df.selectExpr('ST_SRID(geometry)').show(1)"
   ]
  },
  {
   "cell_type": "code",
   "execution_count": null,
   "id": "fa7bca40-a174-41cf-8e5c-cb1f8ba35f3b",
   "metadata": {},
   "outputs": [],
   "source": [
    "geoparquet_df.selectExpr('''ST_Transform(geometry, 'EPSG:2926', 'EPSG:4326')''').show(1)"
   ]
  },
  {
   "cell_type": "code",
   "execution_count": null,
   "id": "9d1030f6-fd2a-40f1-a2fe-f080b9568fa6",
   "metadata": {
    "scrolled": true
   },
   "outputs": [],
   "source": [
    "# GeoParquet\n",
    "geoparquet_schools_path = 'data/Seattle_Public_Schools_Sites_2023-2024.parquet'\n",
    "geoparquet_schools_df = sedona.read.format(\"geoparquet\").load(geoparquet_schools_path)\n",
    "geoparquet_schools_df.show(3)"
   ]
  },
  {
   "cell_type": "markdown",
   "id": "fe4aff0e-2d1e-4664-8680-c3d814316e41",
   "metadata": {
    "jp-MarkdownHeadingCollapsed": true
   },
   "source": [
    "# Part 3: Loading Raster Data"
   ]
  },
  {
   "cell_type": "code",
   "execution_count": null,
   "id": "49da7f6a-b3b6-45f5-856f-f75d9359a957",
   "metadata": {},
   "outputs": [],
   "source": [
    "netcdf_file = \"data/pdsi_current_PRISM.nc\"\n",
    "netcdf_df = sedona.read.format(\"binaryFile\").load(netcdf_file)\n",
    "netcdf_df.show()"
   ]
  },
  {
   "cell_type": "code",
   "execution_count": null,
   "id": "4745bd8c-db41-4575-9c2a-da2eb5510ad6",
   "metadata": {},
   "outputs": [],
   "source": [
    "import pyspark.sql.functions as f"
   ]
  },
  {
   "cell_type": "code",
   "execution_count": null,
   "id": "7a1fc773-25d2-45aa-bc3c-38f9961f240f",
   "metadata": {},
   "outputs": [],
   "source": [
    "netcdf_df.repartition(8)"
   ]
  },
  {
   "cell_type": "code",
   "execution_count": null,
   "id": "9ebab680-8b87-48db-a44a-b1b09f2901e3",
   "metadata": {},
   "outputs": [],
   "source": [
    "netcdf_df = netcdf_df.withColumn(\"raster\", f.expr(\"RS_FromNetCDF(content, 'data', 'longitude', 'latitude')\"))"
   ]
  },
  {
   "cell_type": "code",
   "execution_count": null,
   "id": "0cfdc718-921f-45a6-b8bc-c52f24b2af2c",
   "metadata": {
    "scrolled": true
   },
   "outputs": [],
   "source": [
    "netcdf_df.show()"
   ]
  },
  {
   "cell_type": "code",
   "execution_count": null,
   "id": "d6c08f9f-d0e6-4e96-a31f-566273c534f6",
   "metadata": {},
   "outputs": [],
   "source": [
    "# https://radiantearth.github.io/stac-browser/#/external/earth-search.aws.element84.com/v1/collections/sentinel-2-l2a/items/S2A_10TET_20250423_0_L2A?.asset=asset-nir"
   ]
  },
  {
   "cell_type": "markdown",
   "id": "2f471ac4-32c8-4281-97e9-f9fee64ddec9",
   "metadata": {},
   "source": [
    "## GeoTIFF"
   ]
  },
  {
   "cell_type": "code",
   "execution_count": null,
   "id": "5ac942d5-80eb-4dac-8ea2-ffdacf2f78bd",
   "metadata": {},
   "outputs": [],
   "source": [
    "# https://browser.apex.esa.int/external/eoresults.esa.int/stac/collections/ESA_WORLDCOVER_10M_2021_V2/items/ESA_WorldCover_10m_2021_v200_N45W123?.asset=asset-esa_worldcover_10m_map"
   ]
  },
  {
   "cell_type": "code",
   "execution_count": null,
   "id": "a8b313fa-1699-41f6-9152-2aa9a1407754",
   "metadata": {},
   "outputs": [],
   "source": [
    "raster_df = sedona.read.format(\"binaryFile\") \\\n",
    "    .load(\"data/ESA_WorldCover_10m_2021_v200_N45W123_Map.tif\")"
   ]
  },
  {
   "cell_type": "code",
   "execution_count": null,
   "id": "5ce702f9-18cc-480e-aada-e98338c14b52",
   "metadata": {},
   "outputs": [],
   "source": [
    "raster_df = raster_df.withColumn(\"raster\", f.expr(\"RS_FromGeoTiff(content)\"))"
   ]
  },
  {
   "cell_type": "code",
   "execution_count": null,
   "id": "8a94b43a-4c16-4135-8f47-bba5a575a197",
   "metadata": {},
   "outputs": [],
   "source": [
    "# raster_df.show()"
   ]
  },
  {
   "cell_type": "code",
   "execution_count": null,
   "id": "01859ec4-c29f-46f7-bd96-67d3cafc2019",
   "metadata": {},
   "outputs": [],
   "source": [
    "raster_df.repartition(8)"
   ]
  },
  {
   "cell_type": "code",
   "execution_count": null,
   "id": "7d7ec5d3-6a9c-4326-b6e4-3d0583be798b",
   "metadata": {
    "scrolled": true
   },
   "outputs": [],
   "source": [
    "raster_df.selectExpr(\"RS_TileExplode(raster, 256, 256) as (x, y, raster)\").show()"
   ]
  },
  {
   "cell_type": "markdown",
   "id": "0839e1e4-ee7b-4b4a-be7d-68ecd48b8167",
   "metadata": {
    "jp-MarkdownHeadingCollapsed": true
   },
   "source": [
    "# Part 4: PySpark and SparkSQL"
   ]
  },
  {
   "cell_type": "code",
   "execution_count": null,
   "id": "800c3d76-79cc-4c28-85db-ef9b2b20867d",
   "metadata": {},
   "outputs": [],
   "source": [
    "shapefile_df.printSchema()"
   ]
  },
  {
   "cell_type": "code",
   "execution_count": null,
   "id": "e27354b3-0478-4b6c-ad35-4c70fc3231a4",
   "metadata": {},
   "outputs": [],
   "source": [
    "csv_df.printSchema()"
   ]
  },
  {
   "cell_type": "code",
   "execution_count": null,
   "id": "3784ef73-7df9-483f-97a4-2f055517df5e",
   "metadata": {},
   "outputs": [],
   "source": [
    "shapefile_df.selectExpr('ST_SRID(geometry)').first()"
   ]
  },
  {
   "cell_type": "code",
   "execution_count": null,
   "id": "933e1d50-3b00-4da3-b237-a2cd300c7d27",
   "metadata": {},
   "outputs": [],
   "source": [
    "csv_df.selectExpr('ST_SRID(geometry)').first()"
   ]
  },
  {
   "cell_type": "code",
   "execution_count": null,
   "id": "6fe84b64-7cd0-4753-a6b4-1bb0aa9b6300",
   "metadata": {},
   "outputs": [],
   "source": [
    "shapefile_df.createOrReplaceTempView(\"polygons\")\n",
    "csv_df.createOrReplaceTempView(\"points\")"
   ]
  },
  {
   "cell_type": "code",
   "execution_count": null,
   "id": "103d7dc5-04f3-47bc-bd0b-8d2695621788",
   "metadata": {},
   "outputs": [],
   "source": [
    "%%time\n",
    "sedona.sql(\"\"\"\n",
    "    SELECT p.sale_id AS point_id, poly.NAME AS park_name\n",
    "    FROM points p\n",
    "    JOIN polygons poly\n",
    "    ON ST_DWithin(\n",
    "        ST_Transform(poly.geometry, 'EPSG:2926', 'EPSG:26910'), \n",
    "        ST_Transform(p.geometry, 'EPSG:4326', 'EPSG:26910'), \n",
    "    30)\n",
    "\"\"\").count()"
   ]
  },
  {
   "cell_type": "code",
   "execution_count": null,
   "id": "7dccb2cd-1736-4aa7-88be-e6027f8427c9",
   "metadata": {},
   "outputs": [],
   "source": [
    "from pyspark.sql.functions import expr\n",
    "\n",
    "# Transform geometries to EPSG:26910 (UTM zone), then apply ST_DWithin\n",
    "transformed_points = csv_df.withColumn(\n",
    "    \"geom_utm\", expr(\"ST_Transform(geometry, 'EPSG:4326', 'EPSG:26910')\")\n",
    ")\n",
    "\n",
    "transformed_polygons = shapefile_df.withColumn(\n",
    "    \"geom_utm\", expr(\"ST_Transform(geometry, 'EPSG:2926', 'EPSG:26910')\")\n",
    ")\n",
    "\n",
    "# Perform spatial join using ST_DWithin\n",
    "joined_df = transformed_points.alias(\"p\").join(\n",
    "    transformed_polygons.alias(\"poly\"),\n",
    "    expr(\"ST_DWithin(poly.geom_utm, p.geom_utm, 30)\")\n",
    ")\n",
    "\n",
    "# Count matching pairs\n",
    "joined_df.count()"
   ]
  },
  {
   "cell_type": "markdown",
   "id": "7b1dc16a-a9e8-431e-8016-8534e082218c",
   "metadata": {
    "jp-MarkdownHeadingCollapsed": true
   },
   "source": [
    "# Part 5: DataFrame Operations"
   ]
  },
  {
   "cell_type": "code",
   "execution_count": null,
   "id": "3c7f267d-72cf-4db0-b135-f1a2ea005224",
   "metadata": {},
   "outputs": [],
   "source": [
    "csv_df.show(5, truncate=False)"
   ]
  },
  {
   "cell_type": "code",
   "execution_count": null,
   "id": "8b769222-9e96-48fa-aba9-ad851e262acd",
   "metadata": {},
   "outputs": [],
   "source": [
    "csv_df.printSchema()"
   ]
  },
  {
   "cell_type": "code",
   "execution_count": null,
   "id": "df0d804a-2b70-472c-82d8-0b142c723964",
   "metadata": {},
   "outputs": [],
   "source": [
    "csv_df.select(\"sale_id\", \"sale_price\").show()"
   ]
  },
  {
   "cell_type": "code",
   "execution_count": null,
   "id": "3a82efe0-3494-4137-b635-1c57d96dab6b",
   "metadata": {},
   "outputs": [],
   "source": [
    "csv_df.count()"
   ]
  },
  {
   "cell_type": "code",
   "execution_count": null,
   "id": "7905a273-a817-457c-9905-abafc3496656",
   "metadata": {},
   "outputs": [],
   "source": [
    "points_df = csv_df.select(\"sale_id\", \"sale_price\")"
   ]
  },
  {
   "cell_type": "code",
   "execution_count": null,
   "id": "5142dcfb-c090-435c-8e07-221aa3d55de8",
   "metadata": {},
   "outputs": [],
   "source": [
    "points_df.first()"
   ]
  },
  {
   "cell_type": "code",
   "execution_count": null,
   "id": "cd583343-88bf-473b-8b69-918450fc8a48",
   "metadata": {},
   "outputs": [],
   "source": [
    "points_df = csv_df.select(\"sale_id\", \"sale_price\")"
   ]
  },
  {
   "cell_type": "code",
   "execution_count": null,
   "id": "1037e70a-ec73-4ae2-9b25-462e1199d61a",
   "metadata": {},
   "outputs": [],
   "source": [
    "points_df.orderBy(\"sale_price\").show()"
   ]
  },
  {
   "cell_type": "code",
   "execution_count": null,
   "id": "bfc82c48-6e88-4214-bd0e-ac9f23be80d2",
   "metadata": {},
   "outputs": [],
   "source": [
    "points_df.filter(\"sale_price > 500000\").show()"
   ]
  },
  {
   "cell_type": "markdown",
   "id": "6c2ab87f-7dbc-43c5-8c75-66f055a5db43",
   "metadata": {
    "jp-MarkdownHeadingCollapsed": true
   },
   "source": [
    "# Part 6: Vector and Raster Viz"
   ]
  },
  {
   "cell_type": "code",
   "execution_count": null,
   "id": "f5df75a9-0f44-46d0-9942-bf86ccbaf38a",
   "metadata": {},
   "outputs": [],
   "source": [
    "from sedona.spark import SedonaUtils\n",
    "\n",
    "# Convert raster to base64 image for inline visualization\n",
    "htmlDF = raster_df.selectExpr(\"RS_AsImage(raster, 500) as raster_image\")\n",
    "\n",
    "# Display in notebook (Jupyter or Databricks)\n",
    "SedonaUtils.display_image(htmlDF)"
   ]
  },
  {
   "cell_type": "code",
   "execution_count": null,
   "id": "7fa8f141-224e-4dea-bf20-e036074a35d6",
   "metadata": {},
   "outputs": [],
   "source": [
    "from sedona.spark import SedonaKepler\n",
    "\n",
    "map = SedonaKepler.create_map()\n",
    "SedonaKepler.add_df(map, geoparquet_schools_df, name=\"Seattle Schools\")\n",
    "map"
   ]
  },
  {
   "cell_type": "markdown",
   "id": "676a62de-2b1f-4d73-b023-92e7919c2aad",
   "metadata": {
    "jp-MarkdownHeadingCollapsed": true
   },
   "source": [
    "# Part 7: Vector Functions"
   ]
  },
  {
   "cell_type": "code",
   "execution_count": null,
   "id": "cbe0ea10-af5a-42b9-9e6e-165c96be17cc",
   "metadata": {},
   "outputs": [],
   "source": [
    "from sedona.sql.st_functions import ST_Buffer, ST_Transform, ST_ConvexHull"
   ]
  },
  {
   "cell_type": "code",
   "execution_count": null,
   "id": "5d2b218d-804e-4dd9-bb8f-f91d89d95bc0",
   "metadata": {},
   "outputs": [],
   "source": [
    "from pyspark.sql.functions import col, lit\n",
    "\n",
    "buffered_df = geoparquet_schools_df.select(\n",
    "    ST_Buffer(\n",
    "        ST_Transform(col(\"geometry\"), lit(\"EPSG:4326\"), lit(\"EPSG:26910\")),\n",
    "        100\n",
    "    ).alias(\"buffer\")\n",
    ")\n",
    "\n",
    "buffered_df.show(3)"
   ]
  },
  {
   "cell_type": "code",
   "execution_count": null,
   "id": "69316e54-83c7-4354-a999-0d84d89f4ebe",
   "metadata": {},
   "outputs": [],
   "source": [
    "map = SedonaKepler.create_map()\n",
    "SedonaKepler.add_df(map, buffered_df, name=\"Seattle Schools Buffer\")\n",
    "map"
   ]
  },
  {
   "cell_type": "code",
   "execution_count": null,
   "id": "2fbdd4b9-6f7f-42d1-b44b-5bfc207accc0",
   "metadata": {},
   "outputs": [],
   "source": [
    "schools_df = geoparquet_schools_df.selectExpr(\"*\", \"ST_Transform(geometry, 'EPSG:4326', 'EPSG:26910') as geom\") \\\n",
    "    .drop(\"geometry\") \\\n",
    "    .withColumnRenamed(\"geom\", \"geometry\")"
   ]
  },
  {
   "cell_type": "code",
   "execution_count": null,
   "id": "11f4c558-b7a1-4aa8-a3fc-6b96c9dc5478",
   "metadata": {},
   "outputs": [],
   "source": [
    "shapefile_df.createOrReplaceTempView('parks')"
   ]
  },
  {
   "cell_type": "code",
   "execution_count": null,
   "id": "9942f2a6-f41b-42cb-9dbd-a9a69c77b05d",
   "metadata": {},
   "outputs": [],
   "source": [
    "centroid = sedona.sql('''select st_centroid(geometry) from parks''')\n",
    "centroid.show(3)"
   ]
  },
  {
   "cell_type": "code",
   "execution_count": null,
   "id": "4bcdc5fe-ec14-4efc-8039-2ec196971207",
   "metadata": {},
   "outputs": [],
   "source": [
    "area = sedona.sql('''select st_area(geometry) from parks''')\n",
    "area.show(3)"
   ]
  },
  {
   "cell_type": "code",
   "execution_count": null,
   "id": "b67018ef-32bf-4443-bfa2-2dd27a126dd8",
   "metadata": {},
   "outputs": [],
   "source": [
    "geoparquet_df.createOrReplaceTempView('bikes')"
   ]
  },
  {
   "cell_type": "code",
   "execution_count": null,
   "id": "9481f376-0b23-4eb9-828f-9073b112f98b",
   "metadata": {},
   "outputs": [],
   "source": [
    "length = sedona.sql('''select st_length(geometry) from bikes''')\n",
    "length.show(3)"
   ]
  },
  {
   "cell_type": "code",
   "execution_count": null,
   "id": "cb77dfab-22ea-4ef2-b828-daf6d39f2643",
   "metadata": {},
   "outputs": [],
   "source": [
    "hull_df = shapefile_df.select(\n",
    "    \"geometry\",\n",
    "    ST_ConvexHull(\"geometry\").alias(\"convex_hull\")\n",
    ")\n",
    "hull_df.show(3)"
   ]
  },
  {
   "cell_type": "code",
   "execution_count": null,
   "id": "93565cc9-3c66-4185-ac8f-4369d59c335e",
   "metadata": {},
   "outputs": [],
   "source": [
    "# Space Needle - -122.3494692, 47.6205426"
   ]
  },
  {
   "cell_type": "code",
   "execution_count": null,
   "id": "5ac973a5-0ee7-4710-8693-74fbb7ff9fa6",
   "metadata": {},
   "outputs": [],
   "source": [
    "from pyspark.sql.functions import lit\n",
    "\n",
    "dist_df = sedona.sql('''\n",
    "select ST_Distance(geometry, \n",
    "                     ST_Transform(\n",
    "                        ST_SetSRID(\n",
    "                            ST_Point(-122.3494692, 47.6205426), 4326), 'EPSG:26910')) as distance\n",
    "from parks                     \n",
    "''')\n",
    "\n",
    "dist_df.show(3)"
   ]
  },
  {
   "cell_type": "code",
   "execution_count": null,
   "id": "a8bcf450-799c-425b-a2c5-22df9a0633ec",
   "metadata": {},
   "outputs": [],
   "source": [
    "h3_df = sedona.sql('''\n",
    "select ST_H3CellIDs(geometry, 8, true) as h3\n",
    "from parks\n",
    "limit 3\n",
    "''')\n",
    "\n",
    "h3_df.show()"
   ]
  },
  {
   "cell_type": "code",
   "execution_count": null,
   "id": "4bd99913-97f4-412d-a8d3-ca183af745e3",
   "metadata": {},
   "outputs": [],
   "source": [
    "sedona.sql(\"\"\"\n",
    "SELECT ST_3DDistance(\n",
    "    ST_GeomFromText('POINT Z (0 0 0)'),\n",
    "    ST_GeomFromText('POINT Z (3 4 14)')\n",
    ") AS dist_3d\n",
    "\"\"\").show()"
   ]
  },
  {
   "cell_type": "markdown",
   "id": "432dde9a-6b00-4e7f-9a17-b26de00482aa",
   "metadata": {
    "jp-MarkdownHeadingCollapsed": true
   },
   "source": [
    "# Part 8: Spatial Predicates"
   ]
  },
  {
   "cell_type": "code",
   "execution_count": null,
   "id": "3fa0ab2d-df85-492d-bf14-d0db2683ace6",
   "metadata": {},
   "outputs": [],
   "source": [
    "csv_df.createOrReplaceTempView('homes')\n",
    "geojson_df.createOrReplaceTempView('neighborhoods')"
   ]
  },
  {
   "cell_type": "code",
   "execution_count": null,
   "id": "540aeb45-11df-4f82-ab54-9c7280a0e2de",
   "metadata": {},
   "outputs": [],
   "source": [
    "geojson_df.show(3)"
   ]
  },
  {
   "cell_type": "code",
   "execution_count": null,
   "id": "2804e797-8bcd-46d7-984e-56465e6cadd3",
   "metadata": {},
   "outputs": [],
   "source": [
    "sedona.sql('''\n",
    "select h.sale_id, st_contains(n.geometry, h.geometry) in_ballard\n",
    "from homes h\n",
    "join neighborhoods n on st_contains(n.geometry, h.geometry)\n",
    "where n.S_HOOD = 'Ballard'\n",
    "''').show(3)"
   ]
  },
  {
   "cell_type": "code",
   "execution_count": null,
   "id": "22803eea-f31c-4409-b2b1-037f499a25a8",
   "metadata": {},
   "outputs": [],
   "source": [
    "sedona.sql('''\n",
    "select h.sale_id\n",
    "from homes h\n",
    "join neighborhoods n on st_dwithin(\n",
    "    st_transform(n.geometry, 'EPSG:4326', 'EPSG:26910'), \n",
    "    st_transform(h.geometry, 'EPSG:4326', 'EPSG:26910'),\n",
    "    500)\n",
    "where n.S_HOOD = 'Ballard'\n",
    "''').count()"
   ]
  },
  {
   "cell_type": "code",
   "execution_count": null,
   "id": "f13652ab-6b0d-4620-acdd-fed205d8a965",
   "metadata": {},
   "outputs": [],
   "source": [
    "sedona.sql('''SELECT ST_Contains(\n",
    "  ST_GeomFromText('POLYGON((0 0, 0 10, 10 10, 10 0, 0 0))'),\n",
    "  ST_GeomFromText('POINT(5 5)')\n",
    ") AS contains\n",
    "''').show()"
   ]
  },
  {
   "cell_type": "code",
   "execution_count": null,
   "id": "dd041f82-e061-425c-b5c1-18ab6796d384",
   "metadata": {},
   "outputs": [],
   "source": [
    "sedona.sql('''SELECT ST_Contains(\n",
    "  ST_GeomFromText('POLYGON((0 0, 0 10, 10 10, 10 0, 0 0))'),\n",
    "  ST_GeomFromText('POINT(0 0)')\n",
    ") AS contains\n",
    "''').show()"
   ]
  },
  {
   "cell_type": "code",
   "execution_count": null,
   "id": "109d1aab-6512-4cb7-88b6-35d170967cef",
   "metadata": {},
   "outputs": [],
   "source": [
    "sedona.sql('''SELECT ST_Intersects(\n",
    "  ST_GeomFromText('POLYGON((0 0, 0 10, 10 10, 10 0, 0 0))'),\n",
    "  ST_GeomFromText('LINESTRING(5 5, 15 5)')\n",
    ") AS intersects''').show()"
   ]
  },
  {
   "cell_type": "code",
   "execution_count": null,
   "id": "a4bb0aa7-419b-4b6a-aa2c-82e448dab3d4",
   "metadata": {},
   "outputs": [],
   "source": [
    "sedona.sql('''SELECT ST_Intersects(\n",
    "  ST_GeomFromText('POLYGON((0 0, 0 10, 10 10, 10 0, 0 0))'),\n",
    "  ST_GeomFromText('POINT(0 0)')\n",
    ") AS intersects\n",
    "''').show()"
   ]
  },
  {
   "cell_type": "code",
   "execution_count": null,
   "id": "9c66c590-5d9b-492c-8c4a-64caa0d2e963",
   "metadata": {},
   "outputs": [],
   "source": [
    "sedona.sql('''SELECT ST_Touches(\n",
    "  ST_GeomFromText('POLYGON((0 0, 0 10, 10 10, 10 0, 0 0))'),\n",
    "  ST_GeomFromText('POINT(0 0)')\n",
    ") AS intersects\n",
    "''').show()"
   ]
  },
  {
   "cell_type": "code",
   "execution_count": null,
   "id": "0e5b7638-af20-4b3d-8658-0bc50d81918d",
   "metadata": {},
   "outputs": [],
   "source": [
    "sedona.sql('''SELECT ST_Touches(\n",
    "  ST_GeomFromText('POLYGON((0 0, 0 10, 10 10, 10 0, 0 0))'),\n",
    "  ST_GeomFromText('POINT(5 5)')\n",
    ") AS intersects\n",
    "''').show()"
   ]
  },
  {
   "cell_type": "markdown",
   "id": "79eb39b6-a819-498d-87b4-ba1a91457818",
   "metadata": {
    "jp-MarkdownHeadingCollapsed": true
   },
   "source": [
    "# Part 9: Write Data"
   ]
  },
  {
   "cell_type": "code",
   "execution_count": null,
   "id": "53ffa72c-de7a-4bf2-be29-0bc16da76913",
   "metadata": {},
   "outputs": [],
   "source": [
    "# Write a single GeoJSON file (e.g., for download or web map use)\n",
    "geojson_output_path = \"parks.geojson\"\n",
    "\n",
    "shapefile_df.coalesce(1).write \\\n",
    "    .mode(\"overwrite\") \\\n",
    "    .format(\"geojson\") \\\n",
    "    .save(geojson_output_path)"
   ]
  },
  {
   "cell_type": "code",
   "execution_count": null,
   "id": "99394244-dd12-46fe-88d5-ded2adf910ec",
   "metadata": {},
   "outputs": [],
   "source": [
    "# Repartition to 10 files for parallel writes\n",
    "csv_df.repartition(10).write \\\n",
    "    .mode(\"overwrite\") \\\n",
    "    .format(\"geoparquet\") \\\n",
    "    .save(\"data/output_geoparquet_10_parts\")"
   ]
  },
  {
   "cell_type": "code",
   "execution_count": null,
   "id": "2d0de6db-d6f5-4d91-ae58-5f769fe64d6c",
   "metadata": {},
   "outputs": [],
   "source": [
    "csv_df.write \\\n",
    "    .mode(\"overwrite\") \\\n",
    "    .format(\"geoparquet\") \\\n",
    "    .partitionBy(\"city\") \\\n",
    "    .save(\"data/output_geoparquet_partitioned\")"
   ]
  },
  {
   "cell_type": "code",
   "execution_count": null,
   "id": "fdb3a047-50ba-4462-aca2-ff8a812a1446",
   "metadata": {},
   "outputs": [],
   "source": [
    "# output_df.write \\\n",
    "#     .mode(\"overwrite\") \\\n",
    "#     .format(\"geoparquet\") \\\n",
    "#     .save(\"s3a://your-bucket-name/path/to/output/\")"
   ]
  },
  {
   "cell_type": "markdown",
   "id": "9da4b2b9-8721-4e94-a757-4d5c53744366",
   "metadata": {
    "jp-MarkdownHeadingCollapsed": true
   },
   "source": [
    "# Part 10: Nearest Neighbor Join"
   ]
  },
  {
   "cell_type": "code",
   "execution_count": null,
   "id": "5194d9ef-5fff-4f38-91d7-2c86ea1dfe21",
   "metadata": {},
   "outputs": [],
   "source": [
    "geoparquet_schools_df.repartition(8)"
   ]
  },
  {
   "cell_type": "code",
   "execution_count": null,
   "id": "9cbcde0d-6e2c-4ff4-ab8d-4415dcd8189d",
   "metadata": {},
   "outputs": [],
   "source": [
    "geoparquet_schools_df.createOrReplaceTempView('schools')"
   ]
  },
  {
   "cell_type": "code",
   "execution_count": null,
   "id": "94bc3eec-ea45-4398-a32c-21331465a534",
   "metadata": {},
   "outputs": [],
   "source": [
    "nearest = sedona.sql('''\n",
    "select schools.school_name, bikes.id\n",
    "from schools\n",
    "join bikes on ST_KNN(\n",
    "    schools.geometry,\n",
    "    bikes.geometry,\n",
    "    3,\n",
    "    true\n",
    ")\n",
    "''')"
   ]
  },
  {
   "cell_type": "code",
   "execution_count": null,
   "id": "93596928-2f0b-43d9-b6f8-4ac6a7c1ad02",
   "metadata": {},
   "outputs": [],
   "source": [
    "nearest.show(9)"
   ]
  },
  {
   "cell_type": "markdown",
   "id": "d89a5f8b-f745-44e1-bc0b-1f21f796ef35",
   "metadata": {
    "jp-MarkdownHeadingCollapsed": true
   },
   "source": [
    "# Part 11: Raster Functions"
   ]
  },
  {
   "cell_type": "code",
   "execution_count": null,
   "id": "2b939ce8-20a1-4347-ac18-a4900caa537c",
   "metadata": {},
   "outputs": [],
   "source": [
    "sample_area = 'POLYGON((-122.3608417185 47.6460037086, -122.3581854589 47.6460037086, -122.3581854589 47.643222509, -122.3608417185 47.643222509, -122.3608417185 47.6460037086))'"
   ]
  },
  {
   "cell_type": "code",
   "execution_count": null,
   "id": "f54374e4",
   "metadata": {},
   "outputs": [],
   "source": [
    "raster_df = raster_df.selectExpr(\"RS_TileExplode(raster, 256, 256) as (x, y, raster)\")"
   ]
  },
  {
   "cell_type": "code",
   "execution_count": null,
   "id": "d9fa38c1-1b3d-48c9-97fb-08766c013704",
   "metadata": {},
   "outputs": [],
   "source": [
    "raster_df.createOrReplaceTempView('landcover')"
   ]
  },
  {
   "cell_type": "code",
   "execution_count": null,
   "id": "ed97dcb4-daa2-4473-9837-c07ffb559784",
   "metadata": {},
   "outputs": [],
   "source": [
    "centroids = sedona.sql(f'''\n",
    "select RS_PixelAsCentroids(raster, 1)\n",
    "from landcover\n",
    "where rs_intersects(raster, st_geomfromtext('{sample_area}'))\n",
    "''')"
   ]
  },
  {
   "cell_type": "code",
   "execution_count": null,
   "id": "f5eda6a6-0d14-45e7-b28c-a7e7c9aead40",
   "metadata": {},
   "outputs": [],
   "source": [
    "centroids.show(3)"
   ]
  },
  {
   "cell_type": "code",
   "execution_count": null,
   "id": "f3f1a3cb-3333-4c88-b17d-7cede7e1198b",
   "metadata": {},
   "outputs": [],
   "source": [
    "raster_df.createOrReplaceTempView('landcover')"
   ]
  },
  {
   "cell_type": "code",
   "execution_count": null,
   "id": "0f417e28-cd29-42d0-ae91-1ae45aac0f62",
   "metadata": {},
   "outputs": [],
   "source": [
    "values = sedona.sql(f'''\n",
    "select RS_Value(raster, ST_Point(-122.373894, 47.634587))\n",
    "from landcover\n",
    "where rs_intersects(raster, st_geomfromtext('{sample_area}'))\n",
    "''')"
   ]
  },
  {
   "cell_type": "code",
   "execution_count": null,
   "id": "8979559f-959e-4425-915c-6bdad0420556",
   "metadata": {},
   "outputs": [],
   "source": [
    "values.show()"
   ]
  },
  {
   "cell_type": "code",
   "execution_count": null,
   "id": "28ec0070-603f-4ba9-a7b7-d66c41e498ce",
   "metadata": {},
   "outputs": [],
   "source": [
    "raster_tiles = raster_df.selectExpr(\"RS_TileExplode(raster, 256, 256) as (x, y, raster)\")"
   ]
  },
  {
   "cell_type": "code",
   "execution_count": null,
   "id": "087d3c0b-8092-4fc4-9a5f-d977951107f4",
   "metadata": {},
   "outputs": [],
   "source": [
    "raster_tiles.createOrReplaceTempView('landcover_tiles')"
   ]
  },
  {
   "cell_type": "code",
   "execution_count": null,
   "id": "39397e43-5d7e-484d-845c-59a5d78db8aa",
   "metadata": {},
   "outputs": [],
   "source": [
    "raster_tiles.show()"
   ]
  },
  {
   "cell_type": "code",
   "execution_count": null,
   "id": "f1356c12-4e04-4d92-9b55-4c8e896a554d",
   "metadata": {},
   "outputs": [],
   "source": [
    "stats = sedona.sql('''SELECT RS_SummaryStatsAll(raster) AS stats\n",
    "FROM landcover_tiles\n",
    "where x = 0 and y = 0''')\n",
    "stats.show(truncate=False)"
   ]
  },
  {
   "cell_type": "code",
   "execution_count": null,
   "id": "6a433ce9-9b25-4eca-ad7e-d398e6a29f31",
   "metadata": {},
   "outputs": [],
   "source": [
    "metadata = sedona.sql('''SELECT RS_MetaData(raster) AS stats\n",
    "FROM landcover_tiles\n",
    "where x = 0 and y = 0''')\n",
    "metadata.show(truncate=False)"
   ]
  },
  {
   "cell_type": "markdown",
   "id": "b8384d8b-7aba-40ab-a680-16c7ad25e3ec",
   "metadata": {},
   "source": [
    "# Part 12: Raster Map Algerbra (NDVI)"
   ]
  },
  {
   "cell_type": "code",
   "execution_count": null,
   "id": "1fdad7ad-42f4-4dab-a211-a2e29ebf44f8",
   "metadata": {},
   "outputs": [],
   "source": [
    "# # https://radiantearth.github.io/stac-browser/#/external/earth-search.aws.element84.com/v1/collections/sentinel-2-l2a/items/S2A_10TET_20250423_0_L2A?.asset=asset-nir"
   ]
  },
  {
   "cell_type": "code",
   "execution_count": null,
   "id": "12f22723-2baf-481d-b920-089670dfc116",
   "metadata": {},
   "outputs": [],
   "source": [
    "from pyspark.sql import functions as f"
   ]
  },
  {
   "cell_type": "code",
   "execution_count": null,
   "id": "6c422e00",
   "metadata": {},
   "outputs": [],
   "source": [
    "red_df = sedona.read.format(\"binaryFile\") \\\n",
    "    .load(\"data/B04.tif\")\n",
    "\n",
    "red_df = red_df.withColumn(\"raster\", f.expr(\"RS_FromGeoTiff(content)\"))"
   ]
  },
  {
   "cell_type": "code",
   "execution_count": null,
   "id": "352678d8",
   "metadata": {},
   "outputs": [],
   "source": [
    "nir_df = sedona.read.format(\"binaryFile\") \\\n",
    "    .load(\"data/B08.tif\")\n",
    "\n",
    "nir_df = nir_df.withColumn(\"raster\", f.expr(\"RS_FromGeoTiff(content)\"))"
   ]
  },
  {
   "cell_type": "code",
   "execution_count": null,
   "id": "b4f1c23d",
   "metadata": {},
   "outputs": [],
   "source": [
    "red_df.createOrReplaceTempView('red')\n",
    "nir_df.createOrReplaceTempView('nir')"
   ]
  },
  {
   "cell_type": "code",
   "execution_count": null,
   "id": "8f778442",
   "metadata": {},
   "outputs": [],
   "source": [
    "union = sedona.sql('''\n",
    "select RS_Union(red.raster, nir.raster) as raster from red, nir\n",
    "''')"
   ]
  },
  {
   "cell_type": "code",
   "execution_count": null,
   "id": "a8327f7d",
   "metadata": {},
   "outputs": [],
   "source": [
    "union.createOrReplaceTempView('union')"
   ]
  },
  {
   "cell_type": "code",
   "execution_count": null,
   "id": "a6459b8a",
   "metadata": {},
   "outputs": [],
   "source": [
    "# NDVI = (NIR - Red) / (NIR + Red)"
   ]
  },
  {
   "cell_type": "code",
   "execution_count": null,
   "id": "862072fb",
   "metadata": {},
   "outputs": [],
   "source": [
    "ndvi = sedona.sql('''\n",
    "SELECT \n",
    "  RS_MapAlgebra(\n",
    "    raster,                   \n",
    "    'D',             \n",
    "    'out = (rast[1] - rast[0])/(rast[1] + rast[0]);'\n",
    "  ) AS ndvi\n",
    "FROM union\n",
    "''')"
   ]
  },
  {
   "cell_type": "code",
   "execution_count": null,
   "id": "6d1229b5",
   "metadata": {},
   "outputs": [],
   "source": [
    "ndvi.show()"
   ]
  },
  {
   "cell_type": "code",
   "execution_count": null,
   "id": "e53d53fe",
   "metadata": {},
   "outputs": [],
   "source": [
    "from sedona.spark import SedonaUtils\n",
    "\n",
    "# Convert raster to base64 image for inline visualization\n",
    "htmlDF = ndvi.selectExpr(\"RS_AsImage(ndvi, 500) as raster_image\")\n",
    "\n",
    "# Display in notebook (Jupyter or Databricks)\n",
    "SedonaUtils.display_image(htmlDF)"
   ]
  },
  {
   "cell_type": "markdown",
   "id": "7062fb36",
   "metadata": {},
   "source": [
    "# Part 13: Raster Writer"
   ]
  },
  {
   "cell_type": "code",
   "execution_count": null,
   "id": "866d7127",
   "metadata": {},
   "outputs": [],
   "source": [
    "# ndvi.withColumn(\"raster_binary\", expr(\"RS_AsGeoTiff(ndvi)\"))\\\n",
    "#   .write.format(\"raster\")\\\n",
    "#   .option(\"rasterField\", \"raster_binary\")\\\n",
    "#   .option(\"pathField\", \"path\")\\\n",
    "#   .option(\"fileExtension\", \".tiff\")\\\n",
    "#   .mode(\"overwrite\")\\\n",
    "#   .save(\"my_raster_file\") "
   ]
  },
  {
   "cell_type": "markdown",
   "id": "99fe6216",
   "metadata": {},
   "source": [
    "# Part 14: Zonal Stats"
   ]
  },
  {
   "cell_type": "code",
   "execution_count": null,
   "id": "4b956f5a",
   "metadata": {},
   "outputs": [],
   "source": [
    "ndvi.createOrReplaceTempView('ndvi')"
   ]
  },
  {
   "cell_type": "code",
   "execution_count": null,
   "id": "6cc2811b",
   "metadata": {},
   "outputs": [],
   "source": [
    "park = 'POLYGON((-122.3607955072 47.6460058027, -122.3582580324 47.6460058027, -122.3582580324 47.6432482444, -122.3607955072 47.6432482444, -122.3607955072 47.6460058027))'"
   ]
  },
  {
   "cell_type": "code",
   "execution_count": null,
   "id": "67f86028",
   "metadata": {},
   "outputs": [],
   "source": [
    "parks_ndvi = sedona.sql(f'''\n",
    "select \n",
    "RS_ZonalStats(ndvi.ndvi, st_transform(\n",
    "    st_geomfromtext('{park}'), 'epsg:4326', 'epsg:32610'\n",
    "    ), 1, 'avg', false, false) as avg_ndvi\n",
    "from ndvi\n",
    "''')"
   ]
  },
  {
   "cell_type": "code",
   "execution_count": null,
   "id": "d5477b49",
   "metadata": {},
   "outputs": [],
   "source": [
    "ndvi = ndvi.repartition(8)"
   ]
  },
  {
   "cell_type": "code",
   "execution_count": null,
   "id": "0d8e0aa9",
   "metadata": {},
   "outputs": [],
   "source": [
    "parks_ndvi.show(3)"
   ]
  }
 ],
 "metadata": {
  "kernelspec": {
   "display_name": "SedonaDemo",
   "language": "python",
   "name": "sedonademo"
  },
  "language_info": {
   "codemirror_mode": {
    "name": "ipython",
    "version": 3
   },
   "file_extension": ".py",
   "mimetype": "text/x-python",
   "name": "python",
   "nbconvert_exporter": "python",
   "pygments_lexer": "ipython3",
   "version": "3.13.3"
  }
 },
 "nbformat": 4,
 "nbformat_minor": 5
}
