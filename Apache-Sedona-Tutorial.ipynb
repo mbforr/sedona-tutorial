{
 "cells": [
  {
   "cell_type": "code",
   "execution_count": 1,
   "id": "843a9e01-c046-4725-b9f4-b2925ca0c75c",
   "metadata": {
    "scrolled": true
   },
   "outputs": [
    {
     "name": "stderr",
     "output_type": "stream",
     "text": [
      "https://artifacts.unidata.ucar.edu/repository/unidata-all added as a remote repository with the name: repo-1\n",
      "Ivy Default Cache set to: /Users/mattforrest/.ivy2/cache\n",
      "The jars for the packages stored in: /Users/mattforrest/.ivy2/jars\n",
      "org.apache.sedona#sedona-spark-shaded-3.5_2.12 added as a dependency\n",
      "org.datasyslab#geotools-wrapper added as a dependency\n",
      "org.apache.hadoop#hadoop-aws added as a dependency\n",
      ":: resolving dependencies :: org.apache.spark#spark-submit-parent-eb9c36b4-3232-48fe-bd11-fc4a5f9bc96f;1.0\n",
      "\tconfs: [default]\n",
      "\tfound org.apache.sedona#sedona-spark-shaded-3.5_2.12;1.7.1 in central\n",
      "\tfound org.datasyslab#geotools-wrapper;1.7.0-28.5 in central\n",
      "\tfound org.apache.hadoop#hadoop-aws;3.3.2 in central\n",
      "\tfound com.amazonaws#aws-java-sdk-bundle;1.11.1026 in central\n",
      "\tfound org.wildfly.openssl#wildfly-openssl;1.0.7.Final in central\n",
      ":: resolution report :: resolve 130ms :: artifacts dl 4ms\n",
      "\t:: modules in use:\n",
      "\tcom.amazonaws#aws-java-sdk-bundle;1.11.1026 from central in [default]\n",
      "\torg.apache.hadoop#hadoop-aws;3.3.2 from central in [default]\n",
      "\torg.apache.sedona#sedona-spark-shaded-3.5_2.12;1.7.1 from central in [default]\n",
      "\torg.datasyslab#geotools-wrapper;1.7.0-28.5 from central in [default]\n",
      "\torg.wildfly.openssl#wildfly-openssl;1.0.7.Final from central in [default]\n",
      "\t---------------------------------------------------------------------\n",
      "\t|                  |            modules            ||   artifacts   |\n",
      "\t|       conf       | number| search|dwnlded|evicted|| number|dwnlded|\n",
      "\t---------------------------------------------------------------------\n",
      "\t|      default     |   5   |   0   |   0   |   0   ||   5   |   0   |\n",
      "\t---------------------------------------------------------------------\n",
      ":: retrieving :: org.apache.spark#spark-submit-parent-eb9c36b4-3232-48fe-bd11-fc4a5f9bc96f\n",
      "\tconfs: [default]\n",
      "\t0 artifacts copied, 5 already retrieved (0kB/3ms)\n"
     ]
    },
    {
     "name": "stdout",
     "output_type": "stream",
     "text": [
      ":: loading settings :: url = jar:file:/Users/mattforrest/Documents/sedona-tutorial/.venv/lib/python3.13/site-packages/pyspark/jars/ivy-2.5.1.jar!/org/apache/ivy/core/settings/ivysettings.xml\n"
     ]
    },
    {
     "name": "stderr",
     "output_type": "stream",
     "text": [
      "25/06/03 14:20:29 WARN NativeCodeLoader: Unable to load native-hadoop library for your platform... using builtin-java classes where applicable\n",
      "Setting default log level to \"WARN\".\n",
      "To adjust logging level use sc.setLogLevel(newLevel). For SparkR, use setLogLevel(newLevel).\n"
     ]
    }
   ],
   "source": [
    "from sedona.spark import SedonaContext\n",
    "\n",
    "config = (\n",
    "    SedonaContext.builder()\n",
    "    .config(\n",
    "        \"spark.jars.packages\",\n",
    "        \",\".join([\n",
    "            \"org.apache.sedona:sedona-spark-shaded-3.5_2.12:1.7.1\",\n",
    "            \"org.datasyslab:geotools-wrapper:1.7.0-28.5\",\n",
    "            \"org.apache.hadoop:hadoop-aws:3.3.2\"\n",
    "        ])\n",
    "    )\n",
    "    .config(\"spark.jars.repositories\", \"https://artifacts.unidata.ucar.edu/repository/unidata-all\")        \n",
    "    .config(\"spark.hadoop.fs.s3a.connection.ssl.enabled\", \"true\") \\\n",
    "    .config(\"spark.hadoop.fs.s3a.path.style.access\", \"true\") \\\n",
    "    .config(\"spark.hadoop.fs.s3a.impl\", \"org.apache.hadoop.fs.s3a.S3AFileSystem\") \\\n",
    "    .config(\"spark.hadoop.fs.s3a.impl\", \"org.apache.hadoop.fs.s3a.S3AFileSystem\")\n",
    "    .config(\"spark.hadoop.fs.s3a.path.style.access\", \"true\")\n",
    "    .config(\"spark.hadoop.fs.s3a.aws.credentials.provider\", \n",
    "        \"org.apache.hadoop.fs.s3a.AnonymousAWSCredentialsProvider\") \\\n",
    "    .config(\"spark.executor.memory\", \"12G\")\n",
    "    .config(\"spark.driver.memory\", \"12G\")\n",
    "    .config(\"spark.sql.shuffle.partitions\", \"2\")\n",
    "    .getOrCreate()\n",
    ")\n",
    "\n",
    "sedona = SedonaContext.create(config)\n",
    "sedona.sparkContext.setLogLevel(\"ERROR\")\n",
    "\n",
    "sedona.conf.set(\"fs.https.impl\", \"org.apache.hadoop.fs.http.HttpsFileSystem\")"
   ]
  },
  {
   "cell_type": "markdown",
   "id": "be5197b4-0336-4445-b840-31a584122eed",
   "metadata": {
    "jp-MarkdownHeadingCollapsed": true
   },
   "source": [
    "# Part 1: Simple Example"
   ]
  },
  {
   "cell_type": "markdown",
   "id": "75110e5a-5f72-4d54-91e0-7f31f40fd42b",
   "metadata": {},
   "source": [
    "## Create a Dataframe"
   ]
  },
  {
   "cell_type": "code",
   "execution_count": 2,
   "id": "85a08f7a-a716-45b5-8466-1722fabdbaa8",
   "metadata": {},
   "outputs": [],
   "source": [
    "from pyspark.sql import Row"
   ]
  },
  {
   "cell_type": "code",
   "execution_count": 3,
   "id": "5a38e2a2-4bf9-4015-b821-c4c6b7c8bdfd",
   "metadata": {},
   "outputs": [],
   "source": [
    "data = [\n",
    "    Row(id=1, name=\"Point A\", lat=40.7128, lon=-74.0060),\n",
    "    Row(id=2, name=\"Point B\", lat=34.0522, lon=-118.2437),\n",
    "    Row(id=3, name=\"Point C\", lat=37.7749, lon=-122.4194)\n",
    "]"
   ]
  },
  {
   "cell_type": "code",
   "execution_count": 4,
   "id": "8a7792cd-d41e-4b2e-8125-e1fe7d6cbbd9",
   "metadata": {},
   "outputs": [
    {
     "name": "stderr",
     "output_type": "stream",
     "text": [
      "                                                                                \r"
     ]
    },
    {
     "name": "stdout",
     "output_type": "stream",
     "text": [
      "+---+-------+-------+---------+\n",
      "| id|   name|    lat|      lon|\n",
      "+---+-------+-------+---------+\n",
      "|  1|Point A|40.7128|  -74.006|\n",
      "|  2|Point B|34.0522|-118.2437|\n",
      "|  3|Point C|37.7749|-122.4194|\n",
      "+---+-------+-------+---------+\n",
      "\n"
     ]
    }
   ],
   "source": [
    "df = sedona.createDataFrame(data)\n",
    "df.show()"
   ]
  },
  {
   "cell_type": "code",
   "execution_count": 5,
   "id": "19b1739b-8832-4713-be86-84b976822bf1",
   "metadata": {},
   "outputs": [],
   "source": [
    "from pyspark.sql.functions import expr"
   ]
  },
  {
   "cell_type": "code",
   "execution_count": 6,
   "id": "f51da86e-65c4-4140-ac2e-e9a2d1f408b3",
   "metadata": {},
   "outputs": [],
   "source": [
    "df_geom = df.withColumn(\"geom\", \n",
    "                        expr(\"ST_Point(cast(lon as Decimal(24, 20)), cast(lat as Decimal(24, 20)))\"))"
   ]
  },
  {
   "cell_type": "code",
   "execution_count": 7,
   "id": "ec52eabc-9eb3-48a3-b259-7f15df2102c5",
   "metadata": {},
   "outputs": [
    {
     "name": "stdout",
     "output_type": "stream",
     "text": [
      "+---+-------+-------+---------+-------------------------+\n",
      "|id |name   |lat    |lon      |geom                     |\n",
      "+---+-------+-------+---------+-------------------------+\n",
      "|1  |Point A|40.7128|-74.006  |POINT (-74.006 40.7128)  |\n",
      "|2  |Point B|34.0522|-118.2437|POINT (-118.2437 34.0522)|\n",
      "|3  |Point C|37.7749|-122.4194|POINT (-122.4194 37.7749)|\n",
      "+---+-------+-------+---------+-------------------------+\n",
      "\n"
     ]
    }
   ],
   "source": [
    "df_geom.show(truncate=False)"
   ]
  },
  {
   "cell_type": "markdown",
   "id": "c17705f5-ce57-4487-8c00-494ac1c6688b",
   "metadata": {},
   "source": [
    "## Simple Query"
   ]
  },
  {
   "cell_type": "code",
   "execution_count": 8,
   "id": "06f9ceda-442f-4afb-94a6-bf2d01540c82",
   "metadata": {},
   "outputs": [],
   "source": [
    "sql = \"\"\"\n",
    "SELECT ST_AreaSpheroid(\n",
    "    ST_GeomFromWKT('Polygon ((34 35, 28 30, 25 34, 34 35))')\n",
    ") as result\n",
    "\"\"\""
   ]
  },
  {
   "cell_type": "code",
   "execution_count": 9,
   "id": "d60a8b46-bbba-42bd-875a-81d91d6562ff",
   "metadata": {},
   "outputs": [
    {
     "name": "stdout",
     "output_type": "stream",
     "text": [
      "+---------------------+\n",
      "|result               |\n",
      "+---------------------+\n",
      "|2.0182485081176245E11|\n",
      "+---------------------+\n",
      "\n"
     ]
    }
   ],
   "source": [
    "sedona.sql(sql).show(truncate=False)"
   ]
  },
  {
   "cell_type": "markdown",
   "id": "b54931cd-9244-4c8b-bcaf-4d91caa0c2d8",
   "metadata": {},
   "source": [
    "## Spatial Filter"
   ]
  },
  {
   "cell_type": "code",
   "execution_count": 10,
   "id": "b78d9078-93d0-4cde-8f48-fc6fbb5079bf",
   "metadata": {},
   "outputs": [],
   "source": [
    "from pyspark.sql import Row"
   ]
  },
  {
   "cell_type": "code",
   "execution_count": 11,
   "id": "152ec662-dbfa-490c-8ba7-49331157786f",
   "metadata": {},
   "outputs": [],
   "source": [
    "data = [\n",
    "    Row(id=1, name=\"Point A\", lat=40.7128, lon=-74.0060),\n",
    "    Row(id=2, name=\"Point B\", lat=34.0522, lon=-118.2437),\n",
    "    Row(id=3, name=\"Point C\", lat=37.7749, lon=-122.4194)\n",
    "]"
   ]
  },
  {
   "cell_type": "code",
   "execution_count": 12,
   "id": "ca435585-06aa-49a3-b5b6-4f6e9d5acd4f",
   "metadata": {},
   "outputs": [
    {
     "name": "stdout",
     "output_type": "stream",
     "text": [
      "+---+-------+-------+---------+\n",
      "| id|   name|    lat|      lon|\n",
      "+---+-------+-------+---------+\n",
      "|  1|Point A|40.7128|  -74.006|\n",
      "|  2|Point B|34.0522|-118.2437|\n",
      "|  3|Point C|37.7749|-122.4194|\n",
      "+---+-------+-------+---------+\n",
      "\n"
     ]
    }
   ],
   "source": [
    "df = sedona.createDataFrame(data)\n",
    "df.show()"
   ]
  },
  {
   "cell_type": "code",
   "execution_count": 13,
   "id": "6bbb4d53-9eca-470e-b7be-04672a73e346",
   "metadata": {},
   "outputs": [],
   "source": [
    "from pyspark.sql.functions import expr"
   ]
  },
  {
   "cell_type": "code",
   "execution_count": 14,
   "id": "8d3a2408-c0a5-4ae7-9310-a4cd9a81e477",
   "metadata": {},
   "outputs": [
    {
     "name": "stdout",
     "output_type": "stream",
     "text": [
      "+---+-------+-------+---------+-------------------------+\n",
      "|id |name   |lat    |lon      |geom                     |\n",
      "+---+-------+-------+---------+-------------------------+\n",
      "|1  |Point A|40.7128|-74.006  |POINT (-74.006 40.7128)  |\n",
      "|2  |Point B|34.0522|-118.2437|POINT (-118.2437 34.0522)|\n",
      "|3  |Point C|37.7749|-122.4194|POINT (-122.4194 37.7749)|\n",
      "+---+-------+-------+---------+-------------------------+\n",
      "\n"
     ]
    }
   ],
   "source": [
    "df_geom = df.withColumn(\"geom\", expr(\"ST_Point(cast(lon as Decimal(24, 20)), cast(lat as Decimal(24, 20)))\"))\n",
    "df_geom.show(truncate=False)"
   ]
  },
  {
   "cell_type": "code",
   "execution_count": 15,
   "id": "24f5d343-7b79-45aa-a5c6-a9f71adb1334",
   "metadata": {},
   "outputs": [],
   "source": [
    "df_geom.createOrReplaceTempView(\"points\")"
   ]
  },
  {
   "cell_type": "code",
   "execution_count": 16,
   "id": "aafd82bd-95c7-437e-a2b0-aeaaab6be11b",
   "metadata": {},
   "outputs": [
    {
     "name": "stdout",
     "output_type": "stream",
     "text": [
      "+---+-------+-------------------------+\n",
      "|id |name   |wkt                      |\n",
      "+---+-------+-------------------------+\n",
      "|1  |Point A|POINT (-74.006 40.7128)  |\n",
      "|2  |Point B|POINT (-118.2437 34.0522)|\n",
      "+---+-------+-------------------------+\n",
      "\n"
     ]
    }
   ],
   "source": [
    "sedona.sql(\"\"\"\n",
    "SELECT id, name, ST_AsText(geom) AS wkt\n",
    "FROM points\n",
    "WHERE ST_Within(geom, ST_GeomFromText('POLYGON((-120 20, -60 20, -60 50, -120 50, -120 20))'))\n",
    "\"\"\").show(truncate=False)"
   ]
  },
  {
   "cell_type": "markdown",
   "id": "d77cd226-9f67-421a-9af4-4bf42cf6dc32",
   "metadata": {},
   "source": [
    "## Same as above, but Pythonic"
   ]
  },
  {
   "cell_type": "code",
   "execution_count": 17,
   "id": "b8f99dd0-b9e7-4047-a6fc-3344aa1330e1",
   "metadata": {},
   "outputs": [],
   "source": [
    "from sedona.sql.st_constructors import ST_GeomFromText\n",
    "from sedona.sql.st_functions import ST_AsText\n",
    "from sedona.sql.st_predicates import ST_Within\n",
    "from pyspark.sql.functions import lit"
   ]
  },
  {
   "cell_type": "code",
   "execution_count": 18,
   "id": "83d9018e-636c-4494-86cf-4973ed094bc2",
   "metadata": {},
   "outputs": [],
   "source": [
    "polygon_wkt = 'POLYGON((-120 20, -60 20, -60 50, -120 50, -120 20))'\n",
    "polygon_geom = ST_GeomFromText(lit(polygon_wkt))"
   ]
  },
  {
   "cell_type": "code",
   "execution_count": 19,
   "id": "08b98ab6-76de-4ab4-a96e-c2c0ae8ca92e",
   "metadata": {},
   "outputs": [
    {
     "name": "stdout",
     "output_type": "stream",
     "text": [
      "+---+-------+-------------------------+\n",
      "|id |name   |wkt                      |\n",
      "+---+-------+-------------------------+\n",
      "|1  |Point A|POINT (-74.006 40.7128)  |\n",
      "|2  |Point B|POINT (-118.2437 34.0522)|\n",
      "+---+-------+-------------------------+\n",
      "\n"
     ]
    }
   ],
   "source": [
    "df_filtered = df_geom.filter(\n",
    "    ST_Within(df_geom[\"geom\"], polygon_geom)). \\\n",
    "    select(\n",
    "        \"id\", \"name\", ST_AsText(\"geom\").alias(\"wkt\")\n",
    "    )\n",
    "\n",
    "df_filtered.show(truncate=False)"
   ]
  },
  {
   "cell_type": "markdown",
   "id": "e6a409b1-a446-4466-8b15-d0e9c29ab94c",
   "metadata": {
    "jp-MarkdownHeadingCollapsed": true
   },
   "source": [
    "# Part 2: Reading Vector Data"
   ]
  },
  {
   "cell_type": "code",
   "execution_count": 20,
   "id": "ed01e2c1-11e8-419c-b193-18aa4a36ea3c",
   "metadata": {},
   "outputs": [],
   "source": [
    "geojson_path = 'data/Neighborhood_Map_Atlas_Neighborhoods.geojson'\n",
    "geojson_df = sedona.read.format(\"geojson\").load(geojson_path)"
   ]
  },
  {
   "cell_type": "code",
   "execution_count": 21,
   "id": "2976b73b-28e0-4a4c-8445-ec447c4465b9",
   "metadata": {},
   "outputs": [
    {
     "name": "stdout",
     "output_type": "stream",
     "text": [
      "root\n",
      " |-- _corrupt_record: string (nullable = true)\n",
      " |-- geometry: geometry (nullable = true)\n",
      " |-- properties: struct (nullable = true)\n",
      " |    |-- L_HOOD: string (nullable = true)\n",
      " |    |-- OBJECTID: long (nullable = true)\n",
      " |    |-- S_HOOD: string (nullable = true)\n",
      " |    |-- S_HOOD_ALT_NAMES: string (nullable = true)\n",
      " |    |-- Shape__Area: double (nullable = true)\n",
      " |    |-- Shape__Length: double (nullable = true)\n",
      " |-- type: string (nullable = true)\n",
      "\n"
     ]
    }
   ],
   "source": [
    "geojson_df.printSchema()"
   ]
  },
  {
   "cell_type": "code",
   "execution_count": 22,
   "id": "ed14f17c-1b0f-4e0f-803d-7f36a9c28027",
   "metadata": {},
   "outputs": [],
   "source": [
    "from pyspark.sql.functions import expr"
   ]
  },
  {
   "cell_type": "code",
   "execution_count": 23,
   "id": "d2afc400-efd2-4515-9771-5b32b4f31d5e",
   "metadata": {},
   "outputs": [],
   "source": [
    "geojson_df = (\n",
    "    sedona.read.format(\"geojson\").option(\"multiLine\", \"true\").load(geojson_path)\n",
    "    .selectExpr(\"explode(features) as features\")\n",
    "    .select(\"features.*\")\n",
    "    .withColumn(\"L_HOOD\", expr(\"properties['L_HOOD']\"))\n",
    "    .withColumn(\"OBJECTID\", expr(\"properties['OBJECTID']\"))\n",
    "    .withColumn(\"S_HOOD\", expr(\"properties['S_HOOD']\"))\n",
    "    .withColumn(\"S_HOOD_ALT_NAMES\", expr(\"properties['S_HOOD_ALT_NAMES']\"))\n",
    "    .drop(\"properties\").drop(\"type\")\n",
    ")"
   ]
  },
  {
   "cell_type": "code",
   "execution_count": 24,
   "id": "9bc5f191-d938-4d1b-be6b-ada722ddf2e4",
   "metadata": {},
   "outputs": [
    {
     "name": "stdout",
     "output_type": "stream",
     "text": [
      "root\n",
      " |-- geometry: geometry (nullable = true)\n",
      " |-- L_HOOD: string (nullable = true)\n",
      " |-- OBJECTID: long (nullable = true)\n",
      " |-- S_HOOD: string (nullable = true)\n",
      " |-- S_HOOD_ALT_NAMES: string (nullable = true)\n",
      "\n"
     ]
    }
   ],
   "source": [
    "geojson_df.printSchema()"
   ]
  },
  {
   "cell_type": "code",
   "execution_count": 25,
   "id": "ff5dabaa-6124-40da-b9be-759584f611f8",
   "metadata": {},
   "outputs": [
    {
     "data": {
      "text/plain": [
       "94"
      ]
     },
     "execution_count": 25,
     "metadata": {},
     "output_type": "execute_result"
    }
   ],
   "source": [
    "geojson_df.count()"
   ]
  },
  {
   "cell_type": "code",
   "execution_count": 26,
   "id": "36b9a74e-93a2-4a1c-99d7-0bfa5bafb134",
   "metadata": {},
   "outputs": [
    {
     "name": "stdout",
     "output_type": "stream",
     "text": [
      "+----------+---------+----------+--------------------+--------------------+---------------+-----------------+-----------------+-----------------+------+\n",
      "|table_name|data_type|identifier|         description|         last_change|          min_x|            min_y|            max_x|            max_y|srs_id|\n",
      "+----------+---------+----------+--------------------+--------------------+---------------+-----------------+-----------------+-----------------+------+\n",
      "|     parks| features| DPR.Parks|Locations of Seat...|2025-05-07 16:37:...|1244524.2382299|185216.9820538014|1292596.322203636|271529.3333788812|100000|\n",
      "+----------+---------+----------+--------------------+--------------------+---------------+-----------------+-----------------+-----------------+------+\n",
      "\n"
     ]
    }
   ],
   "source": [
    "df = (\n",
    "    sedona.read.format(\"geopackage\")\n",
    "    .option(\"showMetadata\", \"true\")\n",
    "    .load(\"data/parks.gpkg\")\n",
    ")\n",
    "df.show()"
   ]
  },
  {
   "cell_type": "code",
   "execution_count": 27,
   "id": "398079ec-a234-4821-be1e-f38b420b2b92",
   "metadata": {},
   "outputs": [
    {
     "name": "stdout",
     "output_type": "stream",
     "text": [
      "+---+--------------------+--------------------+--------------------+-----------------+----------+---------+----+-----+-----+-----+----+----------+--------+----------+-----------------+-----+----------+----------+----------+--------------------+\n",
      "|fid|                geom|                NAME|            PMA_NAME|          ADDRESS|       PIN|SUBPARCEL| PMA|OWNER|LEASE|MAINT|USE_|  ACQ_DATE|NAMEFLAG|REVIEW_DAT|           AMWOID| SDQL|SE_ANNO_CA|GIS_CRT_DT|GIS_EDT_DT|            GlobalID|\n",
      "+---+--------------------+--------------------+--------------------+-----------------+----------+---------+----+-----+-----+-----+----+----------+--------+----------+-----------------+-----+----------+----------+----------+--------------------+\n",
      "|  1|MULTIPOLYGON (((1...|                NULL|                NULL|             NULL|2489200285|    16822|4463|  SPU|    N|  SPU|NULL|1899-12-30|       0|2011-03-09|   PROPERTY-MYRES|QL-D3|      NULL|2025-05-07|2025-05-07|dc828a5f-e037-4a5...|\n",
      "|  2|MULTIPOLYGON (((1...|        OTHELLO PARK|        Othello Park|             NULL|0717000010|      182| 403|  DPR|    N|  DPR|  PG|2099-01-01|       9|2012-07-03|   PROPERTY-OTHPG|QL-D1|      NULL|2025-05-07|2025-05-07|54bd2a67-e162-41d...|\n",
      "|  3|MULTIPOLYGON (((1...|WEST DUWAMISH GRE...|West Duwamish Gre...|             NULL|7547300385|    16122| 282|  DPR|    N|  DPR|  GB|2001-10-19|       9|2002-06-18|PROPERTY-WDUWANDR|QL-D1|      NULL|2025-05-07|2025-05-07|5acc87aa-2c3f-46b...|\n",
      "|  4|MULTIPOLYGON (((1...|EAST DUWAMISH GRE...|East Duwamish GS:...|             NULL|3850900395|     1141| 283|  DPR|    N|  DPR|  GB|1994-12-19|       9|2004-03-31|   PROPERTY-EDUWI|QL-D1|      NULL|2025-05-07|2025-05-07|96c94a6e-c2fd-45e...|\n",
      "|  5|MULTIPOLYGON (((1...|  CASCADE PLAYGROUND|  Cascade Playground|333 PONTIUS AVE N|2467400335|     9853| 350|  DPR|    N|  DPR|  PK|1997-01-10|       9|1998-04-22|   PROPERTY-CASPG|QL-D1|      NULL|2025-05-07|2025-05-07|7052b63b-4fbf-48e...|\n",
      "|  6|MULTIPOLYGON (((1...|TWELFTH WEST AND ...|12th West & West ...|  1927 12th Ave W|2771602285|     3710| 281|  DPR|    N|  DPR|  GB|1995-09-05|       2|2004-03-30|  PROPERTY-12HOWE|QL-D1|      NULL|2025-05-07|2025-05-07|5cdef431-a0af-477...|\n",
      "|  7|MULTIPOLYGON (((1...|LAKE WASHINGTON B...|Lake Washington B...|             NULL|      NULL|     1506| 412|  DPR|    N|  SSD|  BV|1996-01-01|       9|2004-03-30|  PROPERTY-LKWBLN|QL-D1|      NULL|2025-05-07|2025-05-07|bdf780ca-f18e-4cd...|\n",
      "|  8|MULTIPOLYGON (((1...|WASHINGTON PARK A...|Washington Park a...|             NULL|2125049044|        0| 393|  DPR|    N|  DPR|  PK|1899-12-30|       9|2004-04-09|     PROPERTY-ARB|QL-D1|      NULL|2025-05-07|2025-05-07|4de9677f-5f73-4d6...|\n",
      "|  9|MULTIPOLYGON (((1...|DISCOVERY PARK TI...|Discovery Park Ti...|             NULL|7666200311|    20225|2952|  DNR|    Y|  DPR|  SP|1975-11-19|       9|1999-04-29|  PROPERTY-DPTIDE|QL-D1|      NULL|2025-05-07|2025-05-07|19fdb493-1bd1-4b1...|\n",
      "| 10|MULTIPOLYGON (((1...|        CARKEEK PARK|        Carkeek Park|             NULL|7474900065|    20578| 240|  DPR|    N|  DPR|  PK|1954-01-22|       9|2004-04-09|    PROPERTY-CKPK|QL-D1|      NULL|2025-05-07|2025-05-07|efd52512-d34e-4c4...|\n",
      "| 11|MULTIPOLYGON (((1...|        PIGEON POINT|        Pigeon Point| 4418 21st Ave SW|1324039078|     9818| 282|  DPR|    N|  DPR|  GB|1998-05-18|       2|1998-06-03|PROPERTY-WDUWANDR|QL-D1|      NULL|2025-05-07|2025-05-07|cd4fede4-978f-4d3...|\n",
      "| 12|MULTIPOLYGON (((1...|       ANDOVER PLACE|       Andover Place|             NULL|1563100015|      402|2927|  DPR|    N|  DPR|  PK|1949-08-20|       2|1998-05-28|  PROPERTY-ANDOPL|QL-D1|      NULL|2025-05-07|2025-05-07|14a39f1f-34d0-426...|\n",
      "| 13|MULTIPOLYGON (((1...|DUWAMISH HEAD GRE...|Duwamish Head Gre...|             NULL|9275701720|     9445| 451|  DPR|    N|  DPR|  GB|1993-12-06|       9|2004-04-01|   PROPERTY-DUWFM|QL-D1|      NULL|2025-05-07|2025-05-07|4b2fb6b8-5a07-473...|\n",
      "| 14|MULTIPOLYGON (((1...|MARTIN LUTHER KIN...|Martin Luther Kin...|             NULL|5393601540|    15520|3923|  DPR|    N|  DPR|  PK|1976-06-11|       9|2004-04-07|   PROPERTY-MLKPK|QL-D1|      NULL|2025-05-07|2025-05-07|a1fc82b5-7a35-4c3...|\n",
      "| 15|MULTIPOLYGON (((1...|     LANDING PARKWAY|     Landing Parkway| 4099 S Horton St|      NULL|     3858|3929|  DPR|    N|  DPR|  CS|2099-01-01|       2|2004-04-08|   PROPERTY-LNDPW|QL-D1|      NULL|2025-05-07|2025-05-07|cabc97cb-9c80-4c7...|\n",
      "| 16|MULTIPOLYGON (((1...| POWELL BARNETT PARK| Powell Barnett Park|             NULL|6840700825|     1516| 345|  DPR|    N|  DPR|  PK|2099-01-01|       2|1899-12-30|  PROPERTY-PBARPK|QL-D1|      NULL|2025-05-07|2025-05-07|28d407bd-b858-45f...|\n",
      "| 17|MULTIPOLYGON (((1...|WASHINGTON PARK -...|Washington Park -...|             NULL|2125049044|      657|4487|  DPR|    N|  DPR|  PK|2099-01-01|       9|2012-12-18|  PROPERTY-WAJGRD|QL-D1|      NULL|2025-05-07|2025-05-07|03bd108c-7024-41c...|\n",
      "| 18|MULTIPOLYGON (((1...|SW QUEEN ANNE GRE...|SW Queen Anne Gre...|             NULL|7705100055|     1728| 234|  DPR|    N|  DPR|  GB|1992-12-03|       9|2004-03-30| PROPERTY-SWQAGRB|QL-D1|      NULL|2025-05-07|2025-05-07|ecde76fe-4c5c-44f...|\n",
      "| 19|MULTIPOLYGON (((1...|DISCOVERY PARK TI...|Discovery Park Ti...|             NULL|7666200311|    20225|2952|  DNR|    Y|  DPR|  SP|1975-11-19|       9|1999-04-29|  PROPERTY-DPTIDE|QL-D1|      NULL|2025-05-07|2025-05-07|4e10ef34-1466-40e...|\n",
      "| 20|MULTIPOLYGON (((1...|  BURKE-GILMAN TRAIL|  Burke-Gilman Trail|             NULL|      NULL|        0| 476| SDOT|    N|  DPR|  TR|1899-12-30|       9|2007-07-31|    PROPERTY-BGTR|QL-D1|      NULL|2025-05-07|2025-05-07|60a7cd23-c4d3-4e4...|\n",
      "+---+--------------------+--------------------+--------------------+-----------------+----------+---------+----+-----+-----+-----+----+----------+--------+----------+-----------------+-----+----------+----------+----------+--------------------+\n",
      "only showing top 20 rows\n",
      "\n"
     ]
    }
   ],
   "source": [
    "df = (\n",
    "    sedona.read.format(\"geopackage\")\n",
    "    .option(\"tableName\", \"parks\")\n",
    "    .load(\"data/parks.gpkg\")\n",
    ")\n",
    "df.show()"
   ]
  },
  {
   "cell_type": "code",
   "execution_count": 28,
   "id": "8951375e-c35a-4a62-9ed2-2a7c5c1c2b33",
   "metadata": {},
   "outputs": [],
   "source": [
    "shapefile_path = 'data/parks/'\n",
    "shapefile_df = sedona.read.format(\"shapefile\").load(shapefile_path)"
   ]
  },
  {
   "cell_type": "code",
   "execution_count": 29,
   "id": "acf7dcd4-4665-454f-acd4-ee6f3bf94aa9",
   "metadata": {
    "scrolled": true
   },
   "outputs": [
    {
     "name": "stdout",
     "output_type": "stream",
     "text": [
      "+----+---------+------------+----------+----------+--------+------------+-----------+---------+----------------+-----------------+----+-----------+-------+--------------------+-----------+--------+-------+----------+---------+--------+----+------+----------+-----+-----------+---------+-------+----+---------+---------+---------+---------+---------+----+----+---------+-------------+------------+-------------+-------------+----------------+------------+----------+-------------+-------------+---------------+----------+---------+\n",
      "| _c0|      _c1|         _c2|       _c3|       _c4|     _c5|         _c6|        _c7|      _c8|             _c9|             _c10|_c11|       _c12|   _c13|                _c14|       _c15|    _c16|   _c17|      _c18|     _c19|    _c20|_c21|  _c22|      _c23| _c24|       _c25|     _c26|   _c27|_c28|     _c29|     _c30|     _c31|     _c32|     _c33|_c34|_c35|     _c36|         _c37|        _c38|         _c39|         _c40|            _c41|        _c42|      _c43|         _c44|         _c45|           _c46|      _c47|     _c48|\n",
      "+----+---------+------------+----------+----------+--------+------------+-----------+---------+----------------+-----------------+----+-----------+-------+--------------------+-----------+--------+-------+----------+---------+--------+----+------+----------+-----+-----------+---------+-------+----+---------+---------+---------+---------+---------+----+----+---------+-------------+------------+-------------+-------------+----------------+------------+----------+-------------+-------------+---------------+----------+---------+\n",
      "|NULL|  sale_id|        pinx| sale_date|sale_price|sale_nbr|sale_warning|join_status|join_year|        latitude|        longitude|area|       city| zoning|         subdivision|present_use|land_val|imp_val|year_built|year_reno|sqft_lot|sqft|sqft_1|sqft_fbsmt|grade|fbsmt_grade|condition|stories|beds|bath_full|bath_3qtr|bath_half|garb_sqft|gara_sqft|wfnt|golf|greenbelt|noise_traffic|view_rainier|view_olympics|view_cascades|view_territorial|view_skyline|view_sound|view_lakewash|view_lakesamm|view_otherwater|view_other|submarket|\n",
      "|   1|1999..144|..2734100475|1999-01-05|    150000|       1|            |       demo|     1999|47.5443593727551|-122.320786201295|  78|    SEATTLE|SF 5000|          GEORGETOWN|          2|   21000|  66000|      1900|        0|    4000|1410|   760|         0|    7|          0|        3|    1.5|   3|        1|        0|        0|        0|        0|   0|   0|        0|            2|           0|            0|            0|               0|           0|         0|            0|            0|              0|         0|        E|\n",
      "|   2|1999..258|..1535200725|1999-01-05|    235000|       1|            |       demo|     1999|47.4212473891173|-122.438138927639| 100|KING COUNTY| RA2.5P|CHAUTAUQUA BEACH ADD|          2|   46000| 132000|      1916|        0|    6695| 990|   990|         0|    6|          0|        4|      1|   2|        1|        0|        0|        0|        0|   0|   0|        0|            0|           0|            0|            0|               2|           0|         0|            0|            0|              0|         0|        H|\n",
      "+----+---------+------------+----------+----------+--------+------------+-----------+---------+----------------+-----------------+----+-----------+-------+--------------------+-----------+--------+-------+----------+---------+--------+----+------+----------+-----+-----------+---------+-------+----+---------+---------+---------+---------+---------+----+----+---------+-------------+------------+-------------+-------------+----------------+------------+----------+-------------+-------------+---------------+----------+---------+\n",
      "only showing top 3 rows\n",
      "\n"
     ]
    }
   ],
   "source": [
    "# CSV - https://www.kaggle.com/datasets/andykrause/kingcountysales\n",
    "csv_path = 'data/kingco_sales.csv'\n",
    "csv_df = sedona.read.format(\"csv\").load(csv_path)\n",
    "csv_df.show(3)"
   ]
  },
  {
   "cell_type": "code",
   "execution_count": 30,
   "id": "34666378-7b1a-4544-898d-3b57dd06fb04",
   "metadata": {
    "scrolled": true
   },
   "outputs": [
    {
     "name": "stderr",
     "output_type": "stream",
     "text": [
      "[Stage 33:>                                                       (0 + 11) / 11]\r"
     ]
    },
    {
     "name": "stdout",
     "output_type": "stream",
     "text": [
      "+---+---------+------------+----------+----------+--------+------------+-----------+---------+----------------+-----------------+----+-----------+-------+--------------------+-----------+--------+-------+----------+---------+--------+----+------+----------+-----+-----------+---------+-------+----+---------+---------+---------+---------+---------+----+----+---------+-------------+------------+-------------+-------------+----------------+------------+----------+-------------+-------------+---------------+----------+---------+\n",
      "|_c0|  sale_id|        pinx| sale_date|sale_price|sale_nbr|sale_warning|join_status|join_year|        latitude|        longitude|area|       city| zoning|         subdivision|present_use|land_val|imp_val|year_built|year_reno|sqft_lot|sqft|sqft_1|sqft_fbsmt|grade|fbsmt_grade|condition|stories|beds|bath_full|bath_3qtr|bath_half|garb_sqft|gara_sqft|wfnt|golf|greenbelt|noise_traffic|view_rainier|view_olympics|view_cascades|view_territorial|view_skyline|view_sound|view_lakewash|view_lakesamm|view_otherwater|view_other|submarket|\n",
      "+---+---------+------------+----------+----------+--------+------------+-----------+---------+----------------+-----------------+----+-----------+-------+--------------------+-----------+--------+-------+----------+---------+--------+----+------+----------+-----+-----------+---------+-------+----+---------+---------+---------+---------+---------+----+----+---------+-------------+------------+-------------+-------------+----------------+------------+----------+-------------+-------------+---------------+----------+---------+\n",
      "|  1|1999..144|..2734100475|1999-01-05|    150000|       1|            |       demo|     1999|47.5443593727551|-122.320786201295|  78|    SEATTLE|SF 5000|          GEORGETOWN|          2|   21000|  66000|      1900|        0|    4000|1410|   760|         0|    7|          0|        3|    1.5|   3|        1|        0|        0|        0|        0|   0|   0|        0|            2|           0|            0|            0|               0|           0|         0|            0|            0|              0|         0|        E|\n",
      "|  2|1999..258|..1535200725|1999-01-05|    235000|       1|            |       demo|     1999|47.4212473891173|-122.438138927639| 100|KING COUNTY| RA2.5P|CHAUTAUQUA BEACH ADD|          2|   46000| 132000|      1916|        0|    6695| 990|   990|         0|    6|          0|        4|    1.0|   2|        1|        0|        0|        0|        0|   0|   0|        0|            0|           0|            0|            0|               2|           0|         0|            0|            0|              0|         0|        H|\n",
      "|  3|1999..775|..1939800005|1999-01-07|    270000|       1|            |       demo|     1999|47.7644820229566|-122.208068734951|  38|    BOTHELL| R15 OP|DEGNEAUS HALF-ACR...|          2|   73000| 119000|      1924|        0|   13600|2050|  1300|         0|    7|          0|        5|    1.5|   5|        1|        0|        1|        0|        0|   0|   0|        0|            2|           0|            0|            0|               0|           0|         0|            0|            0|              0|         0|        Q|\n",
      "+---+---------+------------+----------+----------+--------+------------+-----------+---------+----------------+-----------------+----+-----------+-------+--------------------+-----------+--------+-------+----------+---------+--------+----+------+----------+-----+-----------+---------+-------+----+---------+---------+---------+---------+---------+----+----+---------+-------------+------------+-------------+-------------+----------------+------------+----------+-------------+-------------+---------------+----------+---------+\n",
      "only showing top 3 rows\n",
      "\n"
     ]
    },
    {
     "name": "stderr",
     "output_type": "stream",
     "text": [
      "                                                                                \r"
     ]
    }
   ],
   "source": [
    "# Read CSV with header and inferSchema\n",
    "csv_df = sedona.read.format(\"csv\") \\\n",
    "    .option(\"header\", \"true\") \\\n",
    "    .option(\"inferSchema\", \"true\") \\\n",
    "    .load(csv_path)\n",
    "\n",
    "csv_df.show(3)"
   ]
  },
  {
   "cell_type": "code",
   "execution_count": 31,
   "id": "e2136d07-3c56-4cd4-add7-333d659b5ca0",
   "metadata": {},
   "outputs": [],
   "source": [
    "from pyspark.sql.functions import col"
   ]
  },
  {
   "cell_type": "code",
   "execution_count": 32,
   "id": "67295e56-10df-46d7-977d-aff577632a72",
   "metadata": {},
   "outputs": [],
   "source": [
    "csv_df = csv_df.selectExpr(\n",
    "    \"*\", \"ST_Point(longitude, latitude) as geometry\")"
   ]
  },
  {
   "cell_type": "code",
   "execution_count": 33,
   "id": "6fa1e057-9c30-4a1e-b63c-41f8eff8c7f9",
   "metadata": {},
   "outputs": [
    {
     "name": "stdout",
     "output_type": "stream",
     "text": [
      "+---+---------+------------+----------+----------+--------+------------+-----------+---------+----------------+-----------------+----+-----------+-------+--------------------+-----------+--------+-------+----------+---------+--------+----+------+----------+-----+-----------+---------+-------+----+---------+---------+---------+---------+---------+----+----+---------+-------------+------------+-------------+-------------+----------------+------------+----------+-------------+-------------+---------------+----------+---------+--------------------+\n",
      "|_c0|  sale_id|        pinx| sale_date|sale_price|sale_nbr|sale_warning|join_status|join_year|        latitude|        longitude|area|       city| zoning|         subdivision|present_use|land_val|imp_val|year_built|year_reno|sqft_lot|sqft|sqft_1|sqft_fbsmt|grade|fbsmt_grade|condition|stories|beds|bath_full|bath_3qtr|bath_half|garb_sqft|gara_sqft|wfnt|golf|greenbelt|noise_traffic|view_rainier|view_olympics|view_cascades|view_territorial|view_skyline|view_sound|view_lakewash|view_lakesamm|view_otherwater|view_other|submarket|            geometry|\n",
      "+---+---------+------------+----------+----------+--------+------------+-----------+---------+----------------+-----------------+----+-----------+-------+--------------------+-----------+--------+-------+----------+---------+--------+----+------+----------+-----+-----------+---------+-------+----+---------+---------+---------+---------+---------+----+----+---------+-------------+------------+-------------+-------------+----------------+------------+----------+-------------+-------------+---------------+----------+---------+--------------------+\n",
      "|  1|1999..144|..2734100475|1999-01-05|    150000|       1|            |       demo|     1999|47.5443593727551|-122.320786201295|  78|    SEATTLE|SF 5000|          GEORGETOWN|          2|   21000|  66000|      1900|        0|    4000|1410|   760|         0|    7|          0|        3|    1.5|   3|        1|        0|        0|        0|        0|   0|   0|        0|            2|           0|            0|            0|               0|           0|         0|            0|            0|              0|         0|        E|POINT (-122.32078...|\n",
      "|  2|1999..258|..1535200725|1999-01-05|    235000|       1|            |       demo|     1999|47.4212473891173|-122.438138927639| 100|KING COUNTY| RA2.5P|CHAUTAUQUA BEACH ADD|          2|   46000| 132000|      1916|        0|    6695| 990|   990|         0|    6|          0|        4|    1.0|   2|        1|        0|        0|        0|        0|   0|   0|        0|            0|           0|            0|            0|               2|           0|         0|            0|            0|              0|         0|        H|POINT (-122.43813...|\n",
      "|  3|1999..775|..1939800005|1999-01-07|    270000|       1|            |       demo|     1999|47.7644820229566|-122.208068734951|  38|    BOTHELL| R15 OP|DEGNEAUS HALF-ACR...|          2|   73000| 119000|      1924|        0|   13600|2050|  1300|         0|    7|          0|        5|    1.5|   5|        1|        0|        1|        0|        0|   0|   0|        0|            2|           0|            0|            0|               0|           0|         0|            0|            0|              0|         0|        Q|POINT (-122.20806...|\n",
      "+---+---------+------------+----------+----------+--------+------------+-----------+---------+----------------+-----------------+----+-----------+-------+--------------------+-----------+--------+-------+----------+---------+--------+----+------+----------+-----+-----------+---------+-------+----+---------+---------+---------+---------+---------+----+----+---------+-------------+------------+-------------+-------------+----------------+------------+----------+-------------+-------------+---------------+----------+---------+--------------------+\n",
      "only showing top 3 rows\n",
      "\n"
     ]
    }
   ],
   "source": [
    "csv_df.show(3)"
   ]
  },
  {
   "cell_type": "code",
   "execution_count": 34,
   "id": "41cda82d-9062-4916-be62-505461a8b0b5",
   "metadata": {},
   "outputs": [
    {
     "data": {
      "text/plain": [
       "591513"
      ]
     },
     "execution_count": 34,
     "metadata": {},
     "output_type": "execute_result"
    }
   ],
   "source": [
    "csv_df.count()"
   ]
  },
  {
   "cell_type": "code",
   "execution_count": 35,
   "id": "f157b2cc-2ccb-4073-8ac6-399f0e236907",
   "metadata": {},
   "outputs": [
    {
     "name": "stdout",
     "output_type": "stream",
     "text": [
      "+--------+--------------+---------------------+--------------------+-------+-----------+\n",
      "|OBJECTID| artclass_desc|bike_network_category|            geometry|     id| stname_ord|\n",
      "+--------+--------------+---------------------+--------------------+-------+-----------+\n",
      "|     1.0|Not Designated| Proposed Bike+ - ...|LINESTRING (-122....|23677.0| E ALDER ST|\n",
      "|     2.0|Not Designated| Proposed Bike+ - ...|LINESTRING (-122....|20052.0| NE 55TH ST|\n",
      "|     3.0|Not Designated| Proposed Bike+ - ...|LINESTRING (-122....| 5667.0|23RD AVE NW|\n",
      "+--------+--------------+---------------------+--------------------+-------+-----------+\n",
      "only showing top 3 rows\n",
      "\n"
     ]
    }
   ],
   "source": [
    "# GeoParquet\n",
    "geoparquet_path = 'data/Seattle_Transportation_Plan_Bicycle_Element_829016546957421557.parquet'\n",
    "geoparquet_df = sedona.read.format(\"geoparquet\").load(geoparquet_path)\n",
    "geoparquet_df.show(3)"
   ]
  },
  {
   "cell_type": "code",
   "execution_count": 36,
   "id": "929343a0-507b-48ca-9be7-21d01766e3ee",
   "metadata": {},
   "outputs": [
    {
     "name": "stdout",
     "output_type": "stream",
     "text": [
      "+-----------------+\n",
      "|st_srid(geometry)|\n",
      "+-----------------+\n",
      "|                0|\n",
      "+-----------------+\n",
      "only showing top 1 row\n",
      "\n"
     ]
    }
   ],
   "source": [
    "geoparquet_df.selectExpr('ST_SRID(geometry)').show(1)"
   ]
  },
  {
   "cell_type": "code",
   "execution_count": 37,
   "id": "fa7bca40-a174-41cf-8e5c-cb1f8ba35f3b",
   "metadata": {},
   "outputs": [
    {
     "name": "stdout",
     "output_type": "stream",
     "text": [
      "+--------------------------------------------+\n",
      "|st_transform(geometry, EPSG:2926, EPSG:4326)|\n",
      "+--------------------------------------------+\n",
      "|                        LINESTRING (-127....|\n",
      "+--------------------------------------------+\n",
      "only showing top 1 row\n",
      "\n"
     ]
    }
   ],
   "source": [
    "geoparquet_df.selectExpr('''ST_Transform(geometry, 'EPSG:2926', 'EPSG:4326')''').show(1)"
   ]
  },
  {
   "cell_type": "code",
   "execution_count": 38,
   "id": "9d1030f6-fd2a-40f1-a2fe-f080b9568fa6",
   "metadata": {
    "scrolled": true
   },
   "outputs": [
    {
     "name": "stdout",
     "output_type": "stream",
     "text": [
      "+----------------+-----------------+--------+-------------------+------+--------------------+------+--------------+---------+--------------+------+-----------+-------+\n",
      "|        Latitude|        Longitude|OBJECTID|            address|esmshs|            geometry|grades|      mapLabel|school_ID|   school_name|siteID|     status|    zip|\n",
      "+----------------+-----------------+--------+-------------------+------+--------------------+------+--------------+---------+--------------+------+-----------+-------+\n",
      "| 47.709950686514|-122.293023646655|     1.0| 11051 34th Ave. NE|    MS|POINT (-122.29300...|   6-8|   Jane Addams|    106.0|Jane Addams MS| 106.0|         MS|98125.0|\n",
      "|47.7134360540258|-122.314672965205|     2.0| 11530 12th Ave. NE|    ES|POINT (-122.31465...|   K-8|Hazel Wolf K-8|    292.0|Hazel Wolf K-8| 263.0|Option ELEM|98125.0|\n",
      "|47.4988691374883|-122.263186633228|     3.0|11650 Beacon Ave. S|    ES|POINT (-122.26317...|   K-5|  Rainier View|    264.0|  Rainier View| 264.0|       ELEM|98178.0|\n",
      "+----------------+-----------------+--------+-------------------+------+--------------------+------+--------------+---------+--------------+------+-----------+-------+\n",
      "only showing top 3 rows\n",
      "\n"
     ]
    }
   ],
   "source": [
    "# GeoParquet\n",
    "geoparquet_schools_path = 'data/Seattle_Public_Schools_Sites_2023-2024.parquet'\n",
    "geoparquet_schools_df = sedona.read.format(\"geoparquet\").load(geoparquet_schools_path)\n",
    "geoparquet_schools_df.show(3)"
   ]
  },
  {
   "cell_type": "markdown",
   "id": "fe4aff0e-2d1e-4664-8680-c3d814316e41",
   "metadata": {
    "jp-MarkdownHeadingCollapsed": true
   },
   "source": [
    "# Part 3: Loading Raster Data"
   ]
  },
  {
   "cell_type": "code",
   "execution_count": 3,
   "id": "49da7f6a-b3b6-45f5-856f-f75d9359a957",
   "metadata": {},
   "outputs": [
    {
     "name": "stderr",
     "output_type": "stream",
     "text": [
      "[Stage 3:>                                                          (0 + 1) / 1]\r"
     ]
    },
    {
     "name": "stdout",
     "output_type": "stream",
     "text": [
      "+--------------------+--------------------+-------+--------------------+\n",
      "|                path|    modificationTime| length|             content|\n",
      "+--------------------+--------------------+-------+--------------------+\n",
      "|file:/Users/mattf...|2025-05-22 11:10:...|3499588|[43 44 46 01 00 0...|\n",
      "+--------------------+--------------------+-------+--------------------+\n",
      "\n"
     ]
    },
    {
     "name": "stderr",
     "output_type": "stream",
     "text": [
      "                                                                                \r"
     ]
    }
   ],
   "source": [
    "netcdf_file = \"data/pdsi_current_PRISM.nc\"\n",
    "netcdf_df = sedona.read.format(\"binaryFile\").load(netcdf_file)\n",
    "netcdf_df.show()"
   ]
  },
  {
   "cell_type": "code",
   "execution_count": 4,
   "id": "4745bd8c-db41-4575-9c2a-da2eb5510ad6",
   "metadata": {},
   "outputs": [],
   "source": [
    "import pyspark.sql.functions as f"
   ]
  },
  {
   "cell_type": "code",
   "execution_count": 5,
   "id": "7a1fc773-25d2-45aa-bc3c-38f9961f240f",
   "metadata": {},
   "outputs": [
    {
     "data": {
      "text/plain": [
       "DataFrame[path: string, modificationTime: timestamp, length: bigint, content: binary]"
      ]
     },
     "execution_count": 5,
     "metadata": {},
     "output_type": "execute_result"
    }
   ],
   "source": [
    "netcdf_df.repartition(8)"
   ]
  },
  {
   "cell_type": "code",
   "execution_count": 6,
   "id": "9ebab680-8b87-48db-a44a-b1b09f2901e3",
   "metadata": {},
   "outputs": [],
   "source": [
    "netcdf_df = netcdf_df.withColumn(\"raster\", f.expr(\"RS_FromNetCDF(content, 'data', 'longitude', 'latitude')\"))"
   ]
  },
  {
   "cell_type": "code",
   "execution_count": 7,
   "id": "0cfdc718-921f-45a6-b8bc-c52f24b2af2c",
   "metadata": {
    "scrolled": true
   },
   "outputs": [
    {
     "name": "stderr",
     "output_type": "stream",
     "text": [
      "                                                                                \r"
     ]
    },
    {
     "name": "stdout",
     "output_type": "stream",
     "text": [
      "+--------------------+--------------------+-------+--------------------+--------------------+\n",
      "|                path|    modificationTime| length|             content|              raster|\n",
      "+--------------------+--------------------+-------+--------------------+--------------------+\n",
      "|file:/Users/mattf...|2025-05-22 11:10:...|3499588|[43 44 46 01 00 0...|GridCoverage2D[\"g...|\n",
      "+--------------------+--------------------+-------+--------------------+--------------------+\n",
      "\n"
     ]
    }
   ],
   "source": [
    "netcdf_df.show()"
   ]
  },
  {
   "cell_type": "code",
   "execution_count": 8,
   "id": "d6c08f9f-d0e6-4e96-a31f-566273c534f6",
   "metadata": {},
   "outputs": [],
   "source": [
    "# https://radiantearth.github.io/stac-browser/#/external/earth-search.aws.element84.com/v1/collections/sentinel-2-l2a/items/S2A_10TET_20250423_0_L2A?.asset=asset-nir"
   ]
  },
  {
   "cell_type": "markdown",
   "id": "2f471ac4-32c8-4281-97e9-f9fee64ddec9",
   "metadata": {},
   "source": [
    "## GeoTIFF"
   ]
  },
  {
   "cell_type": "code",
   "execution_count": 9,
   "id": "5ac942d5-80eb-4dac-8ea2-ffdacf2f78bd",
   "metadata": {},
   "outputs": [],
   "source": [
    "# https://browser.apex.esa.int/external/eoresults.esa.int/stac/collections/ESA_WORLDCOVER_10M_2021_V2/items/ESA_WorldCover_10m_2021_v200_N45W123?.asset=asset-esa_worldcover_10m_map"
   ]
  },
  {
   "cell_type": "code",
   "execution_count": 19,
   "id": "a8b313fa-1699-41f6-9152-2aa9a1407754",
   "metadata": {},
   "outputs": [],
   "source": [
    "raster_df = sedona.read.format(\"binaryFile\") \\\n",
    "    .load(\"data/ESA_WorldCover_10m_2021_v200_N45W123_Map.tif\")"
   ]
  },
  {
   "cell_type": "code",
   "execution_count": 20,
   "id": "5ce702f9-18cc-480e-aada-e98338c14b52",
   "metadata": {},
   "outputs": [],
   "source": [
    "raster_df = raster_df.withColumn(\"raster\", f.expr(\"RS_FromGeoTiff(content)\"))"
   ]
  },
  {
   "cell_type": "code",
   "execution_count": 12,
   "id": "8a94b43a-4c16-4135-8f47-bba5a575a197",
   "metadata": {},
   "outputs": [],
   "source": [
    "# raster_df.show()"
   ]
  },
  {
   "cell_type": "code",
   "execution_count": 13,
   "id": "01859ec4-c29f-46f7-bd96-67d3cafc2019",
   "metadata": {},
   "outputs": [
    {
     "data": {
      "text/plain": [
       "DataFrame[path: string, modificationTime: timestamp, length: bigint, content: binary, raster: udt]"
      ]
     },
     "execution_count": 13,
     "metadata": {},
     "output_type": "execute_result"
    }
   ],
   "source": [
    "raster_df.repartition(8)"
   ]
  },
  {
   "cell_type": "code",
   "execution_count": 14,
   "id": "7d7ec5d3-6a9c-4326-b6e4-3d0583be798b",
   "metadata": {
    "scrolled": true
   },
   "outputs": [
    {
     "name": "stderr",
     "output_type": "stream",
     "text": [
      "[Stage 5:>                                                          (0 + 1) / 1]\r"
     ]
    },
    {
     "name": "stdout",
     "output_type": "stream",
     "text": [
      "+---+---+--------------------+\n",
      "|  x|  y|              raster|\n",
      "+---+---+--------------------+\n",
      "|  0|  0|GridCoverage2D[\"g...|\n",
      "|  1|  0|GridCoverage2D[\"g...|\n",
      "|  2|  0|GridCoverage2D[\"g...|\n",
      "|  3|  0|GridCoverage2D[\"g...|\n",
      "|  4|  0|GridCoverage2D[\"g...|\n",
      "|  5|  0|GridCoverage2D[\"g...|\n",
      "|  6|  0|GridCoverage2D[\"g...|\n",
      "|  7|  0|GridCoverage2D[\"g...|\n",
      "|  8|  0|GridCoverage2D[\"g...|\n",
      "|  9|  0|GridCoverage2D[\"g...|\n",
      "| 10|  0|GridCoverage2D[\"g...|\n",
      "| 11|  0|GridCoverage2D[\"g...|\n",
      "| 12|  0|GridCoverage2D[\"g...|\n",
      "| 13|  0|GridCoverage2D[\"g...|\n",
      "| 14|  0|GridCoverage2D[\"g...|\n",
      "| 15|  0|GridCoverage2D[\"g...|\n",
      "| 16|  0|GridCoverage2D[\"g...|\n",
      "| 17|  0|GridCoverage2D[\"g...|\n",
      "| 18|  0|GridCoverage2D[\"g...|\n",
      "| 19|  0|GridCoverage2D[\"g...|\n",
      "+---+---+--------------------+\n",
      "only showing top 20 rows\n",
      "\n"
     ]
    },
    {
     "name": "stderr",
     "output_type": "stream",
     "text": [
      "                                                                                \r"
     ]
    }
   ],
   "source": [
    "raster_df.selectExpr(\"RS_TileExplode(raster, 256, 256) as (x, y, raster)\").show()"
   ]
  },
  {
   "cell_type": "markdown",
   "id": "0839e1e4-ee7b-4b4a-be7d-68ecd48b8167",
   "metadata": {
    "jp-MarkdownHeadingCollapsed": true
   },
   "source": [
    "# Part 4: PySpark and SparkSQL"
   ]
  },
  {
   "cell_type": "code",
   "execution_count": 49,
   "id": "800c3d76-79cc-4c28-85db-ef9b2b20867d",
   "metadata": {},
   "outputs": [
    {
     "name": "stdout",
     "output_type": "stream",
     "text": [
      "root\n",
      " |-- geometry: geometry (nullable = true)\n",
      " |-- NAME: string (nullable = true)\n",
      " |-- PMA_NAME: string (nullable = true)\n",
      " |-- ADDRESS: string (nullable = true)\n",
      " |-- PIN: string (nullable = true)\n",
      " |-- SUBPARCEL: long (nullable = true)\n",
      " |-- PMA: long (nullable = true)\n",
      " |-- OWNER: string (nullable = true)\n",
      " |-- LEASE: string (nullable = true)\n",
      " |-- MAINT: string (nullable = true)\n",
      " |-- USE_: string (nullable = true)\n",
      " |-- ACQ_DATE: date (nullable = true)\n",
      " |-- NAMEFLAG: long (nullable = true)\n",
      " |-- REVIEW_DAT: date (nullable = true)\n",
      " |-- AMWOID: string (nullable = true)\n",
      " |-- SDQL: string (nullable = true)\n",
      " |-- SE_ANNO_CA: string (nullable = true)\n",
      " |-- GIS_CRT_DT: date (nullable = true)\n",
      " |-- GIS_EDT_DT: date (nullable = true)\n",
      " |-- GlobalID: string (nullable = true)\n",
      "\n"
     ]
    }
   ],
   "source": [
    "shapefile_df.printSchema()"
   ]
  },
  {
   "cell_type": "code",
   "execution_count": 50,
   "id": "e27354b3-0478-4b6c-ad35-4c70fc3231a4",
   "metadata": {},
   "outputs": [
    {
     "name": "stdout",
     "output_type": "stream",
     "text": [
      "root\n",
      " |-- _c0: integer (nullable = true)\n",
      " |-- sale_id: string (nullable = true)\n",
      " |-- pinx: string (nullable = true)\n",
      " |-- sale_date: date (nullable = true)\n",
      " |-- sale_price: integer (nullable = true)\n",
      " |-- sale_nbr: string (nullable = true)\n",
      " |-- sale_warning: string (nullable = true)\n",
      " |-- join_status: string (nullable = true)\n",
      " |-- join_year: integer (nullable = true)\n",
      " |-- latitude: double (nullable = true)\n",
      " |-- longitude: double (nullable = true)\n",
      " |-- area: integer (nullable = true)\n",
      " |-- city: string (nullable = true)\n",
      " |-- zoning: string (nullable = true)\n",
      " |-- subdivision: string (nullable = true)\n",
      " |-- present_use: integer (nullable = true)\n",
      " |-- land_val: integer (nullable = true)\n",
      " |-- imp_val: integer (nullable = true)\n",
      " |-- year_built: integer (nullable = true)\n",
      " |-- year_reno: integer (nullable = true)\n",
      " |-- sqft_lot: integer (nullable = true)\n",
      " |-- sqft: integer (nullable = true)\n",
      " |-- sqft_1: integer (nullable = true)\n",
      " |-- sqft_fbsmt: integer (nullable = true)\n",
      " |-- grade: integer (nullable = true)\n",
      " |-- fbsmt_grade: integer (nullable = true)\n",
      " |-- condition: integer (nullable = true)\n",
      " |-- stories: double (nullable = true)\n",
      " |-- beds: integer (nullable = true)\n",
      " |-- bath_full: integer (nullable = true)\n",
      " |-- bath_3qtr: integer (nullable = true)\n",
      " |-- bath_half: integer (nullable = true)\n",
      " |-- garb_sqft: integer (nullable = true)\n",
      " |-- gara_sqft: integer (nullable = true)\n",
      " |-- wfnt: integer (nullable = true)\n",
      " |-- golf: integer (nullable = true)\n",
      " |-- greenbelt: integer (nullable = true)\n",
      " |-- noise_traffic: integer (nullable = true)\n",
      " |-- view_rainier: integer (nullable = true)\n",
      " |-- view_olympics: integer (nullable = true)\n",
      " |-- view_cascades: integer (nullable = true)\n",
      " |-- view_territorial: integer (nullable = true)\n",
      " |-- view_skyline: integer (nullable = true)\n",
      " |-- view_sound: integer (nullable = true)\n",
      " |-- view_lakewash: integer (nullable = true)\n",
      " |-- view_lakesamm: integer (nullable = true)\n",
      " |-- view_otherwater: integer (nullable = true)\n",
      " |-- view_other: integer (nullable = true)\n",
      " |-- submarket: string (nullable = true)\n",
      " |-- geometry: geometry (nullable = true)\n",
      "\n"
     ]
    }
   ],
   "source": [
    "csv_df.printSchema()"
   ]
  },
  {
   "cell_type": "code",
   "execution_count": 51,
   "id": "3784ef73-7df9-483f-97a4-2f055517df5e",
   "metadata": {},
   "outputs": [
    {
     "name": "stderr",
     "output_type": "stream",
     "text": [
      "                                                                                \r"
     ]
    },
    {
     "data": {
      "text/plain": [
       "Row(st_srid(geometry)=0)"
      ]
     },
     "execution_count": 51,
     "metadata": {},
     "output_type": "execute_result"
    }
   ],
   "source": [
    "shapefile_df.selectExpr('ST_SRID(geometry)').first()"
   ]
  },
  {
   "cell_type": "code",
   "execution_count": 52,
   "id": "933e1d50-3b00-4da3-b237-a2cd300c7d27",
   "metadata": {},
   "outputs": [
    {
     "data": {
      "text/plain": [
       "Row(st_srid(geometry)=0)"
      ]
     },
     "execution_count": 52,
     "metadata": {},
     "output_type": "execute_result"
    }
   ],
   "source": [
    "csv_df.selectExpr('ST_SRID(geometry)').first()"
   ]
  },
  {
   "cell_type": "code",
   "execution_count": 53,
   "id": "6fe84b64-7cd0-4753-a6b4-1bb0aa9b6300",
   "metadata": {},
   "outputs": [],
   "source": [
    "shapefile_df.createOrReplaceTempView(\"polygons\")\n",
    "csv_df.createOrReplaceTempView(\"points\")"
   ]
  },
  {
   "cell_type": "code",
   "execution_count": 54,
   "id": "103d7dc5-04f3-47bc-bd0b-8d2695621788",
   "metadata": {},
   "outputs": [
    {
     "name": "stderr",
     "output_type": "stream",
     "text": [
      "[Stage 52:==================================================>     (10 + 1) / 11]\r"
     ]
    },
    {
     "name": "stdout",
     "output_type": "stream",
     "text": [
      "CPU times: user 6.77 ms, sys: 9 ms, total: 15.8 ms\n",
      "Wall time: 10 s\n"
     ]
    },
    {
     "name": "stderr",
     "output_type": "stream",
     "text": [
      "                                                                                \r"
     ]
    },
    {
     "data": {
      "text/plain": [
       "10048"
      ]
     },
     "execution_count": 54,
     "metadata": {},
     "output_type": "execute_result"
    }
   ],
   "source": [
    "%%time\n",
    "sedona.sql(\"\"\"\n",
    "    SELECT p.sale_id AS point_id, poly.NAME AS park_name\n",
    "    FROM points p\n",
    "    JOIN polygons poly\n",
    "    ON ST_DWithin(\n",
    "        ST_Transform(poly.geometry, 'EPSG:2926', 'EPSG:26910'), \n",
    "        ST_Transform(p.geometry, 'EPSG:4326', 'EPSG:26910'), \n",
    "    30)\n",
    "\"\"\").count()"
   ]
  },
  {
   "cell_type": "code",
   "execution_count": 55,
   "id": "7dccb2cd-1736-4aa7-88be-e6027f8427c9",
   "metadata": {},
   "outputs": [
    {
     "name": "stderr",
     "output_type": "stream",
     "text": [
      "                                                                                \r"
     ]
    },
    {
     "data": {
      "text/plain": [
       "10048"
      ]
     },
     "execution_count": 55,
     "metadata": {},
     "output_type": "execute_result"
    }
   ],
   "source": [
    "from pyspark.sql.functions import expr\n",
    "\n",
    "# Transform geometries to EPSG:26910 (UTM zone), then apply ST_DWithin\n",
    "transformed_points = csv_df.withColumn(\n",
    "    \"geom_utm\", expr(\"ST_Transform(geometry, 'EPSG:4326', 'EPSG:26910')\")\n",
    ")\n",
    "\n",
    "transformed_polygons = shapefile_df.withColumn(\n",
    "    \"geom_utm\", expr(\"ST_Transform(geometry, 'EPSG:2926', 'EPSG:26910')\")\n",
    ")\n",
    "\n",
    "# Perform spatial join using ST_DWithin\n",
    "joined_df = transformed_points.alias(\"p\").join(\n",
    "    transformed_polygons.alias(\"poly\"),\n",
    "    expr(\"ST_DWithin(poly.geom_utm, p.geom_utm, 30)\")\n",
    ")\n",
    "\n",
    "# Count matching pairs\n",
    "joined_df.count()"
   ]
  },
  {
   "cell_type": "markdown",
   "id": "7b1dc16a-a9e8-431e-8016-8534e082218c",
   "metadata": {
    "jp-MarkdownHeadingCollapsed": true
   },
   "source": [
    "# Part 5: DataFrame Operations"
   ]
  },
  {
   "cell_type": "code",
   "execution_count": 65,
   "id": "3c7f267d-72cf-4db0-b135-f1a2ea005224",
   "metadata": {},
   "outputs": [
    {
     "name": "stdout",
     "output_type": "stream",
     "text": [
      "+---+----------+------------+----------+----------+--------+------------+-----------+---------+----------------+-----------------+----+-----------+-------+---------------------------------+-----------+--------+-------+----------+---------+--------+----+------+----------+-----+-----------+---------+-------+----+---------+---------+---------+---------+---------+----+----+---------+-------------+------------+-------------+-------------+----------------+------------+----------+-------------+-------------+---------------+----------+---------+------------------------------------------+\n",
      "|_c0|sale_id   |pinx        |sale_date |sale_price|sale_nbr|sale_warning|join_status|join_year|latitude        |longitude        |area|city       |zoning |subdivision                      |present_use|land_val|imp_val|year_built|year_reno|sqft_lot|sqft|sqft_1|sqft_fbsmt|grade|fbsmt_grade|condition|stories|beds|bath_full|bath_3qtr|bath_half|garb_sqft|gara_sqft|wfnt|golf|greenbelt|noise_traffic|view_rainier|view_olympics|view_cascades|view_territorial|view_skyline|view_sound|view_lakewash|view_lakesamm|view_otherwater|view_other|submarket|geometry                                  |\n",
      "+---+----------+------------+----------+----------+--------+------------+-----------+---------+----------------+-----------------+----+-----------+-------+---------------------------------+-----------+--------+-------+----------+---------+--------+----+------+----------+-----+-----------+---------+-------+----+---------+---------+---------+---------+---------+----+----+---------+-------------+------------+-------------+-------------+----------------+------------+----------+-------------+-------------+---------------+----------+---------+------------------------------------------+\n",
      "|1  |1999..144 |..2734100475|1999-01-05|150000    |1       |            |demo       |1999     |47.5443593727551|-122.320786201295|78  |SEATTLE    |SF 5000|GEORGETOWN                       |2          |21000   |66000  |1900      |0        |4000    |1410|760   |0         |7    |0          |3        |1.5    |3   |1        |0        |0        |0        |0        |0   |0   |0        |2            |0           |0            |0            |0               |0           |0         |0            |0            |0              |0         |E        |POINT (-122.320786201295 47.5443593727551)|\n",
      "|2  |1999..258 |..1535200725|1999-01-05|235000    |1       |            |demo       |1999     |47.4212473891173|-122.438138927639|100 |KING COUNTY|RA2.5P |CHAUTAUQUA BEACH ADD             |2          |46000   |132000 |1916      |0        |6695    |990 |990   |0         |6    |0          |4        |1.0    |2   |1        |0        |0        |0        |0        |0   |0   |0        |0            |0           |0            |0            |2               |0           |0         |0            |0            |0              |0         |H        |POINT (-122.438138927639 47.4212473891173)|\n",
      "|3  |1999..775 |..1939800005|1999-01-07|270000    |1       |            |demo       |1999     |47.7644820229566|-122.208068734951|38  |BOTHELL    |R15 OP |DEGNEAUS HALF-ACRE TRS           |2          |73000   |119000 |1924      |0        |13600   |2050|1300  |0         |7    |0          |5        |1.5    |5   |1        |0        |1        |0        |0        |0   |0   |0        |2            |0           |0            |0            |0               |0           |0         |0            |0            |0              |0         |Q        |POINT (-122.208068734951 47.7644820229566)|\n",
      "|4  |1999..957 |..5210200060|1999-01-15|184250    |1       |            |demo       |1999     |47.697657086879 |-122.284404441544|8   |SEATTLE    |SF 7200|MATTHEWS SAND POINT GARDEN TRACTS|2          |84000   |75000  |1920      |0        |7200    |790 |790   |0         |7    |0          |3        |1.0    |2   |1        |0        |0        |0        |0        |0   |0   |0        |1            |0           |0            |0            |0               |0           |0         |0            |0            |0              |0         |C        |POINT (-122.284404441544 47.697657086879) |\n",
      "|5  |1999..1155|..3438501120|1999-01-19|175000    |1       |            |demo       |1999     |47.5495253962212|-122.360245400591|18  |SEATTLE    |SF 5000|HOMECROFT ADD                    |2          |35000   |122000 |1955      |0        |12554   |2160|1440  |720       |6    |6          |3        |1.0    |4   |1        |1        |1        |0        |0        |0   |0   |0        |0            |0           |0            |0            |0               |0           |0         |0            |0            |0              |0         |F        |POINT (-122.360245400591 47.5495253962212)|\n",
      "+---+----------+------------+----------+----------+--------+------------+-----------+---------+----------------+-----------------+----+-----------+-------+---------------------------------+-----------+--------+-------+----------+---------+--------+----+------+----------+-----+-----------+---------+-------+----+---------+---------+---------+---------+---------+----+----+---------+-------------+------------+-------------+-------------+----------------+------------+----------+-------------+-------------+---------------+----------+---------+------------------------------------------+\n",
      "only showing top 5 rows\n",
      "\n"
     ]
    }
   ],
   "source": [
    "csv_df.show(5, truncate=False)"
   ]
  },
  {
   "cell_type": "code",
   "execution_count": 66,
   "id": "8b769222-9e96-48fa-aba9-ad851e262acd",
   "metadata": {},
   "outputs": [
    {
     "name": "stdout",
     "output_type": "stream",
     "text": [
      "root\n",
      " |-- _c0: integer (nullable = true)\n",
      " |-- sale_id: string (nullable = true)\n",
      " |-- pinx: string (nullable = true)\n",
      " |-- sale_date: date (nullable = true)\n",
      " |-- sale_price: integer (nullable = true)\n",
      " |-- sale_nbr: string (nullable = true)\n",
      " |-- sale_warning: string (nullable = true)\n",
      " |-- join_status: string (nullable = true)\n",
      " |-- join_year: integer (nullable = true)\n",
      " |-- latitude: double (nullable = true)\n",
      " |-- longitude: double (nullable = true)\n",
      " |-- area: integer (nullable = true)\n",
      " |-- city: string (nullable = true)\n",
      " |-- zoning: string (nullable = true)\n",
      " |-- subdivision: string (nullable = true)\n",
      " |-- present_use: integer (nullable = true)\n",
      " |-- land_val: integer (nullable = true)\n",
      " |-- imp_val: integer (nullable = true)\n",
      " |-- year_built: integer (nullable = true)\n",
      " |-- year_reno: integer (nullable = true)\n",
      " |-- sqft_lot: integer (nullable = true)\n",
      " |-- sqft: integer (nullable = true)\n",
      " |-- sqft_1: integer (nullable = true)\n",
      " |-- sqft_fbsmt: integer (nullable = true)\n",
      " |-- grade: integer (nullable = true)\n",
      " |-- fbsmt_grade: integer (nullable = true)\n",
      " |-- condition: integer (nullable = true)\n",
      " |-- stories: double (nullable = true)\n",
      " |-- beds: integer (nullable = true)\n",
      " |-- bath_full: integer (nullable = true)\n",
      " |-- bath_3qtr: integer (nullable = true)\n",
      " |-- bath_half: integer (nullable = true)\n",
      " |-- garb_sqft: integer (nullable = true)\n",
      " |-- gara_sqft: integer (nullable = true)\n",
      " |-- wfnt: integer (nullable = true)\n",
      " |-- golf: integer (nullable = true)\n",
      " |-- greenbelt: integer (nullable = true)\n",
      " |-- noise_traffic: integer (nullable = true)\n",
      " |-- view_rainier: integer (nullable = true)\n",
      " |-- view_olympics: integer (nullable = true)\n",
      " |-- view_cascades: integer (nullable = true)\n",
      " |-- view_territorial: integer (nullable = true)\n",
      " |-- view_skyline: integer (nullable = true)\n",
      " |-- view_sound: integer (nullable = true)\n",
      " |-- view_lakewash: integer (nullable = true)\n",
      " |-- view_lakesamm: integer (nullable = true)\n",
      " |-- view_otherwater: integer (nullable = true)\n",
      " |-- view_other: integer (nullable = true)\n",
      " |-- submarket: string (nullable = true)\n",
      " |-- geometry: geometry (nullable = true)\n",
      "\n"
     ]
    }
   ],
   "source": [
    "csv_df.printSchema()"
   ]
  },
  {
   "cell_type": "code",
   "execution_count": 67,
   "id": "df0d804a-2b70-472c-82d8-0b142c723964",
   "metadata": {},
   "outputs": [
    {
     "name": "stdout",
     "output_type": "stream",
     "text": [
      "+----------+----------+\n",
      "|   sale_id|sale_price|\n",
      "+----------+----------+\n",
      "| 1999..144|    150000|\n",
      "| 1999..258|    235000|\n",
      "| 1999..775|    270000|\n",
      "| 1999..957|    184250|\n",
      "|1999..1155|    175000|\n",
      "|1999..1267|    359850|\n",
      "|1999..1335|    105000|\n",
      "|1999..1354|    160000|\n",
      "|1999..1424|    135000|\n",
      "|1999..1464|    400000|\n",
      "|1999..1760|    270000|\n",
      "|1999..1809|    155000|\n",
      "|1999..1862|    213000|\n",
      "|1999..1948|    180000|\n",
      "|1999..2096|    166000|\n",
      "|1999..2544|    173500|\n",
      "|1999..2609|    285000|\n",
      "|1999..2667|    285000|\n",
      "|1999..2673|    106000|\n",
      "|1999..3089|     93650|\n",
      "+----------+----------+\n",
      "only showing top 20 rows\n",
      "\n"
     ]
    }
   ],
   "source": [
    "csv_df.select(\"sale_id\", \"sale_price\").show()"
   ]
  },
  {
   "cell_type": "code",
   "execution_count": 68,
   "id": "3a82efe0-3494-4137-b635-1c57d96dab6b",
   "metadata": {},
   "outputs": [
    {
     "data": {
      "text/plain": [
       "591513"
      ]
     },
     "execution_count": 68,
     "metadata": {},
     "output_type": "execute_result"
    }
   ],
   "source": [
    "csv_df.count()"
   ]
  },
  {
   "cell_type": "code",
   "execution_count": 69,
   "id": "7905a273-a817-457c-9905-abafc3496656",
   "metadata": {},
   "outputs": [],
   "source": [
    "points_df = csv_df.select(\"sale_id\", \"sale_price\")"
   ]
  },
  {
   "cell_type": "code",
   "execution_count": 70,
   "id": "5142dcfb-c090-435c-8e07-221aa3d55de8",
   "metadata": {},
   "outputs": [
    {
     "data": {
      "text/plain": [
       "Row(sale_id='1999..144', sale_price=150000)"
      ]
     },
     "execution_count": 70,
     "metadata": {},
     "output_type": "execute_result"
    }
   ],
   "source": [
    "points_df.first()"
   ]
  },
  {
   "cell_type": "code",
   "execution_count": 71,
   "id": "cd583343-88bf-473b-8b69-918450fc8a48",
   "metadata": {},
   "outputs": [],
   "source": [
    "points_df = csv_df.select(\"sale_id\", \"sale_price\")"
   ]
  },
  {
   "cell_type": "code",
   "execution_count": 72,
   "id": "1037e70a-ec73-4ae2-9b25-462e1199d61a",
   "metadata": {},
   "outputs": [
    {
     "name": "stdout",
     "output_type": "stream",
     "text": [
      "+-----------+----------+\n",
      "|    sale_id|sale_price|\n",
      "+-----------+----------+\n",
      "| 2017..8190|     50293|\n",
      "|1999..45779|     50300|\n",
      "| 2012..4276|     50462|\n",
      "|2006..40079|     50500|\n",
      "|1999..13205|     50667|\n",
      "|2013..30936|     51000|\n",
      "|1999..24514|     51580|\n",
      "|2016..16348|     52000|\n",
      "|1999..36999|     52000|\n",
      "|1999..43760|     52350|\n",
      "|2015..30978|     52400|\n",
      "|2012..34562|     53000|\n",
      "|2001..25638|     53000|\n",
      "|1999..13515|     53000|\n",
      "|2001..33319|     53500|\n",
      "|2001..38018|     53500|\n",
      "|2000..37605|     53752|\n",
      "|1999..18634|     53927|\n",
      "| 2009..2490|     54000|\n",
      "|1999..13506|     54000|\n",
      "+-----------+----------+\n",
      "only showing top 20 rows\n",
      "\n"
     ]
    }
   ],
   "source": [
    "points_df.orderBy(\"sale_price\").show()"
   ]
  },
  {
   "cell_type": "code",
   "execution_count": 73,
   "id": "bfc82c48-6e88-4214-bd0e-ac9f23be80d2",
   "metadata": {},
   "outputs": [
    {
     "name": "stdout",
     "output_type": "stream",
     "text": [
      "+-----------+----------+\n",
      "|    sale_id|sale_price|\n",
      "+-----------+----------+\n",
      "| 1999..8039|   1225000|\n",
      "|1999..11552|    539320|\n",
      "|1999..15054|   3902500|\n",
      "|1999..16909|    520000|\n",
      "|1999..19198|    531000|\n",
      "|1999..19583|    750000|\n",
      "|1999..20399|   2500000|\n",
      "|1999..21267|    515000|\n",
      "|1999..23693|    615000|\n",
      "|1999..25093|    543000|\n",
      "|1999..25263|    975000|\n",
      "|1999..26456|   1000000|\n",
      "|1999..27741|   1200000|\n",
      "|1999..29598|   1400000|\n",
      "|1999..30476|    725000|\n",
      "|1999..31185|    515000|\n",
      "|1999..33401|    631100|\n",
      "|1999..34444|    540000|\n",
      "|1999..36205|    908000|\n",
      "|1999..36211|    908000|\n",
      "+-----------+----------+\n",
      "only showing top 20 rows\n",
      "\n"
     ]
    }
   ],
   "source": [
    "points_df.filter(\"sale_price > 500000\").show()"
   ]
  },
  {
   "cell_type": "markdown",
   "id": "6c2ab87f-7dbc-43c5-8c75-66f055a5db43",
   "metadata": {
    "jp-MarkdownHeadingCollapsed": true
   },
   "source": [
    "# Part 6: Vector and Raster Viz"
   ]
  },
  {
   "cell_type": "code",
   "execution_count": 74,
   "id": "f5df75a9-0f44-46d0-9942-bf86ccbaf38a",
   "metadata": {},
   "outputs": [
    {
     "name": "stderr",
     "output_type": "stream",
     "text": [
      "                                                                                \r"
     ]
    },
    {
     "data": {
      "text/html": [
       "<table border=\"1\" class=\"dataframe\">\n",
       "  <thead>\n",
       "    <tr style=\"text-align: right;\">\n",
       "      <th></th>\n",
       "      <th>raster_image</th>\n",
       "    </tr>\n",
       "  </thead>\n",
       "  <tbody>\n",
       "    <tr>\n",
       "      <th>0</th>\n",
       "      <td><img src=\"data:image/png;base64,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\" width=\"500\" /></td>\n",
       "    </tr>\n",
       "  </tbody>\n",
       "</table>"
      ],
      "text/plain": [
       "<IPython.core.display.HTML object>"
      ]
     },
     "metadata": {},
     "output_type": "display_data"
    }
   ],
   "source": [
    "from sedona.spark import SedonaUtils\n",
    "\n",
    "# Convert raster to base64 image for inline visualization\n",
    "htmlDF = raster_df.selectExpr(\"RS_AsImage(raster, 500) as raster_image\")\n",
    "\n",
    "# Display in notebook (Jupyter or Databricks)\n",
    "SedonaUtils.display_image(htmlDF)"
   ]
  },
  {
   "cell_type": "code",
   "execution_count": 75,
   "id": "7fa8f141-224e-4dea-bf20-e036074a35d6",
   "metadata": {},
   "outputs": [
    {
     "name": "stdout",
     "output_type": "stream",
     "text": [
      "User Guide: https://docs.kepler.gl/docs/keplergl-jupyter\n"
     ]
    },
    {
     "data": {
      "application/vnd.jupyter.widget-view+json": {
       "model_id": "a5e8df7290974162a72d1ffc943f4590",
       "version_major": 2,
       "version_minor": 0
      },
      "text/plain": [
       "KeplerGl(data={'Seattle Schools': {'index': [0, 1, 2, 3, 4, 5, 6, 7, 8, 9, 10, 11, 12, 13, 14, 15, 16, 17, 18,…"
      ]
     },
     "metadata": {},
     "output_type": "display_data"
    }
   ],
   "source": [
    "from sedona.spark import SedonaKepler\n",
    "\n",
    "map = SedonaKepler.create_map()\n",
    "SedonaKepler.add_df(map, geoparquet_schools_df, name=\"Seattle Schools\")\n",
    "map"
   ]
  },
  {
   "cell_type": "markdown",
   "id": "676a62de-2b1f-4d73-b023-92e7919c2aad",
   "metadata": {
    "jp-MarkdownHeadingCollapsed": true
   },
   "source": [
    "# Part 7: Vector Functions"
   ]
  },
  {
   "cell_type": "code",
   "execution_count": 76,
   "id": "cbe0ea10-af5a-42b9-9e6e-165c96be17cc",
   "metadata": {},
   "outputs": [],
   "source": [
    "from sedona.sql.st_functions import ST_Buffer, ST_Transform, ST_ConvexHull"
   ]
  },
  {
   "cell_type": "code",
   "execution_count": 77,
   "id": "5d2b218d-804e-4dd9-bb8f-f91d89d95bc0",
   "metadata": {},
   "outputs": [
    {
     "name": "stdout",
     "output_type": "stream",
     "text": [
      "+--------------------+\n",
      "|              buffer|\n",
      "+--------------------+\n",
      "|POLYGON ((553133....|\n",
      "|POLYGON ((551505....|\n",
      "|POLYGON ((555594....|\n",
      "+--------------------+\n",
      "only showing top 3 rows\n",
      "\n"
     ]
    }
   ],
   "source": [
    "from pyspark.sql.functions import col, lit\n",
    "\n",
    "buffered_df = geoparquet_schools_df.select(\n",
    "    ST_Buffer(\n",
    "        ST_Transform(col(\"geometry\"), lit(\"EPSG:4326\"), lit(\"EPSG:26910\")),\n",
    "        100\n",
    "    ).alias(\"buffer\")\n",
    ")\n",
    "\n",
    "buffered_df.show(3)"
   ]
  },
  {
   "cell_type": "code",
   "execution_count": 78,
   "id": "69316e54-83c7-4354-a999-0d84d89f4ebe",
   "metadata": {},
   "outputs": [
    {
     "name": "stdout",
     "output_type": "stream",
     "text": [
      "User Guide: https://docs.kepler.gl/docs/keplergl-jupyter\n"
     ]
    },
    {
     "data": {
      "application/vnd.jupyter.widget-view+json": {
       "model_id": "bdf76f5a76804814aeadf7ae137eda63",
       "version_major": 2,
       "version_minor": 0
      },
      "text/plain": [
       "KeplerGl(data={'Seattle Schools Buffer': {'index': [0, 1, 2, 3, 4, 5, 6, 7, 8, 9, 10, 11, 12, 13, 14, 15, 16, …"
      ]
     },
     "metadata": {},
     "output_type": "display_data"
    }
   ],
   "source": [
    "map = SedonaKepler.create_map()\n",
    "SedonaKepler.add_df(map, buffered_df, name=\"Seattle Schools Buffer\")\n",
    "map"
   ]
  },
  {
   "cell_type": "code",
   "execution_count": 79,
   "id": "2fbdd4b9-6f7f-42d1-b44b-5bfc207accc0",
   "metadata": {},
   "outputs": [],
   "source": [
    "schools_df = geoparquet_schools_df.selectExpr(\"*\", \"ST_Transform(geometry, 'EPSG:4326', 'EPSG:26910') as geom\") \\\n",
    "    .drop(\"geometry\") \\\n",
    "    .withColumnRenamed(\"geom\", \"geometry\")"
   ]
  },
  {
   "cell_type": "code",
   "execution_count": 80,
   "id": "11f4c558-b7a1-4aa8-a3fc-6b96c9dc5478",
   "metadata": {},
   "outputs": [],
   "source": [
    "shapefile_df.createOrReplaceTempView('parks')"
   ]
  },
  {
   "cell_type": "code",
   "execution_count": 81,
   "id": "9942f2a6-f41b-42cb-9dbd-a9a69c77b05d",
   "metadata": {},
   "outputs": [
    {
     "name": "stderr",
     "output_type": "stream",
     "text": [
      "[Stage 79:>                                                         (0 + 1) / 1]\r"
     ]
    },
    {
     "name": "stdout",
     "output_type": "stream",
     "text": [
      "+---------------------+\n",
      "|st_centroid(geometry)|\n",
      "+---------------------+\n",
      "| POINT (1258986.36...|\n",
      "| POINT (1283739.51...|\n",
      "| POINT (1264250.36...|\n",
      "+---------------------+\n",
      "only showing top 3 rows\n",
      "\n"
     ]
    },
    {
     "name": "stderr",
     "output_type": "stream",
     "text": [
      "                                                                                \r"
     ]
    }
   ],
   "source": [
    "centroid = sedona.sql('''select st_centroid(geometry) from parks''')\n",
    "centroid.show(3)"
   ]
  },
  {
   "cell_type": "code",
   "execution_count": 82,
   "id": "4bcdc5fe-ec14-4efc-8039-2ec196971207",
   "metadata": {},
   "outputs": [
    {
     "name": "stderr",
     "output_type": "stream",
     "text": [
      "[Stage 80:>                                                         (0 + 1) / 1]\r"
     ]
    },
    {
     "name": "stdout",
     "output_type": "stream",
     "text": [
      "+-----------------+\n",
      "|st_area(geometry)|\n",
      "+-----------------+\n",
      "|6165.376032292017|\n",
      "|36623.38040972915|\n",
      "| 697.384598917983|\n",
      "+-----------------+\n",
      "only showing top 3 rows\n",
      "\n"
     ]
    },
    {
     "name": "stderr",
     "output_type": "stream",
     "text": [
      "                                                                                \r"
     ]
    }
   ],
   "source": [
    "area = sedona.sql('''select st_area(geometry) from parks''')\n",
    "area.show(3)"
   ]
  },
  {
   "cell_type": "code",
   "execution_count": 83,
   "id": "b67018ef-32bf-4443-bfa2-2dd27a126dd8",
   "metadata": {},
   "outputs": [],
   "source": [
    "geoparquet_df.createOrReplaceTempView('bikes')"
   ]
  },
  {
   "cell_type": "code",
   "execution_count": 84,
   "id": "9481f376-0b23-4eb9-828f-9073b112f98b",
   "metadata": {},
   "outputs": [
    {
     "name": "stdout",
     "output_type": "stream",
     "text": [
      "+--------------------+\n",
      "| st_length(geometry)|\n",
      "+--------------------+\n",
      "|0.001305243327974...|\n",
      "|0.001141705749637...|\n",
      "|0.001882457746089...|\n",
      "+--------------------+\n",
      "only showing top 3 rows\n",
      "\n"
     ]
    }
   ],
   "source": [
    "length = sedona.sql('''select st_length(geometry) from bikes''')\n",
    "length.show(3)"
   ]
  },
  {
   "cell_type": "code",
   "execution_count": 85,
   "id": "cb77dfab-22ea-4ef2-b828-daf6d39f2643",
   "metadata": {},
   "outputs": [
    {
     "name": "stderr",
     "output_type": "stream",
     "text": [
      "[Stage 82:>                                                         (0 + 1) / 1]\r"
     ]
    },
    {
     "name": "stdout",
     "output_type": "stream",
     "text": [
      "+--------------------+--------------------+\n",
      "|            geometry|         convex_hull|\n",
      "+--------------------+--------------------+\n",
      "|POLYGON ((1258961...|POLYGON ((1259036...|\n",
      "|POLYGON ((1283628...|POLYGON ((1283875...|\n",
      "|POLYGON ((1264225...|POLYGON ((1264274...|\n",
      "+--------------------+--------------------+\n",
      "only showing top 3 rows\n",
      "\n"
     ]
    },
    {
     "name": "stderr",
     "output_type": "stream",
     "text": [
      "                                                                                \r"
     ]
    }
   ],
   "source": [
    "hull_df = shapefile_df.select(\n",
    "    \"geometry\",\n",
    "    ST_ConvexHull(\"geometry\").alias(\"convex_hull\")\n",
    ")\n",
    "hull_df.show(3)"
   ]
  },
  {
   "cell_type": "code",
   "execution_count": 45,
   "id": "93565cc9-3c66-4185-ac8f-4369d59c335e",
   "metadata": {},
   "outputs": [],
   "source": [
    "# Space Needle - -122.3494692, 47.6205426"
   ]
  },
  {
   "cell_type": "code",
   "execution_count": null,
   "id": "5ac973a5-0ee7-4710-8693-74fbb7ff9fa6",
   "metadata": {},
   "outputs": [
    {
     "name": "stderr",
     "output_type": "stream",
     "text": [
      "[Stage 84:>                                                         (0 + 1) / 1]\r"
     ]
    },
    {
     "name": "stdout",
     "output_type": "stream",
     "text": [
      "+-----------------+\n",
      "|         distance|\n",
      "+-----------------+\n",
      "|5053683.445720952|\n",
      "|5053713.034321728|\n",
      "|5053818.943766461|\n",
      "+-----------------+\n",
      "only showing top 3 rows\n",
      "\n"
     ]
    },
    {
     "name": "stderr",
     "output_type": "stream",
     "text": [
      "                                                                                \r"
     ]
    }
   ],
   "source": [
    "from pyspark.sql.functions import lit\n",
    "\n",
    "dist_df = sedona.sql('''\n",
    "select ST_Distance(geometry, \n",
    "                     ST_Transform(\n",
    "                        ST_SetSRID(\n",
    "                            ST_Point(-122.3494692, 47.6205426), 4326), 'EPSG:26910')) as distance\n",
    "from parks                     \n",
    "''')\n",
    "\n",
    "dist_df.show(3)"
   ]
  },
  {
   "cell_type": "code",
   "execution_count": 88,
   "id": "a8bcf450-799c-425b-a2c5-22df9a0633ec",
   "metadata": {},
   "outputs": [
    {
     "name": "stderr",
     "output_type": "stream",
     "text": [
      "[Stage 85:>                                                         (0 + 1) / 1]\r"
     ]
    },
    {
     "name": "stdout",
     "output_type": "stream",
     "text": [
      "+--------------------+\n",
      "|                  h3|\n",
      "+--------------------+\n",
      "|[6129171281414717...|\n",
      "|[6146282687939215...|\n",
      "|[6136883206852444...|\n",
      "+--------------------+\n",
      "\n"
     ]
    },
    {
     "name": "stderr",
     "output_type": "stream",
     "text": [
      "                                                                                \r"
     ]
    }
   ],
   "source": [
    "h3_df = sedona.sql('''\n",
    "select ST_H3CellIDs(geometry, 8, true) as h3\n",
    "from parks\n",
    "limit 3\n",
    "''')\n",
    "\n",
    "h3_df.show()"
   ]
  },
  {
   "cell_type": "code",
   "execution_count": 90,
   "id": "4bd99913-97f4-412d-a8d3-ca183af745e3",
   "metadata": {},
   "outputs": [
    {
     "name": "stdout",
     "output_type": "stream",
     "text": [
      "+------------------+\n",
      "|           dist_3d|\n",
      "+------------------+\n",
      "|14.866068747318506|\n",
      "+------------------+\n",
      "\n"
     ]
    }
   ],
   "source": [
    "sedona.sql(\"\"\"\n",
    "SELECT ST_3DDistance(\n",
    "    ST_GeomFromText('POINT Z (0 0 0)'),\n",
    "    ST_GeomFromText('POINT Z (3 4 14)')\n",
    ") AS dist_3d\n",
    "\"\"\").show()"
   ]
  },
  {
   "cell_type": "markdown",
   "id": "432dde9a-6b00-4e7f-9a17-b26de00482aa",
   "metadata": {
    "jp-MarkdownHeadingCollapsed": true
   },
   "source": [
    "# Part 8: Spatial Predicates"
   ]
  },
  {
   "cell_type": "code",
   "execution_count": 91,
   "id": "3fa0ab2d-df85-492d-bf14-d0db2683ace6",
   "metadata": {},
   "outputs": [],
   "source": [
    "csv_df.createOrReplaceTempView('homes')\n",
    "geojson_df.createOrReplaceTempView('neighborhoods')"
   ]
  },
  {
   "cell_type": "code",
   "execution_count": 92,
   "id": "540aeb45-11df-4f82-ab54-9c7280a0e2de",
   "metadata": {},
   "outputs": [
    {
     "name": "stdout",
     "output_type": "stream",
     "text": [
      "+--------------------+-------+--------+----------------+----------------+\n",
      "|            geometry| L_HOOD|OBJECTID|          S_HOOD|S_HOOD_ALT_NAMES|\n",
      "+--------------------+-------+--------+----------------+----------------+\n",
      "|POLYGON ((-122.37...|Ballard|      27|   Loyal Heights|            NULL|\n",
      "|POLYGON ((-122.37...|Ballard|      28|         Ballard|           Adams|\n",
      "|POLYGON ((-122.37...|Ballard|      29|Whittier Heights|            NULL|\n",
      "+--------------------+-------+--------+----------------+----------------+\n",
      "only showing top 3 rows\n",
      "\n"
     ]
    }
   ],
   "source": [
    "geojson_df.show(3)"
   ]
  },
  {
   "cell_type": "code",
   "execution_count": 93,
   "id": "2804e797-8bcd-46d7-984e-56465e6cadd3",
   "metadata": {},
   "outputs": [
    {
     "name": "stdout",
     "output_type": "stream",
     "text": [
      "+-----------+----------+\n",
      "|    sale_id|in_ballard|\n",
      "+-----------+----------+\n",
      "| 1999..2544|      true|\n",
      "| 2000..9289|      true|\n",
      "|2000..16882|      true|\n",
      "+-----------+----------+\n",
      "only showing top 3 rows\n",
      "\n"
     ]
    }
   ],
   "source": [
    "sedona.sql('''\n",
    "select h.sale_id, st_contains(n.geometry, h.geometry) in_ballard\n",
    "from homes h\n",
    "join neighborhoods n on st_contains(n.geometry, h.geometry)\n",
    "where n.S_HOOD = 'Ballard'\n",
    "''').show(3)"
   ]
  },
  {
   "cell_type": "code",
   "execution_count": 94,
   "id": "22803eea-f31c-4409-b2b1-037f499a25a8",
   "metadata": {},
   "outputs": [
    {
     "data": {
      "text/plain": [
       "6749"
      ]
     },
     "execution_count": 94,
     "metadata": {},
     "output_type": "execute_result"
    }
   ],
   "source": [
    "sedona.sql('''\n",
    "select h.sale_id\n",
    "from homes h\n",
    "join neighborhoods n on st_dwithin(\n",
    "    st_transform(n.geometry, 'EPSG:4326', 'EPSG:26910'), \n",
    "    st_transform(h.geometry, 'EPSG:4326', 'EPSG:26910'),\n",
    "    500)\n",
    "where n.S_HOOD = 'Ballard'\n",
    "''').count()"
   ]
  },
  {
   "cell_type": "code",
   "execution_count": 96,
   "id": "f13652ab-6b0d-4620-acdd-fed205d8a965",
   "metadata": {},
   "outputs": [
    {
     "name": "stdout",
     "output_type": "stream",
     "text": [
      "+--------+\n",
      "|contains|\n",
      "+--------+\n",
      "|    true|\n",
      "+--------+\n",
      "\n"
     ]
    }
   ],
   "source": [
    "sedona.sql('''SELECT ST_Contains(\n",
    "  ST_GeomFromText('POLYGON((0 0, 0 10, 10 10, 10 0, 0 0))'),\n",
    "  ST_GeomFromText('POINT(5 5)')\n",
    ") AS contains\n",
    "''').show()"
   ]
  },
  {
   "cell_type": "code",
   "execution_count": null,
   "id": "dd041f82-e061-425c-b5c1-18ab6796d384",
   "metadata": {},
   "outputs": [
    {
     "name": "stdout",
     "output_type": "stream",
     "text": [
      "+--------+\n",
      "|contains|\n",
      "+--------+\n",
      "|    true|\n",
      "+--------+\n",
      "\n"
     ]
    }
   ],
   "source": [
    "sedona.sql('''SELECT ST_Contains(\n",
    "  ST_GeomFromText('POLYGON((0 0, 0 10, 10 10, 10 0, 0 0))'),\n",
    "  ST_GeomFromText('POINT(0 0)')\n",
    ") AS contains\n",
    "''').show()"
   ]
  },
  {
   "cell_type": "code",
   "execution_count": 100,
   "id": "109d1aab-6512-4cb7-88b6-35d170967cef",
   "metadata": {},
   "outputs": [
    {
     "name": "stdout",
     "output_type": "stream",
     "text": [
      "+----------+\n",
      "|intersects|\n",
      "+----------+\n",
      "|      true|\n",
      "+----------+\n",
      "\n"
     ]
    }
   ],
   "source": [
    "sedona.sql('''SELECT ST_Intersects(\n",
    "  ST_GeomFromText('POLYGON((0 0, 0 10, 10 10, 10 0, 0 0))'),\n",
    "  ST_GeomFromText('LINESTRING(5 5, 15 5)')\n",
    ") AS intersects''').show()"
   ]
  },
  {
   "cell_type": "code",
   "execution_count": 101,
   "id": "a4bb0aa7-419b-4b6a-aa2c-82e448dab3d4",
   "metadata": {},
   "outputs": [
    {
     "name": "stdout",
     "output_type": "stream",
     "text": [
      "+----------+\n",
      "|intersects|\n",
      "+----------+\n",
      "|      true|\n",
      "+----------+\n",
      "\n"
     ]
    }
   ],
   "source": [
    "sedona.sql('''SELECT ST_Intersects(\n",
    "  ST_GeomFromText('POLYGON((0 0, 0 10, 10 10, 10 0, 0 0))'),\n",
    "  ST_GeomFromText('POINT(0 0)')\n",
    ") AS intersects\n",
    "''').show()"
   ]
  },
  {
   "cell_type": "code",
   "execution_count": 102,
   "id": "9c66c590-5d9b-492c-8c4a-64caa0d2e963",
   "metadata": {},
   "outputs": [
    {
     "name": "stdout",
     "output_type": "stream",
     "text": [
      "+----------+\n",
      "|intersects|\n",
      "+----------+\n",
      "|      true|\n",
      "+----------+\n",
      "\n"
     ]
    }
   ],
   "source": [
    "sedona.sql('''SELECT ST_Touches(\n",
    "  ST_GeomFromText('POLYGON((0 0, 0 10, 10 10, 10 0, 0 0))'),\n",
    "  ST_GeomFromText('POINT(0 0)')\n",
    ") AS intersects\n",
    "''').show()"
   ]
  },
  {
   "cell_type": "code",
   "execution_count": 103,
   "id": "0e5b7638-af20-4b3d-8658-0bc50d81918d",
   "metadata": {},
   "outputs": [
    {
     "name": "stdout",
     "output_type": "stream",
     "text": [
      "+----------+\n",
      "|intersects|\n",
      "+----------+\n",
      "|     false|\n",
      "+----------+\n",
      "\n"
     ]
    }
   ],
   "source": [
    "sedona.sql('''SELECT ST_Touches(\n",
    "  ST_GeomFromText('POLYGON((0 0, 0 10, 10 10, 10 0, 0 0))'),\n",
    "  ST_GeomFromText('POINT(5 5)')\n",
    ") AS intersects\n",
    "''').show()"
   ]
  },
  {
   "cell_type": "markdown",
   "id": "79eb39b6-a819-498d-87b4-ba1a91457818",
   "metadata": {
    "jp-MarkdownHeadingCollapsed": true
   },
   "source": [
    "# Part 9: Write Data"
   ]
  },
  {
   "cell_type": "code",
   "execution_count": 104,
   "id": "53ffa72c-de7a-4bf2-be29-0bc16da76913",
   "metadata": {},
   "outputs": [
    {
     "name": "stderr",
     "output_type": "stream",
     "text": [
      "                                                                                \r"
     ]
    }
   ],
   "source": [
    "# Write a single GeoJSON file (e.g., for download or web map use)\n",
    "geojson_output_path = \"parks.geojson\"\n",
    "\n",
    "shapefile_df.coalesce(1).write \\\n",
    "    .mode(\"overwrite\") \\\n",
    "    .format(\"geojson\") \\\n",
    "    .save(geojson_output_path)"
   ]
  },
  {
   "cell_type": "code",
   "execution_count": 105,
   "id": "99394244-dd12-46fe-88d5-ded2adf910ec",
   "metadata": {},
   "outputs": [
    {
     "name": "stderr",
     "output_type": "stream",
     "text": [
      "                                                                                \r"
     ]
    }
   ],
   "source": [
    "# Repartition to 10 files for parallel writes\n",
    "csv_df.repartition(10).write \\\n",
    "    .mode(\"overwrite\") \\\n",
    "    .format(\"geoparquet\") \\\n",
    "    .save(\"data/output_geoparquet_10_parts\")"
   ]
  },
  {
   "cell_type": "code",
   "execution_count": 106,
   "id": "2d0de6db-d6f5-4d91-ae58-5f769fe64d6c",
   "metadata": {},
   "outputs": [
    {
     "name": "stderr",
     "output_type": "stream",
     "text": [
      "                                                                                \r"
     ]
    }
   ],
   "source": [
    "csv_df.write \\\n",
    "    .mode(\"overwrite\") \\\n",
    "    .format(\"geoparquet\") \\\n",
    "    .partitionBy(\"city\") \\\n",
    "    .save(\"data/output_geoparquet_partitioned\")"
   ]
  },
  {
   "cell_type": "code",
   "execution_count": null,
   "id": "fdb3a047-50ba-4462-aca2-ff8a812a1446",
   "metadata": {},
   "outputs": [],
   "source": [
    "# output_df.write \\\n",
    "#     .mode(\"overwrite\") \\\n",
    "#     .format(\"geoparquet\") \\\n",
    "#     .save(\"s3a://your-bucket-name/path/to/output/\")"
   ]
  },
  {
   "cell_type": "markdown",
   "id": "9da4b2b9-8721-4e94-a757-4d5c53744366",
   "metadata": {
    "jp-MarkdownHeadingCollapsed": true
   },
   "source": [
    "# Part 10: Nearest Neighbor Join"
   ]
  },
  {
   "cell_type": "code",
   "execution_count": 107,
   "id": "5194d9ef-5fff-4f38-91d7-2c86ea1dfe21",
   "metadata": {},
   "outputs": [
    {
     "data": {
      "text/plain": [
       "DataFrame[Latitude: double, Longitude: double, OBJECTID: double, address: string, esmshs: string, geometry: udt, grades: string, mapLabel: string, school_ID: double, school_name: string, siteID: double, status: string, zip: double]"
      ]
     },
     "execution_count": 107,
     "metadata": {},
     "output_type": "execute_result"
    }
   ],
   "source": [
    "geoparquet_schools_df.repartition(8)"
   ]
  },
  {
   "cell_type": "code",
   "execution_count": 108,
   "id": "9cbcde0d-6e2c-4ff4-ab8d-4415dcd8189d",
   "metadata": {},
   "outputs": [],
   "source": [
    "geoparquet_schools_df.createOrReplaceTempView('schools')"
   ]
  },
  {
   "cell_type": "code",
   "execution_count": 153,
   "id": "94bc3eec-ea45-4398-a32c-21331465a534",
   "metadata": {},
   "outputs": [],
   "source": [
    "nearest = sedona.sql('''\n",
    "select schools.school_name, bikes.id\n",
    "from schools\n",
    "join bikes on ST_KNN(\n",
    "    schools.geometry,\n",
    "    bikes.geometry,\n",
    "    3,\n",
    "    true\n",
    ")\n",
    "''')"
   ]
  },
  {
   "cell_type": "code",
   "execution_count": 154,
   "id": "93596928-2f0b-43d9-b6f8-4ac6a7c1ad02",
   "metadata": {},
   "outputs": [
    {
     "name": "stderr",
     "output_type": "stream",
     "text": [
      "[Stage 159:>                                                        (0 + 1) / 1]\r"
     ]
    },
    {
     "name": "stdout",
     "output_type": "stream",
     "text": [
      "+-----------+-------+\n",
      "|school_name|     id|\n",
      "+-----------+-------+\n",
      "|   McGilvra| 6734.0|\n",
      "|   McGilvra|16524.0|\n",
      "|   McGilvra|23859.0|\n",
      "| Aki Kurose|23150.0|\n",
      "| Aki Kurose| 5899.0|\n",
      "| Aki Kurose| 2447.0|\n",
      "|  Wing Luke| 6393.0|\n",
      "|  Wing Luke|14130.0|\n",
      "|  Wing Luke|19894.0|\n",
      "+-----------+-------+\n",
      "only showing top 9 rows\n",
      "\n"
     ]
    },
    {
     "name": "stderr",
     "output_type": "stream",
     "text": [
      "                                                                                \r"
     ]
    }
   ],
   "source": [
    "nearest.show(9)"
   ]
  },
  {
   "cell_type": "markdown",
   "id": "d89a5f8b-f745-44e1-bc0b-1f21f796ef35",
   "metadata": {
    "jp-MarkdownHeadingCollapsed": true
   },
   "source": [
    "# Part 11: Raster Functions"
   ]
  },
  {
   "cell_type": "code",
   "execution_count": 25,
   "id": "2b939ce8-20a1-4347-ac18-a4900caa537c",
   "metadata": {},
   "outputs": [],
   "source": [
    "sample_area = 'POLYGON((-122.3608417185 47.6460037086, -122.3581854589 47.6460037086, -122.3581854589 47.643222509, -122.3608417185 47.643222509, -122.3608417185 47.6460037086))'"
   ]
  },
  {
   "cell_type": "code",
   "execution_count": 26,
   "id": "f54374e4",
   "metadata": {},
   "outputs": [],
   "source": [
    "raster_df = raster_df.selectExpr(\"RS_TileExplode(raster, 256, 256) as (x, y, raster)\")"
   ]
  },
  {
   "cell_type": "code",
   "execution_count": 27,
   "id": "d9fa38c1-1b3d-48c9-97fb-08766c013704",
   "metadata": {},
   "outputs": [],
   "source": [
    "raster_df.createOrReplaceTempView('landcover')"
   ]
  },
  {
   "cell_type": "code",
   "execution_count": 28,
   "id": "ed97dcb4-daa2-4473-9837-c07ffb559784",
   "metadata": {},
   "outputs": [],
   "source": [
    "centroids = sedona.sql(f'''\n",
    "select RS_PixelAsCentroids(raster, 1)\n",
    "from landcover\n",
    "where rs_intersects(raster, st_geomfromtext('{sample_area}'))\n",
    "''')"
   ]
  },
  {
   "cell_type": "code",
   "execution_count": 29,
   "id": "f5eda6a6-0d14-45e7-b28c-a7e7c9aead40",
   "metadata": {},
   "outputs": [
    {
     "name": "stderr",
     "output_type": "stream",
     "text": [
      "[Stage 8:>                                                          (0 + 1) / 1]\r"
     ]
    },
    {
     "name": "stdout",
     "output_type": "stream",
     "text": [
      "+------------------------------+\n",
      "|rs_pixelascentroids(raster, 1)|\n",
      "+------------------------------+\n",
      "|          [{POINT (-122.381...|\n",
      "|          [{POINT (-122.359...|\n",
      "+------------------------------+\n",
      "\n"
     ]
    },
    {
     "name": "stderr",
     "output_type": "stream",
     "text": [
      "                                                                                \r"
     ]
    }
   ],
   "source": [
    "centroids.show(3)"
   ]
  },
  {
   "cell_type": "code",
   "execution_count": null,
   "id": "f3f1a3cb-3333-4c88-b17d-7cede7e1198b",
   "metadata": {},
   "outputs": [],
   "source": [
    "raster_df.createOrReplaceTempView('landcover')"
   ]
  },
  {
   "cell_type": "code",
   "execution_count": 30,
   "id": "0f417e28-cd29-42d0-ae91-1ae45aac0f62",
   "metadata": {},
   "outputs": [],
   "source": [
    "values = sedona.sql(f'''\n",
    "select RS_Value(raster, ST_Point(-122.373894, 47.634587))\n",
    "from landcover\n",
    "where rs_intersects(raster, st_geomfromtext('{sample_area}'))\n",
    "''')"
   ]
  },
  {
   "cell_type": "code",
   "execution_count": null,
   "id": "8979559f-959e-4425-915c-6bdad0420556",
   "metadata": {},
   "outputs": [
    {
     "name": "stderr",
     "output_type": "stream",
     "text": [
      "[Stage 9:>                                                          (0 + 1) / 1]\r"
     ]
    },
    {
     "name": "stdout",
     "output_type": "stream",
     "text": [
      "+--------------------------------------------------+\n",
      "|rs_value(raster, st_point(-122.373894, 47.634587))|\n",
      "+--------------------------------------------------+\n",
      "|                                              NULL|\n",
      "|                                              NULL|\n",
      "+--------------------------------------------------+\n",
      "\n",
      "CPU times: user 4.28 ms, sys: 17.6 ms, total: 21.8 ms\n",
      "Wall time: 24.9 s\n"
     ]
    },
    {
     "name": "stderr",
     "output_type": "stream",
     "text": [
      "                                                                                \r"
     ]
    }
   ],
   "source": [
    "values.show()"
   ]
  },
  {
   "cell_type": "code",
   "execution_count": 32,
   "id": "28ec0070-603f-4ba9-a7b7-d66c41e498ce",
   "metadata": {},
   "outputs": [],
   "source": [
    "raster_tiles = raster_df.selectExpr(\"RS_TileExplode(raster, 256, 256) as (x, y, raster)\")"
   ]
  },
  {
   "cell_type": "code",
   "execution_count": 33,
   "id": "087d3c0b-8092-4fc4-9a5f-d977951107f4",
   "metadata": {},
   "outputs": [],
   "source": [
    "raster_tiles.createOrReplaceTempView('landcover_tiles')"
   ]
  },
  {
   "cell_type": "code",
   "execution_count": null,
   "id": "39397e43-5d7e-484d-845c-59a5d78db8aa",
   "metadata": {},
   "outputs": [],
   "source": [
    "raster_tiles.show()"
   ]
  },
  {
   "cell_type": "code",
   "execution_count": 34,
   "id": "f1356c12-4e04-4d92-9b55-4c8e896a554d",
   "metadata": {},
   "outputs": [
    {
     "name": "stderr",
     "output_type": "stream",
     "text": [
      "[Stage 10:>                                                         (0 + 1) / 1]\r"
     ]
    },
    {
     "name": "stdout",
     "output_type": "stream",
     "text": [
      "+------------------------------------------------------------------------+\n",
      "|stats                                                                   |\n",
      "+------------------------------------------------------------------------+\n",
      "|{65536.0, 671440.0, 10.245361328125, 2.2015958714443338, 10.0, 30.0}    |\n",
      "|{65536.0, 745070.0, 11.368865966796875, 5.211732501959066, 10.0, 60.0}  |\n",
      "|{65536.0, 752700.0, 11.48529052734375, 5.244017791375037, 10.0, 30.0}   |\n",
      "|{65536.0, 689980.0, 10.52825927734375, 3.218597500507831, 10.0, 50.0}   |\n",
      "|{65536.0, 777360.0, 11.861572265625, 6.324372179551169, 10.0, 80.0}     |\n",
      "|{65536.0, 1805250.0, 27.545928955078125, 27.20680319857726, 10.0, 90.0} |\n",
      "|{65536.0, 1952110.0, 29.786834716796875, 30.570124344786105, 10.0, 90.0}|\n",
      "|{65536.0, 1041750.0, 15.895843505859375, 16.629436630696922, 10.0, 80.0}|\n",
      "|{65536.0, 746490.0, 11.390533447265625, 6.187900336923004, 10.0, 80.0}  |\n",
      "|{65536.0, 715940.0, 10.92437744140625, 4.278371406586183, 10.0, 50.0}   |\n",
      "|{65536.0, 1434400.0, 21.88720703125, 10.720639065137421, 10.0, 60.0}    |\n",
      "|{65536.0, 1239620.0, 18.91510009765625, 10.098894249048112, 10.0, 80.0} |\n",
      "|{65536.0, 801460.0, 12.22930908203125, 6.587908799072585, 10.0, 80.0}   |\n",
      "|{65536.0, 3975160.0, 60.6561279296875, 30.289080257720503, 10.0, 80.0}  |\n",
      "|{65536.0, 5242880.0, 80.0, 0.0, 80.0, 80.0}                             |\n",
      "|{65536.0, 5242880.0, 80.0, 0.0, 80.0, 80.0}                             |\n",
      "|{65536.0, 5242880.0, 80.0, 0.0, 80.0, 80.0}                             |\n",
      "|{65536.0, 5242880.0, 80.0, 0.0, 80.0, 80.0}                             |\n",
      "|{65536.0, 5242880.0, 80.0, 0.0, 80.0, 80.0}                             |\n",
      "|{65536.0, 5242880.0, 80.0, 0.0, 80.0, 80.0}                             |\n",
      "+------------------------------------------------------------------------+\n",
      "only showing top 20 rows\n",
      "\n"
     ]
    },
    {
     "name": "stderr",
     "output_type": "stream",
     "text": [
      "                                                                                \r"
     ]
    }
   ],
   "source": [
    "stats = sedona.sql('''SELECT RS_SummaryStatsAll(raster) AS stats\n",
    "FROM landcover_tiles\n",
    "where x = 0 and y = 0''')\n",
    "stats.show(truncate=False)"
   ]
  },
  {
   "cell_type": "code",
   "execution_count": null,
   "id": "6a433ce9-9b25-4eca-ad7e-d398e6a29f31",
   "metadata": {},
   "outputs": [
    {
     "name": "stderr",
     "output_type": "stream",
     "text": [
      "[Stage 11:>                                                         (0 + 1) / 1]\r"
     ]
    },
    {
     "name": "stdout",
     "output_type": "stream",
     "text": [
      "+---------------------------------------------------------------------------------------------------------------+\n",
      "|stats                                                                                                          |\n",
      "+---------------------------------------------------------------------------------------------------------------+\n",
      "|{-123.0, 48.0, 256, 256, 8.333333333333333E-5, -8.333333333333333E-5, 0.0, 0.0, 4326, 1, 256, 256}             |\n",
      "|{-122.97866666666667, 48.0, 256, 256, 8.333333333333333E-5, -8.333333333333333E-5, 0.0, 0.0, 4326, 1, 256, 256}|\n",
      "|{-122.95733333333334, 48.0, 256, 256, 8.333333333333333E-5, -8.333333333333333E-5, 0.0, 0.0, 4326, 1, 256, 256}|\n",
      "|{-122.936, 48.0, 256, 256, 8.333333333333333E-5, -8.333333333333333E-5, 0.0, 0.0, 4326, 1, 256, 256}           |\n",
      "|{-122.91466666666666, 48.0, 256, 256, 8.333333333333333E-5, -8.333333333333333E-5, 0.0, 0.0, 4326, 1, 256, 256}|\n",
      "|{-122.89333333333333, 48.0, 256, 256, 8.333333333333333E-5, -8.333333333333333E-5, 0.0, 0.0, 4326, 1, 256, 256}|\n",
      "|{-122.872, 48.0, 256, 256, 8.333333333333333E-5, -8.333333333333333E-5, 0.0, 0.0, 4326, 1, 256, 256}           |\n",
      "|{-122.85066666666667, 48.0, 256, 256, 8.333333333333333E-5, -8.333333333333333E-5, 0.0, 0.0, 4326, 1, 256, 256}|\n",
      "|{-122.82933333333334, 48.0, 256, 256, 8.333333333333333E-5, -8.333333333333333E-5, 0.0, 0.0, 4326, 1, 256, 256}|\n",
      "|{-122.808, 48.0, 256, 256, 8.333333333333333E-5, -8.333333333333333E-5, 0.0, 0.0, 4326, 1, 256, 256}           |\n",
      "|{-122.78666666666666, 48.0, 256, 256, 8.333333333333333E-5, -8.333333333333333E-5, 0.0, 0.0, 4326, 1, 256, 256}|\n",
      "|{-122.76533333333333, 48.0, 256, 256, 8.333333333333333E-5, -8.333333333333333E-5, 0.0, 0.0, 4326, 1, 256, 256}|\n",
      "|{-122.744, 48.0, 256, 256, 8.333333333333333E-5, -8.333333333333333E-5, 0.0, 0.0, 4326, 1, 256, 256}           |\n",
      "|{-122.72266666666667, 48.0, 256, 256, 8.333333333333333E-5, -8.333333333333333E-5, 0.0, 0.0, 4326, 1, 256, 256}|\n",
      "|{-122.70133333333334, 48.0, 256, 256, 8.333333333333333E-5, -8.333333333333333E-5, 0.0, 0.0, 4326, 1, 256, 256}|\n",
      "|{-122.68, 48.0, 256, 256, 8.333333333333333E-5, -8.333333333333333E-5, 0.0, 0.0, 4326, 1, 256, 256}            |\n",
      "|{-122.65866666666666, 48.0, 256, 256, 8.333333333333333E-5, -8.333333333333333E-5, 0.0, 0.0, 4326, 1, 256, 256}|\n",
      "|{-122.63733333333333, 48.0, 256, 256, 8.333333333333333E-5, -8.333333333333333E-5, 0.0, 0.0, 4326, 1, 256, 256}|\n",
      "|{-122.616, 48.0, 256, 256, 8.333333333333333E-5, -8.333333333333333E-5, 0.0, 0.0, 4326, 1, 256, 256}           |\n",
      "|{-122.59466666666667, 48.0, 256, 256, 8.333333333333333E-5, -8.333333333333333E-5, 0.0, 0.0, 4326, 1, 256, 256}|\n",
      "+---------------------------------------------------------------------------------------------------------------+\n",
      "only showing top 20 rows\n",
      "\n"
     ]
    },
    {
     "name": "stderr",
     "output_type": "stream",
     "text": [
      "                                                                                \r"
     ]
    }
   ],
   "source": [
    "metadata = sedona.sql('''SELECT RS_MetaData(raster) AS stats\n",
    "FROM landcover_tiles\n",
    "where x = 0 and y = 0''')\n",
    "metadata.show(truncate=False)"
   ]
  },
  {
   "cell_type": "markdown",
   "id": "b8384d8b-7aba-40ab-a680-16c7ad25e3ec",
   "metadata": {},
   "source": [
    "# Part 12: Raster Map Algerbra (NDVI)"
   ]
  },
  {
   "cell_type": "code",
   "execution_count": null,
   "id": "1fdad7ad-42f4-4dab-a211-a2e29ebf44f8",
   "metadata": {},
   "outputs": [],
   "source": [
    "# # https://radiantearth.github.io/stac-browser/#/external/earth-search.aws.element84.com/v1/collections/sentinel-2-l2a/items/S2A_10TET_20250423_0_L2A?.asset=asset-nir"
   ]
  },
  {
   "cell_type": "code",
   "execution_count": 2,
   "id": "12f22723-2baf-481d-b920-089670dfc116",
   "metadata": {},
   "outputs": [],
   "source": [
    "from pyspark.sql import functions as f"
   ]
  },
  {
   "cell_type": "code",
   "execution_count": 3,
   "id": "6c422e00",
   "metadata": {},
   "outputs": [],
   "source": [
    "red_df = sedona.read.format(\"binaryFile\") \\\n",
    "    .load(\"data/B04.tif\")\n",
    "\n",
    "red_df = red_df.withColumn(\"raster\", f.expr(\"RS_FromGeoTiff(content)\"))"
   ]
  },
  {
   "cell_type": "code",
   "execution_count": 4,
   "id": "352678d8",
   "metadata": {},
   "outputs": [],
   "source": [
    "nir_df = sedona.read.format(\"binaryFile\") \\\n",
    "    .load(\"data/B08.tif\")\n",
    "\n",
    "nir_df = nir_df.withColumn(\"raster\", f.expr(\"RS_FromGeoTiff(content)\"))"
   ]
  },
  {
   "cell_type": "code",
   "execution_count": 5,
   "id": "b4f1c23d",
   "metadata": {},
   "outputs": [],
   "source": [
    "red_df.createOrReplaceTempView('red')\n",
    "nir_df.createOrReplaceTempView('nir')"
   ]
  },
  {
   "cell_type": "code",
   "execution_count": 6,
   "id": "8f778442",
   "metadata": {},
   "outputs": [],
   "source": [
    "union = sedona.sql('''\n",
    "select RS_Union(red.raster, nir.raster) as raster from red, nir\n",
    "''')"
   ]
  },
  {
   "cell_type": "code",
   "execution_count": 7,
   "id": "a8327f7d",
   "metadata": {},
   "outputs": [],
   "source": [
    "union.createOrReplaceTempView('union')"
   ]
  },
  {
   "cell_type": "code",
   "execution_count": null,
   "id": "a6459b8a",
   "metadata": {},
   "outputs": [],
   "source": [
    "# NDVI = (NIR - Red) / (NIR + Red)"
   ]
  },
  {
   "cell_type": "code",
   "execution_count": 8,
   "id": "862072fb",
   "metadata": {},
   "outputs": [],
   "source": [
    "ndvi = sedona.sql('''\n",
    "SELECT \n",
    "  RS_MapAlgebra(\n",
    "    raster,                   \n",
    "    'D',             \n",
    "    'out = (rast[1] - rast[0])/(rast[1] + rast[0]);'\n",
    "  ) AS ndvi\n",
    "FROM union\n",
    "''')"
   ]
  },
  {
   "cell_type": "code",
   "execution_count": 9,
   "id": "6d1229b5",
   "metadata": {},
   "outputs": [
    {
     "name": "stderr",
     "output_type": "stream",
     "text": [
      "ANTLR Tool version 4.7.1 used for code generation does not match the current runtime version 4.9.3\n",
      "ANTLR Runtime version 4.7.1 used for parser compilation does not match the current runtime version 4.9.3\n",
      "ANTLR Tool version 4.7.1 used for code generation does not match the current runtime version 4.9.3\n",
      "ANTLR Runtime version 4.7.1 used for parser compilation does not match the current runtime version 4.9.3\n"
     ]
    },
    {
     "name": "stdout",
     "output_type": "stream",
     "text": [
      "+--------------------+\n",
      "|                ndvi|\n",
      "+--------------------+\n",
      "|GridCoverage2D[\"g...|\n",
      "+--------------------+\n",
      "\n"
     ]
    },
    {
     "name": "stderr",
     "output_type": "stream",
     "text": [
      "                                                                                \r"
     ]
    }
   ],
   "source": [
    "ndvi.show()"
   ]
  },
  {
   "cell_type": "code",
   "execution_count": 10,
   "id": "e53d53fe",
   "metadata": {},
   "outputs": [
    {
     "name": "stderr",
     "output_type": "stream",
     "text": [
      "                                                                                \r"
     ]
    },
    {
     "data": {
      "text/html": [
       "<table border=\"1\" class=\"dataframe\">\n",
       "  <thead>\n",
       "    <tr style=\"text-align: right;\">\n",
       "      <th></th>\n",
       "      <th>raster_image</th>\n",
       "    </tr>\n",
       "  </thead>\n",
       "  <tbody>\n",
       "    <tr>\n",
       "      <th>0</th>\n",
       "      <td><img src=\"data:image/png;base64,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\" width=\"500\" /></td>\n",
       "    </tr>\n",
       "  </tbody>\n",
       "</table>"
      ],
      "text/plain": [
       "<IPython.core.display.HTML object>"
      ]
     },
     "metadata": {},
     "output_type": "display_data"
    }
   ],
   "source": [
    "from sedona.spark import SedonaUtils\n",
    "\n",
    "# Convert raster to base64 image for inline visualization\n",
    "htmlDF = ndvi.selectExpr(\"RS_AsImage(ndvi, 500) as raster_image\")\n",
    "\n",
    "# Display in notebook (Jupyter or Databricks)\n",
    "SedonaUtils.display_image(htmlDF)"
   ]
  },
  {
   "cell_type": "markdown",
   "id": "7062fb36",
   "metadata": {},
   "source": [
    "# Part 13: Raster Writer"
   ]
  },
  {
   "cell_type": "code",
   "execution_count": null,
   "id": "866d7127",
   "metadata": {},
   "outputs": [],
   "source": [
    "# ndvi.withColumn(\"raster_binary\", expr(\"RS_AsGeoTiff(ndvi)\"))\\\n",
    "#   .write.format(\"raster\")\\\n",
    "#   .option(\"rasterField\", \"raster_binary\")\\\n",
    "#   .option(\"pathField\", \"path\")\\\n",
    "#   .option(\"fileExtension\", \".tiff\")\\\n",
    "#   .mode(\"overwrite\")\\\n",
    "#   .save(\"my_raster_file\") "
   ]
  },
  {
   "cell_type": "markdown",
   "id": "99fe6216",
   "metadata": {},
   "source": [
    "# Part 14: Zonal Stats"
   ]
  },
  {
   "cell_type": "code",
   "execution_count": 11,
   "id": "4b956f5a",
   "metadata": {},
   "outputs": [],
   "source": [
    "ndvi.createOrReplaceTempView('ndvi')"
   ]
  },
  {
   "cell_type": "code",
   "execution_count": 12,
   "id": "6cc2811b",
   "metadata": {},
   "outputs": [],
   "source": [
    "park = 'POLYGON((-122.3607955072 47.6460058027, -122.3582580324 47.6460058027, -122.3582580324 47.6432482444, -122.3607955072 47.6432482444, -122.3607955072 47.6460058027))'"
   ]
  },
  {
   "cell_type": "code",
   "execution_count": 13,
   "id": "67f86028",
   "metadata": {},
   "outputs": [],
   "source": [
    "parks_ndvi = sedona.sql(f'''\n",
    "select \n",
    "RS_ZonalStats(ndvi.ndvi, st_transform(\n",
    "    st_geomfromtext('{park}'), 'epsg:4326', 'epsg:32610'\n",
    "    ), 1, 'avg', false, false) as avg_ndvi\n",
    "from ndvi\n",
    "''')"
   ]
  },
  {
   "cell_type": "code",
   "execution_count": 14,
   "id": "d5477b49",
   "metadata": {},
   "outputs": [],
   "source": [
    "ndvi = ndvi.repartition(8)"
   ]
  },
  {
   "cell_type": "code",
   "execution_count": 15,
   "id": "0d8e0aa9",
   "metadata": {},
   "outputs": [
    {
     "name": "stderr",
     "output_type": "stream",
     "text": [
      "[Stage 5:>                                                          (0 + 1) / 1]\r"
     ]
    },
    {
     "name": "stdout",
     "output_type": "stream",
     "text": [
      "+------------------+\n",
      "|          avg_ndvi|\n",
      "+------------------+\n",
      "|0.7059917070910219|\n",
      "+------------------+\n",
      "\n"
     ]
    },
    {
     "name": "stderr",
     "output_type": "stream",
     "text": [
      "                                                                                \r"
     ]
    }
   ],
   "source": [
    "parks_ndvi.show(3)"
   ]
  }
 ],
 "metadata": {
  "kernelspec": {
   "display_name": "SedonaDemo",
   "language": "python",
   "name": "sedonademo"
  },
  "language_info": {
   "codemirror_mode": {
    "name": "ipython",
    "version": 3
   },
   "file_extension": ".py",
   "mimetype": "text/x-python",
   "name": "python",
   "nbconvert_exporter": "python",
   "pygments_lexer": "ipython3",
   "version": "3.13.3"
  }
 },
 "nbformat": 4,
 "nbformat_minor": 5
}
