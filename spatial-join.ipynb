{
 "cells": [
  {
   "cell_type": "code",
   "execution_count": null,
   "id": "4f905e1d-5363-46d1-bf17-75b7fb114b28",
   "metadata": {},
   "outputs": [],
   "source": [
    "from sedona.spark import SedonaContext\n",
    "\n",
    "config = (\n",
    "    SedonaContext.builder()\n",
    "    .config(\n",
    "        \"spark.jars.packages\",\n",
    "        \",\".join([\n",
    "            \"org.apache.sedona:sedona-spark-3.5_2.12:1.6.1\",\n",
    "            \"org.datasyslab:geotools-wrapper:1.7.0-28.5\",\n",
    "            \"org.apache.hadoop:hadoop-aws:3.3.2\"\n",
    "        ])\n",
    "    )\n",
    "    .config(\"spark.jars.repositories\", \"https://artifacts.unidata.ucar.edu/repository/unidata-all\")\n",
    "    .config(\"spark.hadoop.fs.s3a.endpoint\", \"https://data.source.coop\") \\\n",
    "    .config(\"spark.hadoop.fs.s3a.access.key\", \"SOURCE_COOP_S3_ACCESS_KEY\") \\\n",
    "    .config(\"spark.hadoop.fs.s3a.secret.key\", \"SOURCE_COOP_S3_SECRET_KEY\") \\\n",
    "    .config(\"spark.hadoop.fs.s3a.connection.ssl.enabled\", \"true\") \\\n",
    "    .config(\"spark.hadoop.fs.s3a.path.style.access\", \"true\") \\\n",
    "    .config(\"spark.hadoop.fs.s3a.impl\", \"org.apache.hadoop.fs.s3a.S3AFileSystem\") \\\n",
    "    .config(\"spark.hadoop.fs.s3a.impl\", \"org.apache.hadoop.fs.s3a.S3AFileSystem\")\n",
    "    .config(\"spark.hadoop.fs.s3a.path.style.access\", \"true\")\n",
    "    # .config(\"spark.hadoop.fs.s3a.aws.credentials.provider\", \n",
    "    #         \"org.apache.hadoop.fs.s3a.AnonymousAWSCredentialsProvider\")  \n",
    "    .config(\"spark.executor.memory\", \"12G\")\n",
    "    .config(\"spark.driver.memory\", \"12G\")\n",
    "    .config(\"spark.sql.shuffle.partitions\", \"2\")\n",
    "    .getOrCreate()\n",
    ")\n",
    "\n",
    "sedona = SedonaContext.create(config)\n",
    "sedona.sparkContext.setLogLevel(\"ERROR\")\n",
    "\n",
    "sedona.conf.set(\"fs.https.impl\", \"org.apache.hadoop.fs.http.HttpsFileSystem\")"
   ]
  },
  {
   "cell_type": "markdown",
   "id": "47a2d5d5-59cd-475e-bf86-5fdb6795de9f",
   "metadata": {},
   "source": [
    "# Simple Area Measurement \n",
    "\n",
    "Let's make sure everything is up and running correctly"
   ]
  },
  {
   "cell_type": "code",
   "execution_count": null,
   "id": "b81695da-dc94-4ba7-9694-b7824cc3a978",
   "metadata": {},
   "outputs": [],
   "source": [
    "sql = \"\"\"\n",
    "SELECT ST_AreaSpheroid(\n",
    "    ST_GeomFromWKT('Polygon ((34 35, 28 30, 25 34, 34 35))')\n",
    ") as result\n",
    "\"\"\""
   ]
  },
  {
   "cell_type": "code",
   "execution_count": null,
   "id": "ac58885b-b8f3-4fac-9fc7-2ca598bb02f1",
   "metadata": {},
   "outputs": [],
   "source": [
    "sedona.sql(sql).show(truncate=False)"
   ]
  },
  {
   "cell_type": "markdown",
   "id": "a529a9c8-3b14-4bf8-b325-879f88d0f290",
   "metadata": {},
   "source": [
    "# Load data for spatial join\n",
    "\n",
    "1. Load in CitiBike trips from [SourceCooperative](https://source.coop/repositories/zluo43/citibike/description)\n",
    "2. Use the NYC Neighborhood Boundaries dataset from [Tim Kiely](https://github.com/HodgesWardElliott/custom-nyc-neighborhoods)"
   ]
  },
  {
   "cell_type": "code",
   "execution_count": null,
   "id": "44a72632-e54f-4370-bf1b-2e87ce80b808",
   "metadata": {},
   "outputs": [],
   "source": [
    "bikes = sedona.read.format('parquet') \\\n",
    "    .load('s3a://zluo43/citibike/new_schema_combined_with_geom.parquet/*/*/*.parquet')"
   ]
  },
  {
   "cell_type": "code",
   "execution_count": null,
   "id": "f315c547-15e0-4488-a62e-a972ecff2066",
   "metadata": {},
   "outputs": [],
   "source": [
    "neighborhoods = sedona.read.format('geoparquet') \\\n",
    "    .load('../data/custom-pedia-cities-nyc-Mar2018.parquet')"
   ]
  },
  {
   "cell_type": "code",
   "execution_count": null,
   "id": "76bb565a-34ba-43a2-bba4-e33f9c9daea0",
   "metadata": {},
   "outputs": [],
   "source": [
    "bikes.count()"
   ]
  },
  {
   "cell_type": "markdown",
   "id": "117a70a0-4458-41ed-89fe-4a1ed24aea4b",
   "metadata": {},
   "source": [
    "# Repartition to improve performance"
   ]
  },
  {
   "cell_type": "code",
   "execution_count": null,
   "id": "da5a7386-94b0-4483-aaf3-058b99acbb34",
   "metadata": {},
   "outputs": [],
   "source": [
    "bikes = bikes.repartition(8)\n",
    "neighborhoods = neighborhoods.repartition(8)"
   ]
  },
  {
   "cell_type": "markdown",
   "id": "03fbfd34-3416-4bdc-a5bf-7e08ac75b964",
   "metadata": {},
   "source": [
    "# Broadcast smaller `neighborhoods` to all nodes"
   ]
  },
  {
   "cell_type": "code",
   "execution_count": null,
   "id": "4eba92e7-e1d2-4368-a1b1-91cc6aada317",
   "metadata": {},
   "outputs": [],
   "source": [
    "from pyspark.sql.functions import broadcast\n",
    "broadcasted_neighborhoods = broadcast(neighborhoods)"
   ]
  },
  {
   "cell_type": "code",
   "execution_count": null,
   "id": "48930026-692a-4cd7-98d0-41198c28cdb6",
   "metadata": {},
   "outputs": [],
   "source": [
    "bikes.createOrReplaceTempView('bikes')\n",
    "broadcasted_neighborhoods.createOrReplaceTempView('neighborhoods')"
   ]
  },
  {
   "cell_type": "code",
   "execution_count": null,
   "id": "37d34ae0-e28a-42aa-8983-f0942fd86d66",
   "metadata": {},
   "outputs": [],
   "source": [
    "data = sedona.sql('''select count(b.ride_id) as rides, n.neighborhood, n.geometry\n",
    "from neighborhoods n\n",
    "join bikes b on st_contains(n.geometry, st_geomfromwkb(b.start_geom))\n",
    "where n.geometry is not null\n",
    "and b.start_geom is not null\n",
    "group by n.neighborhood, n.geometry''')"
   ]
  },
  {
   "cell_type": "code",
   "execution_count": null,
   "id": "e2b423e5-6aca-4fa6-8c93-94da292c55df",
   "metadata": {},
   "outputs": [],
   "source": [
    "%%time\n",
    "data.show()"
   ]
  },
  {
   "cell_type": "markdown",
   "id": "602432e8-7524-442b-b600-e8ebaaf9f796",
   "metadata": {},
   "source": [
    "# Export data to Geopandas to share as GeoJSON"
   ]
  },
  {
   "cell_type": "code",
   "execution_count": null,
   "id": "790cbbaf-450c-411d-af92-c8e969560a3c",
   "metadata": {},
   "outputs": [],
   "source": [
    "import geopandas as gpd"
   ]
  },
  {
   "cell_type": "code",
   "execution_count": null,
   "id": "10af0247-5e9b-422a-92da-60f4bd8b1d44",
   "metadata": {},
   "outputs": [],
   "source": [
    "df = data.toPandas()\n",
    "gdf = gpd.GeoDataFrame(df, geometry=\"geometry\")"
   ]
  },
  {
   "cell_type": "code",
   "execution_count": null,
   "id": "07730a79-b9ee-4079-8beb-2b91d3e7c579",
   "metadata": {},
   "outputs": [],
   "source": [
    "gdf.to_file('bikes.geojson')"
   ]
  }
 ],
 "metadata": {
  "kernelspec": {
   "display_name": "Python 3 (ipykernel)",
   "language": "python",
   "name": "python3"
  },
  "language_info": {
   "codemirror_mode": {
    "name": "ipython",
    "version": 3
   },
   "file_extension": ".py",
   "mimetype": "text/x-python",
   "name": "python",
   "nbconvert_exporter": "python",
   "pygments_lexer": "ipython3",
   "version": "3.12.6"
  }
 },
 "nbformat": 4,
 "nbformat_minor": 5
}
